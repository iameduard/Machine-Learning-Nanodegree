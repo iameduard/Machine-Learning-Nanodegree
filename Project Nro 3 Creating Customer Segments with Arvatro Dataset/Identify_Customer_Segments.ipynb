{
 "cells": [
  {
   "cell_type": "markdown",
   "metadata": {},
   "source": [
    "# Project: Identify Customer Segments\n",
    "\n",
    "In this project, you will apply unsupervised learning techniques to identify segments of the population that form the core customer base for a mail-order sales company in Germany. These segments can then be used to direct marketing campaigns towards audiences that will have the highest expected rate of returns. The data that you will use has been provided by our partners at Bertelsmann Arvato Analytics, and represents a real-life data science task.\n",
    "\n",
    "This notebook will help you complete this task by providing a framework within which you will perform your analysis steps. In each step of the project, you will see some text describing the subtask that you will perform, followed by one or more code cells for you to complete your work. **Feel free to add additional code and markdown cells as you go along so that you can explore everything in precise chunks.** The code cells provided in the base template will outline only the major tasks, and will usually not be enough to cover all of the minor tasks that comprise it.\n",
    "\n",
    "It should be noted that while there will be precise guidelines on how you should handle certain tasks in the project, there will also be places where an exact specification is not provided. **There will be times in the project where you will need to make and justify your own decisions on how to treat the data.** These are places where there may not be only one way to handle the data. In real-life tasks, there may be many valid ways to approach an analysis task. One of the most important things you can do is clearly document your approach so that other scientists can understand the decisions you've made.\n",
    "\n",
    "At the end of most sections, there will be a Markdown cell labeled **Discussion**. In these cells, you will report your findings for the completed section, as well as document the decisions that you made in your approach to each subtask. **Your project will be evaluated not just on the code used to complete the tasks outlined, but also your communication about your observations and conclusions at each stage.**"
   ]
  },
  {
   "cell_type": "code",
   "execution_count": 1,
   "metadata": {},
   "outputs": [
    {
     "data": {
      "text/plain": [
       "'\\nImport note: The classroom currently uses sklearn version 0.19.\\nIf you need to use an imputer, it is available in sklearn.preprocessing.Imputer,\\ninstead of sklearn.impute as in newer versions of sklearn.\\n'"
      ]
     },
     "execution_count": 1,
     "metadata": {},
     "output_type": "execute_result"
    }
   ],
   "source": [
    "# import libraries here; add more as necessary\n",
    "import numpy as np\n",
    "import pandas as pd\n",
    "import matplotlib.pyplot as plt\n",
    "import seaborn as sns\n",
    "from sklearn.preprocessing import OneHotEncoder, Imputer, StandardScaler\n",
    "from sklearn.decomposition import PCA\n",
    "from sklearn.cluster import KMeans\n",
    "# magic word for producing visualizations in notebook\n",
    "%matplotlib inline\n",
    "\n",
    "'''\n",
    "Import note: The classroom currently uses sklearn version 0.19.\n",
    "If you need to use an imputer, it is available in sklearn.preprocessing.Imputer,\n",
    "instead of sklearn.impute as in newer versions of sklearn.\n",
    "'''"
   ]
  },
  {
   "cell_type": "markdown",
   "metadata": {},
   "source": [
    "### Step 0: Load the Data\n",
    "\n",
    "There are four files associated with this project (not including this one):\n",
    "\n",
    "- `Udacity_AZDIAS_Subset.csv`: Demographics data for the general population of Germany; 891211 persons (rows) x 85 features (columns).\n",
    "- `Udacity_CUSTOMERS_Subset.csv`: Demographics data for customers of a mail-order company; 191652 persons (rows) x 85 features (columns).\n",
    "- `Data_Dictionary.md`: Detailed information file about the features in the provided datasets.\n",
    "- `AZDIAS_Feature_Summary.csv`: Summary of feature attributes for demographics data; 85 features (rows) x 4 columns\n",
    "\n",
    "Each row of the demographics files represents a single person, but also includes information outside of individuals, including information about their household, building, and neighborhood. You will use this information to cluster the general population into groups with similar demographic properties. Then, you will see how the people in the customers dataset fit into those created clusters. The hope here is that certain clusters are over-represented in the customers data, as compared to the general population; those over-represented clusters will be assumed to be part of the core userbase. This information can then be used for further applications, such as targeting for a marketing campaign.\n",
    "\n",
    "To start off with, load in the demographics data for the general population into a pandas DataFrame, and do the same for the feature attributes summary. Note for all of the `.csv` data files in this project: they're semicolon (`;`) delimited, so you'll need an additional argument in your [`read_csv()`](https://pandas.pydata.org/pandas-docs/stable/generated/pandas.read_csv.html) call to read in the data properly. Also, considering the size of the main dataset, it may take some time for it to load completely.\n",
    "\n",
    "Once the dataset is loaded, it's recommended that you take a little bit of time just browsing the general structure of the dataset and feature summary file. You'll be getting deep into the innards of the cleaning in the first major step of the project, so gaining some general familiarity can help you get your bearings."
   ]
  },
  {
   "cell_type": "code",
   "execution_count": 2,
   "metadata": {},
   "outputs": [],
   "source": [
    "# Load in the general demographics data.\n",
    "azdias = pd.read_csv('Udacity_AZDIAS_Subset.csv',sep=';')\n",
    "\n",
    "# Load in the feature summary file.\n",
    "feat_info = pd.read_csv('AZDIAS_Feature_Summary.csv',sep=';')"
   ]
  },
  {
   "cell_type": "code",
   "execution_count": 3,
   "metadata": {},
   "outputs": [
    {
     "name": "stdout",
     "output_type": "stream",
     "text": [
      "(891221, 85)\n",
      "   AGER_TYP  ALTERSKATEGORIE_GROB  ANREDE_KZ  CJT_GESAMTTYP  \\\n",
      "0        -1                     2          1            2.0   \n",
      "1        -1                     1          2            5.0   \n",
      "2        -1                     3          2            3.0   \n",
      "3         2                     4          2            2.0   \n",
      "4        -1                     3          1            5.0   \n",
      "\n",
      "   FINANZ_MINIMALIST  FINANZ_SPARER  FINANZ_VORSORGER  FINANZ_ANLEGER  \\\n",
      "0                  3              4                 3               5   \n",
      "1                  1              5                 2               5   \n",
      "2                  1              4                 1               2   \n",
      "3                  4              2                 5               2   \n",
      "4                  4              3                 4               1   \n",
      "\n",
      "   FINANZ_UNAUFFAELLIGER  FINANZ_HAUSBAUER    ...     PLZ8_ANTG1  PLZ8_ANTG2  \\\n",
      "0                      5                 3    ...            NaN         NaN   \n",
      "1                      4                 5    ...            2.0         3.0   \n",
      "2                      3                 5    ...            3.0         3.0   \n",
      "3                      1                 2    ...            2.0         2.0   \n",
      "4                      3                 2    ...            2.0         4.0   \n",
      "\n",
      "   PLZ8_ANTG3  PLZ8_ANTG4  PLZ8_BAUMAX  PLZ8_HHZ  PLZ8_GBZ  ARBEIT  \\\n",
      "0         NaN         NaN          NaN       NaN       NaN     NaN   \n",
      "1         2.0         1.0          1.0       5.0       4.0     3.0   \n",
      "2         1.0         0.0          1.0       4.0       4.0     3.0   \n",
      "3         2.0         0.0          1.0       3.0       4.0     2.0   \n",
      "4         2.0         1.0          2.0       3.0       3.0     4.0   \n",
      "\n",
      "   ORTSGR_KLS9  RELAT_AB  \n",
      "0          NaN       NaN  \n",
      "1          5.0       4.0  \n",
      "2          5.0       2.0  \n",
      "3          3.0       3.0  \n",
      "4          6.0       5.0  \n",
      "\n",
      "[5 rows x 85 columns]\n",
      "(85, 4)\n"
     ]
    }
   ],
   "source": [
    "# Check the structure of the data after it's loaded (e.g. print the number of\n",
    "# rows and columns, print the first few rows).\n",
    "print(azdias.shape)\n",
    "print(azdias.head())\n",
    "print(feat_info.shape)"
   ]
  },
  {
   "cell_type": "markdown",
   "metadata": {},
   "source": [
    "> **Tip**: Add additional cells to keep everything in reasonably-sized chunks! Keyboard shortcut `esc --> a` (press escape to enter command mode, then press the 'A' key) adds a new cell before the active cell, and `esc --> b` adds a new cell after the active cell. If you need to convert an active cell to a markdown cell, use `esc --> m` and to convert to a code cell, use `esc --> y`. \n",
    "\n",
    "## Step 1: Preprocessing\n",
    "\n",
    "### Step 1.1: Assess Missing Data\n",
    "\n",
    "The feature summary file contains a summary of properties for each demographics data column. You will use this file to help you make cleaning decisions during this stage of the project. First of all, you should assess the demographics data in terms of missing data. Pay attention to the following points as you perform your analysis, and take notes on what you observe. Make sure that you fill in the **Discussion** cell with your findings and decisions at the end of each step that has one!\n",
    "\n",
    "#### Step 1.1.1: Convert Missing Value Codes to NaNs\n",
    "The fourth column of the feature attributes summary (loaded in above as `feat_info`) documents the codes from the data dictionary that indicate missing or unknown data. While the file encodes this as a list (e.g. `[-1,0]`), this will get read in as a string object. You'll need to do a little bit of parsing to make use of it to identify and clean the data. Convert data that matches a 'missing' or 'unknown' value code into a numpy NaN value. You might want to see how much data takes on a 'missing' or 'unknown' code, and how much data is naturally missing, as a point of interest.\n",
    "\n",
    "**As one more reminder, you are encouraged to add additional cells to break up your analysis into manageable chunks.**"
   ]
  },
  {
   "cell_type": "code",
   "execution_count": 5,
   "metadata": {},
   "outputs": [],
   "source": [
    "azdias_BACK = azdias.copy()"
   ]
  },
  {
   "cell_type": "code",
   "execution_count": 6,
   "metadata": {},
   "outputs": [],
   "source": [
    "def _f(df,col,x):\n",
    "    if df[col].dtypes=='O':\n",
    "        res=x\n",
    "    if df[col].dtypes==int:\n",
    "        res=int(x)\n",
    "    if df[col].dtypes==float:\n",
    "        res=float(x)\n",
    "    return res"
   ]
  },
  {
   "cell_type": "code",
   "execution_count": 7,
   "metadata": {},
   "outputs": [],
   "source": [
    "# Identify missing or unknown data values and convert them to NaNs.\n",
    "\n",
    "for missrule in feat_info[['attribute','missing_or_unknown']].values:\n",
    "    if(missrule[1]!='[]'):\n",
    "        cond={missrule[0]:{_f(azdias,missrule[0],k):np.nan for k in missrule[1].replace('[','').replace(']','').split(',')}}\n",
    "#         print(cond)\n",
    "        azdias.replace(cond,inplace=True)"
   ]
  },
  {
   "cell_type": "code",
   "execution_count": 8,
   "metadata": {},
   "outputs": [
    {
     "data": {
      "text/html": [
       "<div>\n",
       "<style scoped>\n",
       "    .dataframe tbody tr th:only-of-type {\n",
       "        vertical-align: middle;\n",
       "    }\n",
       "\n",
       "    .dataframe tbody tr th {\n",
       "        vertical-align: top;\n",
       "    }\n",
       "\n",
       "    .dataframe thead th {\n",
       "        text-align: right;\n",
       "    }\n",
       "</style>\n",
       "<table border=\"1\" class=\"dataframe\">\n",
       "  <thead>\n",
       "    <tr style=\"text-align: right;\">\n",
       "      <th></th>\n",
       "      <th>AGER_TYP</th>\n",
       "      <th>ALTERSKATEGORIE_GROB</th>\n",
       "      <th>ANREDE_KZ</th>\n",
       "      <th>CJT_GESAMTTYP</th>\n",
       "      <th>FINANZ_MINIMALIST</th>\n",
       "      <th>FINANZ_SPARER</th>\n",
       "      <th>FINANZ_VORSORGER</th>\n",
       "      <th>FINANZ_ANLEGER</th>\n",
       "      <th>FINANZ_UNAUFFAELLIGER</th>\n",
       "      <th>FINANZ_HAUSBAUER</th>\n",
       "      <th>...</th>\n",
       "      <th>PLZ8_ANTG1</th>\n",
       "      <th>PLZ8_ANTG2</th>\n",
       "      <th>PLZ8_ANTG3</th>\n",
       "      <th>PLZ8_ANTG4</th>\n",
       "      <th>PLZ8_BAUMAX</th>\n",
       "      <th>PLZ8_HHZ</th>\n",
       "      <th>PLZ8_GBZ</th>\n",
       "      <th>ARBEIT</th>\n",
       "      <th>ORTSGR_KLS9</th>\n",
       "      <th>RELAT_AB</th>\n",
       "    </tr>\n",
       "  </thead>\n",
       "  <tbody>\n",
       "    <tr>\n",
       "      <th>0</th>\n",
       "      <td>NaN</td>\n",
       "      <td>2.0</td>\n",
       "      <td>1</td>\n",
       "      <td>2.0</td>\n",
       "      <td>3</td>\n",
       "      <td>4</td>\n",
       "      <td>3</td>\n",
       "      <td>5</td>\n",
       "      <td>5</td>\n",
       "      <td>3</td>\n",
       "      <td>...</td>\n",
       "      <td>NaN</td>\n",
       "      <td>NaN</td>\n",
       "      <td>NaN</td>\n",
       "      <td>NaN</td>\n",
       "      <td>NaN</td>\n",
       "      <td>NaN</td>\n",
       "      <td>NaN</td>\n",
       "      <td>NaN</td>\n",
       "      <td>NaN</td>\n",
       "      <td>NaN</td>\n",
       "    </tr>\n",
       "    <tr>\n",
       "      <th>1</th>\n",
       "      <td>NaN</td>\n",
       "      <td>1.0</td>\n",
       "      <td>2</td>\n",
       "      <td>5.0</td>\n",
       "      <td>1</td>\n",
       "      <td>5</td>\n",
       "      <td>2</td>\n",
       "      <td>5</td>\n",
       "      <td>4</td>\n",
       "      <td>5</td>\n",
       "      <td>...</td>\n",
       "      <td>2.0</td>\n",
       "      <td>3.0</td>\n",
       "      <td>2.0</td>\n",
       "      <td>1.0</td>\n",
       "      <td>1.0</td>\n",
       "      <td>5.0</td>\n",
       "      <td>4.0</td>\n",
       "      <td>3.0</td>\n",
       "      <td>5.0</td>\n",
       "      <td>4.0</td>\n",
       "    </tr>\n",
       "    <tr>\n",
       "      <th>2</th>\n",
       "      <td>NaN</td>\n",
       "      <td>3.0</td>\n",
       "      <td>2</td>\n",
       "      <td>3.0</td>\n",
       "      <td>1</td>\n",
       "      <td>4</td>\n",
       "      <td>1</td>\n",
       "      <td>2</td>\n",
       "      <td>3</td>\n",
       "      <td>5</td>\n",
       "      <td>...</td>\n",
       "      <td>3.0</td>\n",
       "      <td>3.0</td>\n",
       "      <td>1.0</td>\n",
       "      <td>0.0</td>\n",
       "      <td>1.0</td>\n",
       "      <td>4.0</td>\n",
       "      <td>4.0</td>\n",
       "      <td>3.0</td>\n",
       "      <td>5.0</td>\n",
       "      <td>2.0</td>\n",
       "    </tr>\n",
       "    <tr>\n",
       "      <th>3</th>\n",
       "      <td>2.0</td>\n",
       "      <td>4.0</td>\n",
       "      <td>2</td>\n",
       "      <td>2.0</td>\n",
       "      <td>4</td>\n",
       "      <td>2</td>\n",
       "      <td>5</td>\n",
       "      <td>2</td>\n",
       "      <td>1</td>\n",
       "      <td>2</td>\n",
       "      <td>...</td>\n",
       "      <td>2.0</td>\n",
       "      <td>2.0</td>\n",
       "      <td>2.0</td>\n",
       "      <td>0.0</td>\n",
       "      <td>1.0</td>\n",
       "      <td>3.0</td>\n",
       "      <td>4.0</td>\n",
       "      <td>2.0</td>\n",
       "      <td>3.0</td>\n",
       "      <td>3.0</td>\n",
       "    </tr>\n",
       "    <tr>\n",
       "      <th>4</th>\n",
       "      <td>NaN</td>\n",
       "      <td>3.0</td>\n",
       "      <td>1</td>\n",
       "      <td>5.0</td>\n",
       "      <td>4</td>\n",
       "      <td>3</td>\n",
       "      <td>4</td>\n",
       "      <td>1</td>\n",
       "      <td>3</td>\n",
       "      <td>2</td>\n",
       "      <td>...</td>\n",
       "      <td>2.0</td>\n",
       "      <td>4.0</td>\n",
       "      <td>2.0</td>\n",
       "      <td>1.0</td>\n",
       "      <td>2.0</td>\n",
       "      <td>3.0</td>\n",
       "      <td>3.0</td>\n",
       "      <td>4.0</td>\n",
       "      <td>6.0</td>\n",
       "      <td>5.0</td>\n",
       "    </tr>\n",
       "    <tr>\n",
       "      <th>5</th>\n",
       "      <td>3.0</td>\n",
       "      <td>1.0</td>\n",
       "      <td>2</td>\n",
       "      <td>2.0</td>\n",
       "      <td>3</td>\n",
       "      <td>1</td>\n",
       "      <td>5</td>\n",
       "      <td>2</td>\n",
       "      <td>2</td>\n",
       "      <td>5</td>\n",
       "      <td>...</td>\n",
       "      <td>2.0</td>\n",
       "      <td>3.0</td>\n",
       "      <td>1.0</td>\n",
       "      <td>1.0</td>\n",
       "      <td>1.0</td>\n",
       "      <td>5.0</td>\n",
       "      <td>5.0</td>\n",
       "      <td>2.0</td>\n",
       "      <td>3.0</td>\n",
       "      <td>3.0</td>\n",
       "    </tr>\n",
       "    <tr>\n",
       "      <th>6</th>\n",
       "      <td>NaN</td>\n",
       "      <td>2.0</td>\n",
       "      <td>2</td>\n",
       "      <td>5.0</td>\n",
       "      <td>1</td>\n",
       "      <td>5</td>\n",
       "      <td>1</td>\n",
       "      <td>5</td>\n",
       "      <td>4</td>\n",
       "      <td>3</td>\n",
       "      <td>...</td>\n",
       "      <td>3.0</td>\n",
       "      <td>3.0</td>\n",
       "      <td>1.0</td>\n",
       "      <td>0.0</td>\n",
       "      <td>1.0</td>\n",
       "      <td>5.0</td>\n",
       "      <td>5.0</td>\n",
       "      <td>4.0</td>\n",
       "      <td>6.0</td>\n",
       "      <td>3.0</td>\n",
       "    </tr>\n",
       "    <tr>\n",
       "      <th>7</th>\n",
       "      <td>NaN</td>\n",
       "      <td>1.0</td>\n",
       "      <td>1</td>\n",
       "      <td>3.0</td>\n",
       "      <td>3</td>\n",
       "      <td>3</td>\n",
       "      <td>4</td>\n",
       "      <td>1</td>\n",
       "      <td>3</td>\n",
       "      <td>2</td>\n",
       "      <td>...</td>\n",
       "      <td>3.0</td>\n",
       "      <td>3.0</td>\n",
       "      <td>1.0</td>\n",
       "      <td>0.0</td>\n",
       "      <td>1.0</td>\n",
       "      <td>4.0</td>\n",
       "      <td>4.0</td>\n",
       "      <td>2.0</td>\n",
       "      <td>5.0</td>\n",
       "      <td>2.0</td>\n",
       "    </tr>\n",
       "    <tr>\n",
       "      <th>8</th>\n",
       "      <td>NaN</td>\n",
       "      <td>3.0</td>\n",
       "      <td>1</td>\n",
       "      <td>3.0</td>\n",
       "      <td>4</td>\n",
       "      <td>4</td>\n",
       "      <td>2</td>\n",
       "      <td>4</td>\n",
       "      <td>2</td>\n",
       "      <td>2</td>\n",
       "      <td>...</td>\n",
       "      <td>2.0</td>\n",
       "      <td>3.0</td>\n",
       "      <td>2.0</td>\n",
       "      <td>1.0</td>\n",
       "      <td>1.0</td>\n",
       "      <td>3.0</td>\n",
       "      <td>3.0</td>\n",
       "      <td>2.0</td>\n",
       "      <td>4.0</td>\n",
       "      <td>3.0</td>\n",
       "    </tr>\n",
       "    <tr>\n",
       "      <th>9</th>\n",
       "      <td>NaN</td>\n",
       "      <td>3.0</td>\n",
       "      <td>2</td>\n",
       "      <td>4.0</td>\n",
       "      <td>2</td>\n",
       "      <td>4</td>\n",
       "      <td>2</td>\n",
       "      <td>3</td>\n",
       "      <td>5</td>\n",
       "      <td>4</td>\n",
       "      <td>...</td>\n",
       "      <td>2.0</td>\n",
       "      <td>3.0</td>\n",
       "      <td>2.0</td>\n",
       "      <td>1.0</td>\n",
       "      <td>1.0</td>\n",
       "      <td>3.0</td>\n",
       "      <td>3.0</td>\n",
       "      <td>2.0</td>\n",
       "      <td>3.0</td>\n",
       "      <td>1.0</td>\n",
       "    </tr>\n",
       "  </tbody>\n",
       "</table>\n",
       "<p>10 rows × 85 columns</p>\n",
       "</div>"
      ],
      "text/plain": [
       "   AGER_TYP  ALTERSKATEGORIE_GROB  ANREDE_KZ  CJT_GESAMTTYP  \\\n",
       "0       NaN                   2.0          1            2.0   \n",
       "1       NaN                   1.0          2            5.0   \n",
       "2       NaN                   3.0          2            3.0   \n",
       "3       2.0                   4.0          2            2.0   \n",
       "4       NaN                   3.0          1            5.0   \n",
       "5       3.0                   1.0          2            2.0   \n",
       "6       NaN                   2.0          2            5.0   \n",
       "7       NaN                   1.0          1            3.0   \n",
       "8       NaN                   3.0          1            3.0   \n",
       "9       NaN                   3.0          2            4.0   \n",
       "\n",
       "   FINANZ_MINIMALIST  FINANZ_SPARER  FINANZ_VORSORGER  FINANZ_ANLEGER  \\\n",
       "0                  3              4                 3               5   \n",
       "1                  1              5                 2               5   \n",
       "2                  1              4                 1               2   \n",
       "3                  4              2                 5               2   \n",
       "4                  4              3                 4               1   \n",
       "5                  3              1                 5               2   \n",
       "6                  1              5                 1               5   \n",
       "7                  3              3                 4               1   \n",
       "8                  4              4                 2               4   \n",
       "9                  2              4                 2               3   \n",
       "\n",
       "   FINANZ_UNAUFFAELLIGER  FINANZ_HAUSBAUER    ...     PLZ8_ANTG1  PLZ8_ANTG2  \\\n",
       "0                      5                 3    ...            NaN         NaN   \n",
       "1                      4                 5    ...            2.0         3.0   \n",
       "2                      3                 5    ...            3.0         3.0   \n",
       "3                      1                 2    ...            2.0         2.0   \n",
       "4                      3                 2    ...            2.0         4.0   \n",
       "5                      2                 5    ...            2.0         3.0   \n",
       "6                      4                 3    ...            3.0         3.0   \n",
       "7                      3                 2    ...            3.0         3.0   \n",
       "8                      2                 2    ...            2.0         3.0   \n",
       "9                      5                 4    ...            2.0         3.0   \n",
       "\n",
       "   PLZ8_ANTG3  PLZ8_ANTG4  PLZ8_BAUMAX  PLZ8_HHZ  PLZ8_GBZ  ARBEIT  \\\n",
       "0         NaN         NaN          NaN       NaN       NaN     NaN   \n",
       "1         2.0         1.0          1.0       5.0       4.0     3.0   \n",
       "2         1.0         0.0          1.0       4.0       4.0     3.0   \n",
       "3         2.0         0.0          1.0       3.0       4.0     2.0   \n",
       "4         2.0         1.0          2.0       3.0       3.0     4.0   \n",
       "5         1.0         1.0          1.0       5.0       5.0     2.0   \n",
       "6         1.0         0.0          1.0       5.0       5.0     4.0   \n",
       "7         1.0         0.0          1.0       4.0       4.0     2.0   \n",
       "8         2.0         1.0          1.0       3.0       3.0     2.0   \n",
       "9         2.0         1.0          1.0       3.0       3.0     2.0   \n",
       "\n",
       "   ORTSGR_KLS9  RELAT_AB  \n",
       "0          NaN       NaN  \n",
       "1          5.0       4.0  \n",
       "2          5.0       2.0  \n",
       "3          3.0       3.0  \n",
       "4          6.0       5.0  \n",
       "5          3.0       3.0  \n",
       "6          6.0       3.0  \n",
       "7          5.0       2.0  \n",
       "8          4.0       3.0  \n",
       "9          3.0       1.0  \n",
       "\n",
       "[10 rows x 85 columns]"
      ]
     },
     "execution_count": 8,
     "metadata": {},
     "output_type": "execute_result"
    }
   ],
   "source": [
    "azdias.head(10)"
   ]
  },
  {
   "cell_type": "code",
   "execution_count": 9,
   "metadata": {},
   "outputs": [
    {
     "name": "stdout",
     "output_type": "stream",
     "text": [
      "Number of missings values:  8373929\n"
     ]
    }
   ],
   "source": [
    "print('Number of missings values: ',azdias.isna().sum().sum())"
   ]
  },
  {
   "cell_type": "markdown",
   "metadata": {},
   "source": [
    "#### Step 1.1.2: Assess Missing Data in Each Column\n",
    "\n",
    "How much missing data is present in each column? There are a few columns that are outliers in terms of the proportion of values that are missing. You will want to use matplotlib's [`hist()`](https://matplotlib.org/api/_as_gen/matplotlib.pyplot.hist.html) function to visualize the distribution of missing value counts to find these columns. Identify and document these columns. While some of these columns might have justifications for keeping or re-encoding the data, for this project you should just remove them from the dataframe. (Feel free to make remarks about these outlier columns in the discussion, however!)\n",
    "\n",
    "For the remaining features, are there any patterns in which columns have, or share, missing data?"
   ]
  },
  {
   "cell_type": "code",
   "execution_count": 10,
   "metadata": {},
   "outputs": [],
   "source": [
    "hist_data=[]\n",
    "hist_x=[]\n",
    "hist_y=[]\n",
    "missins={}\n",
    "for col in azdias.columns:\n",
    "    nnuls=azdias[col].isnull().mean()\n",
    "    missins[col]=nnuls\n",
    "    hist_x.append(col)\n",
    "    hist_y.append(nnuls)"
   ]
  },
  {
   "cell_type": "code",
   "execution_count": 11,
   "metadata": {},
   "outputs": [],
   "source": [
    "# Perform an assessment of how much missing data there is in each column of the\n",
    "# dataset.\n",
    "\n",
    "df_missins=pd.DataFrame(data=list(missins.items()),columns=['field','pct'])"
   ]
  },
  {
   "cell_type": "code",
   "execution_count": 12,
   "metadata": {},
   "outputs": [
    {
     "data": {
      "text/html": [
       "<div>\n",
       "<style scoped>\n",
       "    .dataframe tbody tr th:only-of-type {\n",
       "        vertical-align: middle;\n",
       "    }\n",
       "\n",
       "    .dataframe tbody tr th {\n",
       "        vertical-align: top;\n",
       "    }\n",
       "\n",
       "    .dataframe thead th {\n",
       "        text-align: right;\n",
       "    }\n",
       "</style>\n",
       "<table border=\"1\" class=\"dataframe\">\n",
       "  <thead>\n",
       "    <tr style=\"text-align: right;\">\n",
       "      <th></th>\n",
       "      <th>field</th>\n",
       "      <th>pct</th>\n",
       "    </tr>\n",
       "  </thead>\n",
       "  <tbody>\n",
       "    <tr>\n",
       "      <th>0</th>\n",
       "      <td>AGER_TYP</td>\n",
       "      <td>0.769554</td>\n",
       "    </tr>\n",
       "    <tr>\n",
       "      <th>1</th>\n",
       "      <td>ALTERSKATEGORIE_GROB</td>\n",
       "      <td>0.003233</td>\n",
       "    </tr>\n",
       "    <tr>\n",
       "      <th>2</th>\n",
       "      <td>ANREDE_KZ</td>\n",
       "      <td>0.000000</td>\n",
       "    </tr>\n",
       "    <tr>\n",
       "      <th>3</th>\n",
       "      <td>CJT_GESAMTTYP</td>\n",
       "      <td>0.005446</td>\n",
       "    </tr>\n",
       "    <tr>\n",
       "      <th>4</th>\n",
       "      <td>FINANZ_MINIMALIST</td>\n",
       "      <td>0.000000</td>\n",
       "    </tr>\n",
       "    <tr>\n",
       "      <th>5</th>\n",
       "      <td>FINANZ_SPARER</td>\n",
       "      <td>0.000000</td>\n",
       "    </tr>\n",
       "    <tr>\n",
       "      <th>6</th>\n",
       "      <td>FINANZ_VORSORGER</td>\n",
       "      <td>0.000000</td>\n",
       "    </tr>\n",
       "    <tr>\n",
       "      <th>7</th>\n",
       "      <td>FINANZ_ANLEGER</td>\n",
       "      <td>0.000000</td>\n",
       "    </tr>\n",
       "    <tr>\n",
       "      <th>8</th>\n",
       "      <td>FINANZ_UNAUFFAELLIGER</td>\n",
       "      <td>0.000000</td>\n",
       "    </tr>\n",
       "    <tr>\n",
       "      <th>9</th>\n",
       "      <td>FINANZ_HAUSBAUER</td>\n",
       "      <td>0.000000</td>\n",
       "    </tr>\n",
       "  </tbody>\n",
       "</table>\n",
       "</div>"
      ],
      "text/plain": [
       "                   field       pct\n",
       "0               AGER_TYP  0.769554\n",
       "1   ALTERSKATEGORIE_GROB  0.003233\n",
       "2              ANREDE_KZ  0.000000\n",
       "3          CJT_GESAMTTYP  0.005446\n",
       "4      FINANZ_MINIMALIST  0.000000\n",
       "5          FINANZ_SPARER  0.000000\n",
       "6       FINANZ_VORSORGER  0.000000\n",
       "7         FINANZ_ANLEGER  0.000000\n",
       "8  FINANZ_UNAUFFAELLIGER  0.000000\n",
       "9       FINANZ_HAUSBAUER  0.000000"
      ]
     },
     "execution_count": 12,
     "metadata": {},
     "output_type": "execute_result"
    }
   ],
   "source": [
    "df_missins.head(10)"
   ]
  },
  {
   "cell_type": "code",
   "execution_count": 13,
   "metadata": {},
   "outputs": [
    {
     "data": {
      "text/plain": [
       "array([[<matplotlib.axes._subplots.AxesSubplot object at 0x7fd38d4b0ba8>]], dtype=object)"
      ]
     },
     "execution_count": 13,
     "metadata": {},
     "output_type": "execute_result"
    },
    {
     "data": {
      "image/png": "[encoded data removed]",
      "text/plain": [
       "<matplotlib.figure.Figure at 0x7fd38d4c11d0>"
      ]
     },
     "metadata": {
      "needs_background": "light"
     },
     "output_type": "display_data"
    }
   ],
   "source": [
    "# Investigate patterns in the amount of missing data in each column.\n",
    "plt.rcParams[\"figure.figsize\"] = (20,5)\n",
    "df_missins.hist(bins=100)"
   ]
  },
  {
   "cell_type": "markdown",
   "metadata": {},
   "source": [
    "The attached histogram shows that there are a few columns with a percentage greater than 20% of missing values, while in most cases the missing values are equal to or less than 20%."
   ]
  },
  {
   "cell_type": "code",
   "execution_count": 14,
   "metadata": {},
   "outputs": [
    {
     "data": {
      "image/png": "[encoded data removed]",
      "text/plain": [
       "<matplotlib.figure.Figure at 0x7fd368cff710>"
      ]
     },
     "metadata": {
      "needs_background": "light"
     },
     "output_type": "display_data"
    }
   ],
   "source": [
    "cut=0.25\n",
    "hist_y_color = [{y<cut: 'blue', y>cut: 'red'}[True] for y in hist_y]\n",
    "plt.bar(hist_x,hist_y, color=hist_y_color)\n",
    "plt.xticks(rotation=90)\n",
    "plt.ylim([0,1])\n",
    "plt.show()"
   ]
  },
  {
   "cell_type": "code",
   "execution_count": 15,
   "metadata": {},
   "outputs": [
    {
     "data": {
      "text/plain": [
       "array(['AGER_TYP', 'GEBURTSJAHR', 'TITEL_KZ', 'ALTER_HH', 'KK_KUNDENTYP',\n",
       "       'KBA05_BAUMAX'], dtype=object)"
      ]
     },
     "execution_count": 15,
     "metadata": {},
     "output_type": "execute_result"
    }
   ],
   "source": [
    "drop_cols = df_missins[df_missins['pct']>0.25]['field'].values\n",
    "drop_cols"
   ]
  },
  {
   "cell_type": "code",
   "execution_count": 16,
   "metadata": {},
   "outputs": [
    {
     "data": {
      "text/plain": [
       "(6,)"
      ]
     },
     "execution_count": 16,
     "metadata": {},
     "output_type": "execute_result"
    }
   ],
   "source": [
    "drop_cols.shape"
   ]
  },
  {
   "cell_type": "code",
   "execution_count": 17,
   "metadata": {},
   "outputs": [],
   "source": [
    "# Remove the outlier columns from the dataset. (You'll perform other data\n",
    "# engineering tasks such as re-encoding and imputation later.)\n",
    "\n",
    "azdias.drop(drop_cols,axis=1,inplace=True)"
   ]
  },
  {
   "cell_type": "code",
   "execution_count": 18,
   "metadata": {},
   "outputs": [],
   "source": [
    "df_missins = df_missins[df_missins['field'].isin(azdias.columns)]"
   ]
  },
  {
   "cell_type": "markdown",
   "metadata": {},
   "source": [
    "#### Discussion 1.1.2: Assess Missing Data in Each Column\n",
    "\n",
    "(Double click this cell and replace this text with your own text, reporting your observations regarding the amount of missing data in each column. Are there any patterns in missing values? Which columns were removed from the dataset?)\n",
    "<br><br>\n",
    "<b>\n",
    "The 90% of dataframe's columns have less than 20% missing values and 28% have no missing value at all.\n",
    "\n",
    "The following columns will be removed for having a percentage of missings values greater than 0.25%:\n",
    "\n",
    "<pre>\n",
    "'AGER_TYP', 'GEBURTSJAHR', 'TITEL_KZ', 'ALTER_HH', 'KK_KUNDENTYP','KBA05_BAUMAX\n",
    "</pre>\n",
    "<b/>"
   ]
  },
  {
   "cell_type": "markdown",
   "metadata": {},
   "source": [
    "#### Step 1.1.3: Assess Missing Data in Each Row\n",
    "\n",
    "Now, you'll perform a similar assessment for the rows of the dataset. How much data is missing in each row? As with the columns, you should see some groups of points that have a very different numbers of missing values. Divide the data into two subsets: one for data points that are above some threshold for missing values, and a second subset for points below that threshold.\n",
    "\n",
    "In order to know what to do with the outlier rows, we should see if the distribution of data values on columns that are not missing data (or are missing very little data) are similar or different between the two groups. Select at least five of these columns and compare the distribution of values.\n",
    "- You can use seaborn's [`countplot()`](https://seaborn.pydata.org/generated/seaborn.countplot.html) function to create a bar chart of code frequencies and matplotlib's [`subplot()`](https://matplotlib.org/api/_as_gen/matplotlib.pyplot.subplot.html) function to put bar charts for the two subplots side by side.\n",
    "- To reduce repeated code, you might want to write a function that can perform this comparison, taking as one of its arguments a column to be compared.\n",
    "\n",
    "Depending on what you observe in your comparison, this will have implications on how you approach your conclusions later in the analysis. If the distributions of non-missing features look similar between the data with many missing values and the data with few or no missing values, then we could argue that simply dropping those points from the analysis won't present a major issue. On the other hand, if the data with many missing values looks very different from the data with few or no missing values, then we should make a note on those data as special. We'll revisit these data later on. **Either way, you should continue your analysis for now using just the subset of the data with few or no missing values.**"
   ]
  },
  {
   "cell_type": "code",
   "execution_count": 19,
   "metadata": {},
   "outputs": [
    {
     "data": {
      "text/plain": [
       "0    43\n",
       "1     0\n",
       "2     0\n",
       "3     7\n",
       "4     0\n",
       "5     0\n",
       "6     0\n",
       "7     0\n",
       "8     0\n",
       "9     0\n",
       "Name: nro_missings, dtype: int64"
      ]
     },
     "execution_count": 19,
     "metadata": {},
     "output_type": "execute_result"
    }
   ],
   "source": [
    "# How much data is missing in each row of the dataset?\n",
    "azdias['nro_missings']=azdias.isna().sum(axis=1)\n",
    "azdias['nro_missings'].head(10)"
   ]
  },
  {
   "cell_type": "code",
   "execution_count": 20,
   "metadata": {},
   "outputs": [
    {
     "data": {
      "image/png": "[encoded data removed]",
      "text/plain": [
       "<matplotlib.figure.Figure at 0x7fd38d4c1c88>"
      ]
     },
     "metadata": {
      "needs_background": "light"
     },
     "output_type": "display_data"
    }
   ],
   "source": [
    "df_missing_rows=azdias.isna().sum(axis=1)\n",
    "plt.hist(df_missing_rows,bins=100)\n",
    "plt.xlabel('Nro. Missings Values')\n",
    "plt.ylabel('Nro. Rows')\n",
    "plt.show()"
   ]
  },
  {
   "cell_type": "code",
   "execution_count": 21,
   "metadata": {},
   "outputs": [
    {
     "name": "stdout",
     "output_type": "stream",
     "text": [
      "Less or Equal 25 missings: 797961\n",
      "Greater than 25 missings : 93260\n"
     ]
    }
   ],
   "source": [
    "# Write code to divide the data into two subsets based on the number of missing\n",
    "# values in each row.\n",
    "\n",
    "azdias_lessOrEqual25=azdias[azdias['nro_missings']<=25]\n",
    "azdias_greater25=azdias[azdias['nro_missings']>25]\n",
    "print('Less or Equal 25 missings:',azdias_lessOrEqual25.shape[0])\n",
    "print('Greater than 25 missings :',azdias_greater25.shape[0])\n"
   ]
  },
  {
   "cell_type": "code",
   "execution_count": 22,
   "metadata": {},
   "outputs": [],
   "source": [
    "sample_columns = df_missins[(df_missins['pct']>0) & \\\n",
    "                            (df_missins['pct']<.25)].\\\n",
    "                            sort_values('pct',ascending=False)['field'].values"
   ]
  },
  {
   "cell_type": "code",
   "execution_count": 23,
   "metadata": {},
   "outputs": [
    {
     "data": {
      "text/plain": [
       "array(['REGIOTYP', 'KKK', 'W_KEIT_KIND_HH', 'KBA05_ANTG1', 'MOBI_REGIO',\n",
       "       'KBA05_GBZ', 'KBA05_ANTG2', 'KBA05_ANTG3', 'KBA05_ANTG4',\n",
       "       'PLZ8_GBZ', 'PLZ8_HHZ', 'PLZ8_BAUMAX', 'PLZ8_ANTG4', 'PLZ8_ANTG3',\n",
       "       'PLZ8_ANTG2', 'PLZ8_ANTG1', 'SHOPPER_TYP', 'VERS_TYP', 'HEALTH_TYP',\n",
       "       'NATIONALITAET_KZ', 'PRAEGENDE_JUGENDJAHRE', 'KBA13_ANZAHL_PKW',\n",
       "       'ANZ_HAUSHALTE_AKTIV', 'CAMEO_DEUG_2015', 'CAMEO_DEU_2015',\n",
       "       'CAMEO_INTL_2015', 'LP_LEBENSPHASE_FEIN', 'ARBEIT', 'RELAT_AB',\n",
       "       'ORTSGR_KLS9', 'ANZ_HH_TITEL', 'LP_LEBENSPHASE_GROB', 'BALLRAUM',\n",
       "       'INNENSTADT', 'EWDICHTE', 'GEBAEUDETYP_RASTER', 'WOHNLAGE',\n",
       "       'MIN_GEBAEUDEJAHR', 'GEBAEUDETYP', 'OST_WEST_KZ', 'LP_FAMILIE_FEIN',\n",
       "       'LP_FAMILIE_GROB', 'KONSUMNAEHE', 'ANZ_PERSONEN', 'WOHNDAUER_2008',\n",
       "       'ANZ_TITEL', 'SOHO_KZ', 'HH_EINKOMMEN_SCORE', 'LP_STATUS_FEIN',\n",
       "       'GFK_URLAUBERTYP', 'CJT_GESAMTTYP', 'LP_STATUS_GROB',\n",
       "       'RETOURTYP_BK_S', 'ONLINE_AFFINITAET', 'ALTERSKATEGORIE_GROB'], dtype=object)"
      ]
     },
     "execution_count": 23,
     "metadata": {},
     "output_type": "execute_result"
    }
   ],
   "source": [
    "sample_columns"
   ]
  },
  {
   "cell_type": "code",
   "execution_count": 24,
   "metadata": {},
   "outputs": [],
   "source": [
    "#Select sample of row with few missings values\n",
    "from random import sample, seed\n",
    "\n",
    "seed(64)\n",
    "sample_columns=sample(list(azdias.columns),5)\n",
    "\n",
    "azdias.drop('nro_missings',axis=1,inplace=True)"
   ]
  },
  {
   "cell_type": "code",
   "execution_count": 25,
   "metadata": {},
   "outputs": [],
   "source": [
    "def plot_distribution_missings(colname):\n",
    "    fig=plt.figure()\n",
    "    ax1=fig.add_subplot(121)\n",
    "    ax1.title.set_text('<= 25')\n",
    "    sns.countplot(azdias_lessOrEqual25[colname])\n",
    "    ax2=fig.add_subplot(122)\n",
    "    ax2.title.set_text('> 25')\n",
    "    sns.countplot(azdias_greater25[colname])"
   ]
  },
  {
   "cell_type": "code",
   "execution_count": 26,
   "metadata": {},
   "outputs": [
    {
     "data": {
      "image/png": "[encoded data removed]",
      "text/plain": [
       "<matplotlib.figure.Figure at 0x7fd3681bdb70>"
      ]
     },
     "metadata": {
      "needs_background": "light"
     },
     "output_type": "display_data"
    },
    {
     "data": {
      "image/png": "[encoded data removed]",
      "text/plain": [
       "<matplotlib.figure.Figure at 0x7fd368026c88>"
      ]
     },
     "metadata": {
      "needs_background": "light"
     },
     "output_type": "display_data"
    },
    {
     "data": {
      "image/png": "[encoded data removed]",
      "text/plain": [
       "<matplotlib.figure.Figure at 0x7fd358c0e1d0>"
      ]
     },
     "metadata": {
      "needs_background": "light"
     },
     "output_type": "display_data"
    },
    {
     "data": {
      "image/png": "[encoded data removed]",
      "text/plain": [
       "<matplotlib.figure.Figure at 0x7fd358babcf8>"
      ]
     },
     "metadata": {
      "needs_background": "light"
     },
     "output_type": "display_data"
    },
    {
     "data": {
      "image/png": "[encoded data removed]",
      "text/plain": [
       "<matplotlib.figure.Figure at 0x7fd358ad9668>"
      ]
     },
     "metadata": {
      "needs_background": "light"
     },
     "output_type": "display_data"
    }
   ],
   "source": [
    "# Compare the distribution of values for at least five columns where there are\n",
    "# no or few missing values, between the two subsets.\n",
    "\n",
    "for c in sample_columns:\n",
    "    plot_distribution_missings(c)"
   ]
  },
  {
   "cell_type": "code",
   "execution_count": 27,
   "metadata": {},
   "outputs": [],
   "source": [
    "total_rows = azdias.shape[0]"
   ]
  },
  {
   "cell_type": "code",
   "execution_count": 28,
   "metadata": {},
   "outputs": [],
   "source": [
    "#Drop rows with many missings values\n",
    "\n",
    "# azdias.dropna(inplace=True)\n",
    "azdias.drop(azdias_greater25.index,axis=0,inplace=True)"
   ]
  },
  {
   "cell_type": "code",
   "execution_count": 29,
   "metadata": {},
   "outputs": [],
   "source": [
    "total_after_deleted_rows = azdias.shape[0]"
   ]
  },
  {
   "cell_type": "code",
   "execution_count": 30,
   "metadata": {},
   "outputs": [
    {
     "name": "stdout",
     "output_type": "stream",
     "text": [
      "Rows eliminated : 93260\n"
     ]
    }
   ],
   "source": [
    "print('Rows eliminated :',total_rows-total_after_deleted_rows)"
   ]
  },
  {
   "cell_type": "markdown",
   "metadata": {},
   "source": [
    "#### Discussion 1.1.3: Assess Missing Data in Each Row\n",
    "\n",
    "(Double-click this cell and replace this text with your own text, reporting your observations regarding missing data in rows. Are the data with lots of missing values are qualitatively different from data with few or no missing values?)\n",
    "<br><br>\n",
    "<b>\n",
    "-In general the data with missings values (greater than 25) is a magnitud of around 0% respect to less or equal to 25, with excet of LP_FAMILIA_FEIN when reach almost 6%<br/>\n",
    "-The following two of five features show quantitative different in its distributions from data with few or no missing values:\n",
    "  - WOHNLAGE\n",
    "  - KBA13_ANZAHL_PKW\n",
    "\n",
    "</b>"
   ]
  },
  {
   "cell_type": "markdown",
   "metadata": {},
   "source": [
    "### Step 1.2: Select and Re-Encode Features\n",
    "\n",
    "Checking for missing data isn't the only way in which you can prepare a dataset for analysis. Since the unsupervised learning techniques to be used will only work on data that is encoded numerically, you need to make a few encoding changes or additional assumptions to be able to make progress. In addition, while almost all of the values in the dataset are encoded using numbers, not all of them represent numeric values. Check the third column of the feature summary (`feat_info`) for a summary of types of measurement.\n",
    "- For numeric and interval data, these features can be kept without changes.\n",
    "- Most of the variables in the dataset are ordinal in nature. While ordinal values may technically be non-linear in spacing, make the simplifying assumption that the ordinal variables can be treated as being interval in nature (that is, kept without any changes).\n",
    "- Special handling may be necessary for the remaining two variable types: categorical, and 'mixed'.\n",
    "\n",
    "In the first two parts of this sub-step, you will perform an investigation of the categorical and mixed-type features and make a decision on each of them, whether you will keep, drop, or re-encode each. Then, in the last part, you will create a new data frame with only the selected and engineered columns.\n",
    "\n",
    "Data wrangling is often the trickiest part of the data analysis process, and there's a lot of it to be done here. But stick with it: once you're done with this step, you'll be ready to get to the machine learning parts of the project!"
   ]
  },
  {
   "cell_type": "code",
   "execution_count": 31,
   "metadata": {},
   "outputs": [
    {
     "data": {
      "text/html": [
       "<div>\n",
       "<style scoped>\n",
       "    .dataframe tbody tr th:only-of-type {\n",
       "        vertical-align: middle;\n",
       "    }\n",
       "\n",
       "    .dataframe tbody tr th {\n",
       "        vertical-align: top;\n",
       "    }\n",
       "\n",
       "    .dataframe thead th {\n",
       "        text-align: right;\n",
       "    }\n",
       "</style>\n",
       "<table border=\"1\" class=\"dataframe\">\n",
       "  <thead>\n",
       "    <tr style=\"text-align: right;\">\n",
       "      <th></th>\n",
       "      <th>attribute</th>\n",
       "      <th>information_level</th>\n",
       "      <th>type</th>\n",
       "      <th>missing_or_unknown</th>\n",
       "    </tr>\n",
       "  </thead>\n",
       "  <tbody>\n",
       "    <tr>\n",
       "      <th>0</th>\n",
       "      <td>AGER_TYP</td>\n",
       "      <td>person</td>\n",
       "      <td>categorical</td>\n",
       "      <td>[-1,0]</td>\n",
       "    </tr>\n",
       "    <tr>\n",
       "      <th>1</th>\n",
       "      <td>ALTERSKATEGORIE_GROB</td>\n",
       "      <td>person</td>\n",
       "      <td>ordinal</td>\n",
       "      <td>[-1,0,9]</td>\n",
       "    </tr>\n",
       "    <tr>\n",
       "      <th>2</th>\n",
       "      <td>ANREDE_KZ</td>\n",
       "      <td>person</td>\n",
       "      <td>categorical</td>\n",
       "      <td>[-1,0]</td>\n",
       "    </tr>\n",
       "    <tr>\n",
       "      <th>3</th>\n",
       "      <td>CJT_GESAMTTYP</td>\n",
       "      <td>person</td>\n",
       "      <td>categorical</td>\n",
       "      <td>[0]</td>\n",
       "    </tr>\n",
       "    <tr>\n",
       "      <th>4</th>\n",
       "      <td>FINANZ_MINIMALIST</td>\n",
       "      <td>person</td>\n",
       "      <td>ordinal</td>\n",
       "      <td>[-1]</td>\n",
       "    </tr>\n",
       "  </tbody>\n",
       "</table>\n",
       "</div>"
      ],
      "text/plain": [
       "              attribute information_level         type missing_or_unknown\n",
       "0              AGER_TYP            person  categorical             [-1,0]\n",
       "1  ALTERSKATEGORIE_GROB            person      ordinal           [-1,0,9]\n",
       "2             ANREDE_KZ            person  categorical             [-1,0]\n",
       "3         CJT_GESAMTTYP            person  categorical                [0]\n",
       "4     FINANZ_MINIMALIST            person      ordinal               [-1]"
      ]
     },
     "execution_count": 31,
     "metadata": {},
     "output_type": "execute_result"
    }
   ],
   "source": [
    "feat_info.head()"
   ]
  },
  {
   "cell_type": "code",
   "execution_count": 32,
   "metadata": {},
   "outputs": [
    {
     "data": {
      "text/plain": [
       "Counter({'categorical': 21,\n",
       "         'ordinal': 49,\n",
       "         'numeric': 7,\n",
       "         'mixed': 7,\n",
       "         'interval': 1})"
      ]
     },
     "execution_count": 32,
     "metadata": {},
     "output_type": "execute_result"
    }
   ],
   "source": [
    "# How many features are there of each data type?\n",
    "from collections import Counter\n",
    "\n",
    "Counter(feat_info['type'].tolist())"
   ]
  },
  {
   "cell_type": "markdown",
   "metadata": {},
   "source": [
    "There are 21 Categoricals, 49 ordinals, 7 numeric, 7 mixed and 1 interval"
   ]
  },
  {
   "cell_type": "markdown",
   "metadata": {},
   "source": [
    "#### Step 1.2.1: Re-Encode Categorical Features\n",
    "\n",
    "For categorical data, you would ordinarily need to encode the levels as dummy variables. Depending on the number of categories, perform one of the following:\n",
    "- For binary (two-level) categoricals that take numeric values, you can keep them without needing to do anything.\n",
    "- There is one binary variable that takes on non-numeric values. For this one, you need to re-encode the values as numbers or create a dummy variable.\n",
    "- For multi-level categoricals (three or more values), you can choose to encode the values using multiple dummy variables (e.g. via [OneHotEncoder](http://scikit-learn.org/stable/modules/generated/sklearn.preprocessing.OneHotEncoder.html)), or (to keep things straightforward) just drop them from the analysis. As always, document your choices in the Discussion section."
   ]
  },
  {
   "cell_type": "code",
   "execution_count": 33,
   "metadata": {},
   "outputs": [
    {
     "data": {
      "text/html": [
       "<div>\n",
       "<style scoped>\n",
       "    .dataframe tbody tr th:only-of-type {\n",
       "        vertical-align: middle;\n",
       "    }\n",
       "\n",
       "    .dataframe tbody tr th {\n",
       "        vertical-align: top;\n",
       "    }\n",
       "\n",
       "    .dataframe thead th {\n",
       "        text-align: right;\n",
       "    }\n",
       "</style>\n",
       "<table border=\"1\" class=\"dataframe\">\n",
       "  <thead>\n",
       "    <tr style=\"text-align: right;\">\n",
       "      <th></th>\n",
       "      <th>attribute</th>\n",
       "      <th>information_level</th>\n",
       "      <th>type</th>\n",
       "      <th>missing_or_unknown</th>\n",
       "    </tr>\n",
       "  </thead>\n",
       "  <tbody>\n",
       "    <tr>\n",
       "      <th>0</th>\n",
       "      <td>AGER_TYP</td>\n",
       "      <td>person</td>\n",
       "      <td>categorical</td>\n",
       "      <td>[-1,0]</td>\n",
       "    </tr>\n",
       "    <tr>\n",
       "      <th>2</th>\n",
       "      <td>ANREDE_KZ</td>\n",
       "      <td>person</td>\n",
       "      <td>categorical</td>\n",
       "      <td>[-1,0]</td>\n",
       "    </tr>\n",
       "    <tr>\n",
       "      <th>3</th>\n",
       "      <td>CJT_GESAMTTYP</td>\n",
       "      <td>person</td>\n",
       "      <td>categorical</td>\n",
       "      <td>[0]</td>\n",
       "    </tr>\n",
       "    <tr>\n",
       "      <th>10</th>\n",
       "      <td>FINANZTYP</td>\n",
       "      <td>person</td>\n",
       "      <td>categorical</td>\n",
       "      <td>[-1]</td>\n",
       "    </tr>\n",
       "    <tr>\n",
       "      <th>12</th>\n",
       "      <td>GFK_URLAUBERTYP</td>\n",
       "      <td>person</td>\n",
       "      <td>categorical</td>\n",
       "      <td>[]</td>\n",
       "    </tr>\n",
       "    <tr>\n",
       "      <th>13</th>\n",
       "      <td>GREEN_AVANTGARDE</td>\n",
       "      <td>person</td>\n",
       "      <td>categorical</td>\n",
       "      <td>[]</td>\n",
       "    </tr>\n",
       "    <tr>\n",
       "      <th>15</th>\n",
       "      <td>LP_LEBENSPHASE_FEIN</td>\n",
       "      <td>person</td>\n",
       "      <td>mixed</td>\n",
       "      <td>[0]</td>\n",
       "    </tr>\n",
       "    <tr>\n",
       "      <th>16</th>\n",
       "      <td>LP_LEBENSPHASE_GROB</td>\n",
       "      <td>person</td>\n",
       "      <td>mixed</td>\n",
       "      <td>[0]</td>\n",
       "    </tr>\n",
       "    <tr>\n",
       "      <th>17</th>\n",
       "      <td>LP_FAMILIE_FEIN</td>\n",
       "      <td>person</td>\n",
       "      <td>categorical</td>\n",
       "      <td>[0]</td>\n",
       "    </tr>\n",
       "    <tr>\n",
       "      <th>18</th>\n",
       "      <td>LP_FAMILIE_GROB</td>\n",
       "      <td>person</td>\n",
       "      <td>categorical</td>\n",
       "      <td>[0]</td>\n",
       "    </tr>\n",
       "    <tr>\n",
       "      <th>19</th>\n",
       "      <td>LP_STATUS_FEIN</td>\n",
       "      <td>person</td>\n",
       "      <td>categorical</td>\n",
       "      <td>[0]</td>\n",
       "    </tr>\n",
       "    <tr>\n",
       "      <th>20</th>\n",
       "      <td>LP_STATUS_GROB</td>\n",
       "      <td>person</td>\n",
       "      <td>categorical</td>\n",
       "      <td>[0]</td>\n",
       "    </tr>\n",
       "    <tr>\n",
       "      <th>21</th>\n",
       "      <td>NATIONALITAET_KZ</td>\n",
       "      <td>person</td>\n",
       "      <td>categorical</td>\n",
       "      <td>[-1,0]</td>\n",
       "    </tr>\n",
       "    <tr>\n",
       "      <th>22</th>\n",
       "      <td>PRAEGENDE_JUGENDJAHRE</td>\n",
       "      <td>person</td>\n",
       "      <td>mixed</td>\n",
       "      <td>[-1,0]</td>\n",
       "    </tr>\n",
       "    <tr>\n",
       "      <th>38</th>\n",
       "      <td>SHOPPER_TYP</td>\n",
       "      <td>person</td>\n",
       "      <td>categorical</td>\n",
       "      <td>[-1]</td>\n",
       "    </tr>\n",
       "    <tr>\n",
       "      <th>39</th>\n",
       "      <td>SOHO_KZ</td>\n",
       "      <td>person</td>\n",
       "      <td>categorical</td>\n",
       "      <td>[-1]</td>\n",
       "    </tr>\n",
       "    <tr>\n",
       "      <th>40</th>\n",
       "      <td>TITEL_KZ</td>\n",
       "      <td>person</td>\n",
       "      <td>categorical</td>\n",
       "      <td>[-1,0]</td>\n",
       "    </tr>\n",
       "    <tr>\n",
       "      <th>41</th>\n",
       "      <td>VERS_TYP</td>\n",
       "      <td>person</td>\n",
       "      <td>categorical</td>\n",
       "      <td>[-1]</td>\n",
       "    </tr>\n",
       "    <tr>\n",
       "      <th>42</th>\n",
       "      <td>ZABEOTYP</td>\n",
       "      <td>person</td>\n",
       "      <td>categorical</td>\n",
       "      <td>[-1,9]</td>\n",
       "    </tr>\n",
       "    <tr>\n",
       "      <th>47</th>\n",
       "      <td>KK_KUNDENTYP</td>\n",
       "      <td>household</td>\n",
       "      <td>categorical</td>\n",
       "      <td>[-1]</td>\n",
       "    </tr>\n",
       "    <tr>\n",
       "      <th>52</th>\n",
       "      <td>GEBAEUDETYP</td>\n",
       "      <td>building</td>\n",
       "      <td>categorical</td>\n",
       "      <td>[-1,0]</td>\n",
       "    </tr>\n",
       "    <tr>\n",
       "      <th>55</th>\n",
       "      <td>OST_WEST_KZ</td>\n",
       "      <td>building</td>\n",
       "      <td>categorical</td>\n",
       "      <td>[-1]</td>\n",
       "    </tr>\n",
       "    <tr>\n",
       "      <th>56</th>\n",
       "      <td>WOHNLAGE</td>\n",
       "      <td>building</td>\n",
       "      <td>mixed</td>\n",
       "      <td>[-1]</td>\n",
       "    </tr>\n",
       "    <tr>\n",
       "      <th>57</th>\n",
       "      <td>CAMEO_DEUG_2015</td>\n",
       "      <td>microcell_rr4</td>\n",
       "      <td>categorical</td>\n",
       "      <td>[-1,X]</td>\n",
       "    </tr>\n",
       "    <tr>\n",
       "      <th>58</th>\n",
       "      <td>CAMEO_DEU_2015</td>\n",
       "      <td>microcell_rr4</td>\n",
       "      <td>categorical</td>\n",
       "      <td>[XX]</td>\n",
       "    </tr>\n",
       "    <tr>\n",
       "      <th>59</th>\n",
       "      <td>CAMEO_INTL_2015</td>\n",
       "      <td>microcell_rr4</td>\n",
       "      <td>mixed</td>\n",
       "      <td>[-1,XX]</td>\n",
       "    </tr>\n",
       "    <tr>\n",
       "      <th>64</th>\n",
       "      <td>KBA05_BAUMAX</td>\n",
       "      <td>microcell_rr3</td>\n",
       "      <td>mixed</td>\n",
       "      <td>[-1,0]</td>\n",
       "    </tr>\n",
       "    <tr>\n",
       "      <th>79</th>\n",
       "      <td>PLZ8_BAUMAX</td>\n",
       "      <td>macrocell_plz8</td>\n",
       "      <td>mixed</td>\n",
       "      <td>[-1,0]</td>\n",
       "    </tr>\n",
       "  </tbody>\n",
       "</table>\n",
       "</div>"
      ],
      "text/plain": [
       "                attribute information_level         type missing_or_unknown\n",
       "0                AGER_TYP            person  categorical             [-1,0]\n",
       "2               ANREDE_KZ            person  categorical             [-1,0]\n",
       "3           CJT_GESAMTTYP            person  categorical                [0]\n",
       "10              FINANZTYP            person  categorical               [-1]\n",
       "12        GFK_URLAUBERTYP            person  categorical                 []\n",
       "13       GREEN_AVANTGARDE            person  categorical                 []\n",
       "15    LP_LEBENSPHASE_FEIN            person        mixed                [0]\n",
       "16    LP_LEBENSPHASE_GROB            person        mixed                [0]\n",
       "17        LP_FAMILIE_FEIN            person  categorical                [0]\n",
       "18        LP_FAMILIE_GROB            person  categorical                [0]\n",
       "19         LP_STATUS_FEIN            person  categorical                [0]\n",
       "20         LP_STATUS_GROB            person  categorical                [0]\n",
       "21       NATIONALITAET_KZ            person  categorical             [-1,0]\n",
       "22  PRAEGENDE_JUGENDJAHRE            person        mixed             [-1,0]\n",
       "38            SHOPPER_TYP            person  categorical               [-1]\n",
       "39                SOHO_KZ            person  categorical               [-1]\n",
       "40               TITEL_KZ            person  categorical             [-1,0]\n",
       "41               VERS_TYP            person  categorical               [-1]\n",
       "42               ZABEOTYP            person  categorical             [-1,9]\n",
       "47           KK_KUNDENTYP         household  categorical               [-1]\n",
       "52            GEBAEUDETYP          building  categorical             [-1,0]\n",
       "55            OST_WEST_KZ          building  categorical               [-1]\n",
       "56               WOHNLAGE          building        mixed               [-1]\n",
       "57        CAMEO_DEUG_2015     microcell_rr4  categorical             [-1,X]\n",
       "58         CAMEO_DEU_2015     microcell_rr4  categorical               [XX]\n",
       "59        CAMEO_INTL_2015     microcell_rr4        mixed            [-1,XX]\n",
       "64           KBA05_BAUMAX     microcell_rr3        mixed             [-1,0]\n",
       "79            PLZ8_BAUMAX    macrocell_plz8        mixed             [-1,0]"
      ]
     },
     "execution_count": 33,
     "metadata": {},
     "output_type": "execute_result"
    }
   ],
   "source": [
    "#Attributes with categorical or mixed type.\n",
    "\n",
    "feat_info[(feat_info['type']=='categorical') | (feat_info['type']=='mixed')]"
   ]
  },
  {
   "cell_type": "code",
   "execution_count": 34,
   "metadata": {},
   "outputs": [],
   "source": [
    "# Assess categorical variables: which are binary, which are multi-level, and\n",
    "# which one needs to be re-encoded?\n",
    "categoricals = feat_info[feat_info['type']=='categorical']\n",
    "mixeds = feat_info[feat_info['type']=='mixed']"
   ]
  },
  {
   "cell_type": "code",
   "execution_count": 35,
   "metadata": {},
   "outputs": [
    {
     "data": {
      "text/plain": [
       "15      LP_LEBENSPHASE_FEIN\n",
       "16      LP_LEBENSPHASE_GROB\n",
       "22    PRAEGENDE_JUGENDJAHRE\n",
       "56                 WOHNLAGE\n",
       "59          CAMEO_INTL_2015\n",
       "64             KBA05_BAUMAX\n",
       "79              PLZ8_BAUMAX\n",
       "Name: attribute, dtype: object"
      ]
     },
     "execution_count": 35,
     "metadata": {},
     "output_type": "execute_result"
    }
   ],
   "source": [
    "mixeds.attribute"
   ]
  },
  {
   "cell_type": "code",
   "execution_count": 36,
   "metadata": {},
   "outputs": [
    {
     "data": {
      "text/plain": [
       "array(['AGER_TYP', 'GEBURTSJAHR', 'TITEL_KZ', 'ALTER_HH', 'KK_KUNDENTYP',\n",
       "       'KBA05_BAUMAX'], dtype=object)"
      ]
     },
     "execution_count": 36,
     "metadata": {},
     "output_type": "execute_result"
    }
   ],
   "source": [
    "drop_cols"
   ]
  },
  {
   "cell_type": "code",
   "execution_count": 37,
   "metadata": {},
   "outputs": [
    {
     "name": "stderr",
     "output_type": "stream",
     "text": [
      "/opt/conda/lib/python3.6/site-packages/pandas/core/frame.py:3697: SettingWithCopyWarning: \n",
      "A value is trying to be set on a copy of a slice from a DataFrame\n",
      "\n",
      "See the caveats in the documentation: http://pandas.pydata.org/pandas-docs/stable/indexing.html#indexing-view-versus-copy\n",
      "  errors=errors)\n"
     ]
    }
   ],
   "source": [
    "categoricals.drop(categoricals[categoricals['attribute'].isin(drop_cols)].index,inplace=True)"
   ]
  },
  {
   "cell_type": "code",
   "execution_count": 38,
   "metadata": {},
   "outputs": [
    {
     "data": {
      "text/html": [
       "<div>\n",
       "<style scoped>\n",
       "    .dataframe tbody tr th:only-of-type {\n",
       "        vertical-align: middle;\n",
       "    }\n",
       "\n",
       "    .dataframe tbody tr th {\n",
       "        vertical-align: top;\n",
       "    }\n",
       "\n",
       "    .dataframe thead th {\n",
       "        text-align: right;\n",
       "    }\n",
       "</style>\n",
       "<table border=\"1\" class=\"dataframe\">\n",
       "  <thead>\n",
       "    <tr style=\"text-align: right;\">\n",
       "      <th></th>\n",
       "      <th>attribute</th>\n",
       "      <th>information_level</th>\n",
       "      <th>type</th>\n",
       "      <th>missing_or_unknown</th>\n",
       "    </tr>\n",
       "  </thead>\n",
       "  <tbody>\n",
       "    <tr>\n",
       "      <th>2</th>\n",
       "      <td>ANREDE_KZ</td>\n",
       "      <td>person</td>\n",
       "      <td>categorical</td>\n",
       "      <td>[-1,0]</td>\n",
       "    </tr>\n",
       "    <tr>\n",
       "      <th>3</th>\n",
       "      <td>CJT_GESAMTTYP</td>\n",
       "      <td>person</td>\n",
       "      <td>categorical</td>\n",
       "      <td>[0]</td>\n",
       "    </tr>\n",
       "    <tr>\n",
       "      <th>10</th>\n",
       "      <td>FINANZTYP</td>\n",
       "      <td>person</td>\n",
       "      <td>categorical</td>\n",
       "      <td>[-1]</td>\n",
       "    </tr>\n",
       "    <tr>\n",
       "      <th>12</th>\n",
       "      <td>GFK_URLAUBERTYP</td>\n",
       "      <td>person</td>\n",
       "      <td>categorical</td>\n",
       "      <td>[]</td>\n",
       "    </tr>\n",
       "    <tr>\n",
       "      <th>13</th>\n",
       "      <td>GREEN_AVANTGARDE</td>\n",
       "      <td>person</td>\n",
       "      <td>categorical</td>\n",
       "      <td>[]</td>\n",
       "    </tr>\n",
       "  </tbody>\n",
       "</table>\n",
       "</div>"
      ],
      "text/plain": [
       "           attribute information_level         type missing_or_unknown\n",
       "2          ANREDE_KZ            person  categorical             [-1,0]\n",
       "3      CJT_GESAMTTYP            person  categorical                [0]\n",
       "10         FINANZTYP            person  categorical               [-1]\n",
       "12   GFK_URLAUBERTYP            person  categorical                 []\n",
       "13  GREEN_AVANTGARDE            person  categorical                 []"
      ]
     },
     "execution_count": 38,
     "metadata": {},
     "output_type": "execute_result"
    }
   ],
   "source": [
    "categoricals.head()"
   ]
  },
  {
   "cell_type": "code",
   "execution_count": 39,
   "metadata": {},
   "outputs": [
    {
     "data": {
      "text/html": [
       "<div>\n",
       "<style scoped>\n",
       "    .dataframe tbody tr th:only-of-type {\n",
       "        vertical-align: middle;\n",
       "    }\n",
       "\n",
       "    .dataframe tbody tr th {\n",
       "        vertical-align: top;\n",
       "    }\n",
       "\n",
       "    .dataframe thead th {\n",
       "        text-align: right;\n",
       "    }\n",
       "</style>\n",
       "<table border=\"1\" class=\"dataframe\">\n",
       "  <thead>\n",
       "    <tr style=\"text-align: right;\">\n",
       "      <th></th>\n",
       "      <th>attribute</th>\n",
       "      <th>information_level</th>\n",
       "      <th>type</th>\n",
       "      <th>missing_or_unknown</th>\n",
       "    </tr>\n",
       "  </thead>\n",
       "  <tbody>\n",
       "    <tr>\n",
       "      <th>15</th>\n",
       "      <td>LP_LEBENSPHASE_FEIN</td>\n",
       "      <td>person</td>\n",
       "      <td>mixed</td>\n",
       "      <td>[0]</td>\n",
       "    </tr>\n",
       "    <tr>\n",
       "      <th>16</th>\n",
       "      <td>LP_LEBENSPHASE_GROB</td>\n",
       "      <td>person</td>\n",
       "      <td>mixed</td>\n",
       "      <td>[0]</td>\n",
       "    </tr>\n",
       "    <tr>\n",
       "      <th>22</th>\n",
       "      <td>PRAEGENDE_JUGENDJAHRE</td>\n",
       "      <td>person</td>\n",
       "      <td>mixed</td>\n",
       "      <td>[-1,0]</td>\n",
       "    </tr>\n",
       "    <tr>\n",
       "      <th>56</th>\n",
       "      <td>WOHNLAGE</td>\n",
       "      <td>building</td>\n",
       "      <td>mixed</td>\n",
       "      <td>[-1]</td>\n",
       "    </tr>\n",
       "    <tr>\n",
       "      <th>59</th>\n",
       "      <td>CAMEO_INTL_2015</td>\n",
       "      <td>microcell_rr4</td>\n",
       "      <td>mixed</td>\n",
       "      <td>[-1,XX]</td>\n",
       "    </tr>\n",
       "    <tr>\n",
       "      <th>64</th>\n",
       "      <td>KBA05_BAUMAX</td>\n",
       "      <td>microcell_rr3</td>\n",
       "      <td>mixed</td>\n",
       "      <td>[-1,0]</td>\n",
       "    </tr>\n",
       "    <tr>\n",
       "      <th>79</th>\n",
       "      <td>PLZ8_BAUMAX</td>\n",
       "      <td>macrocell_plz8</td>\n",
       "      <td>mixed</td>\n",
       "      <td>[-1,0]</td>\n",
       "    </tr>\n",
       "  </tbody>\n",
       "</table>\n",
       "</div>"
      ],
      "text/plain": [
       "                attribute information_level   type missing_or_unknown\n",
       "15    LP_LEBENSPHASE_FEIN            person  mixed                [0]\n",
       "16    LP_LEBENSPHASE_GROB            person  mixed                [0]\n",
       "22  PRAEGENDE_JUGENDJAHRE            person  mixed             [-1,0]\n",
       "56               WOHNLAGE          building  mixed               [-1]\n",
       "59        CAMEO_INTL_2015     microcell_rr4  mixed            [-1,XX]\n",
       "64           KBA05_BAUMAX     microcell_rr3  mixed             [-1,0]\n",
       "79            PLZ8_BAUMAX    macrocell_plz8  mixed             [-1,0]"
      ]
     },
     "execution_count": 39,
     "metadata": {},
     "output_type": "execute_result"
    }
   ],
   "source": [
    "mixeds"
   ]
  },
  {
   "cell_type": "code",
   "execution_count": 40,
   "metadata": {},
   "outputs": [
    {
     "name": "stderr",
     "output_type": "stream",
     "text": [
      "/opt/conda/lib/python3.6/site-packages/pandas/core/frame.py:3697: SettingWithCopyWarning: \n",
      "A value is trying to be set on a copy of a slice from a DataFrame\n",
      "\n",
      "See the caveats in the documentation: http://pandas.pydata.org/pandas-docs/stable/indexing.html#indexing-view-versus-copy\n",
      "  errors=errors)\n"
     ]
    }
   ],
   "source": [
    "mixeds.drop(mixeds[mixeds['attribute'].isin(drop_cols)].index,inplace=True)"
   ]
  },
  {
   "cell_type": "code",
   "execution_count": 41,
   "metadata": {},
   "outputs": [],
   "source": [
    "binary_multilevel=[]\n",
    "for attribute in categoricals['attribute']:\n",
    "    binary_multilevel.append('b' if azdias[attribute].nunique()==2 else 'ml')"
   ]
  },
  {
   "cell_type": "code",
   "execution_count": 42,
   "metadata": {},
   "outputs": [
    {
     "data": {
      "text/plain": [
       "18"
      ]
     },
     "execution_count": 42,
     "metadata": {},
     "output_type": "execute_result"
    }
   ],
   "source": [
    "len(binary_multilevel)"
   ]
  },
  {
   "cell_type": "code",
   "execution_count": 43,
   "metadata": {},
   "outputs": [
    {
     "name": "stderr",
     "output_type": "stream",
     "text": [
      "/opt/conda/lib/python3.6/site-packages/ipykernel_launcher.py:1: SettingWithCopyWarning: \n",
      "A value is trying to be set on a copy of a slice from a DataFrame.\n",
      "Try using .loc[row_indexer,col_indexer] = value instead\n",
      "\n",
      "See the caveats in the documentation: http://pandas.pydata.org/pandas-docs/stable/indexing.html#indexing-view-versus-copy\n",
      "  \"\"\"Entry point for launching an IPython kernel.\n"
     ]
    }
   ],
   "source": [
    "categoricals['binary_multilevel']=binary_multilevel"
   ]
  },
  {
   "cell_type": "code",
   "execution_count": 44,
   "metadata": {},
   "outputs": [
    {
     "data": {
      "text/html": [
       "<div>\n",
       "<style scoped>\n",
       "    .dataframe tbody tr th:only-of-type {\n",
       "        vertical-align: middle;\n",
       "    }\n",
       "\n",
       "    .dataframe tbody tr th {\n",
       "        vertical-align: top;\n",
       "    }\n",
       "\n",
       "    .dataframe thead th {\n",
       "        text-align: right;\n",
       "    }\n",
       "</style>\n",
       "<table border=\"1\" class=\"dataframe\">\n",
       "  <thead>\n",
       "    <tr style=\"text-align: right;\">\n",
       "      <th></th>\n",
       "      <th>attribute</th>\n",
       "      <th>information_level</th>\n",
       "      <th>type</th>\n",
       "      <th>missing_or_unknown</th>\n",
       "      <th>binary_multilevel</th>\n",
       "    </tr>\n",
       "  </thead>\n",
       "  <tbody>\n",
       "    <tr>\n",
       "      <th>2</th>\n",
       "      <td>ANREDE_KZ</td>\n",
       "      <td>person</td>\n",
       "      <td>categorical</td>\n",
       "      <td>[-1,0]</td>\n",
       "      <td>b</td>\n",
       "    </tr>\n",
       "    <tr>\n",
       "      <th>3</th>\n",
       "      <td>CJT_GESAMTTYP</td>\n",
       "      <td>person</td>\n",
       "      <td>categorical</td>\n",
       "      <td>[0]</td>\n",
       "      <td>ml</td>\n",
       "    </tr>\n",
       "    <tr>\n",
       "      <th>10</th>\n",
       "      <td>FINANZTYP</td>\n",
       "      <td>person</td>\n",
       "      <td>categorical</td>\n",
       "      <td>[-1]</td>\n",
       "      <td>ml</td>\n",
       "    </tr>\n",
       "    <tr>\n",
       "      <th>12</th>\n",
       "      <td>GFK_URLAUBERTYP</td>\n",
       "      <td>person</td>\n",
       "      <td>categorical</td>\n",
       "      <td>[]</td>\n",
       "      <td>ml</td>\n",
       "    </tr>\n",
       "    <tr>\n",
       "      <th>13</th>\n",
       "      <td>GREEN_AVANTGARDE</td>\n",
       "      <td>person</td>\n",
       "      <td>categorical</td>\n",
       "      <td>[]</td>\n",
       "      <td>b</td>\n",
       "    </tr>\n",
       "  </tbody>\n",
       "</table>\n",
       "</div>"
      ],
      "text/plain": [
       "           attribute information_level         type missing_or_unknown  \\\n",
       "2          ANREDE_KZ            person  categorical             [-1,0]   \n",
       "3      CJT_GESAMTTYP            person  categorical                [0]   \n",
       "10         FINANZTYP            person  categorical               [-1]   \n",
       "12   GFK_URLAUBERTYP            person  categorical                 []   \n",
       "13  GREEN_AVANTGARDE            person  categorical                 []   \n",
       "\n",
       "   binary_multilevel  \n",
       "2                  b  \n",
       "3                 ml  \n",
       "10                ml  \n",
       "12                ml  \n",
       "13                 b  "
      ]
     },
     "execution_count": 44,
     "metadata": {},
     "output_type": "execute_result"
    }
   ],
   "source": [
    "categoricals.head()"
   ]
  },
  {
   "cell_type": "code",
   "execution_count": 45,
   "metadata": {},
   "outputs": [
    {
     "data": {
      "text/plain": [
       "array(['CJT_GESAMTTYP', 'FINANZTYP', 'GFK_URLAUBERTYP', 'LP_FAMILIE_FEIN',\n",
       "       'LP_FAMILIE_GROB', 'LP_STATUS_FEIN', 'LP_STATUS_GROB',\n",
       "       'NATIONALITAET_KZ', 'SHOPPER_TYP', 'ZABEOTYP', 'GEBAEUDETYP',\n",
       "       'CAMEO_DEUG_2015', 'CAMEO_DEU_2015'], dtype=object)"
      ]
     },
     "execution_count": 45,
     "metadata": {},
     "output_type": "execute_result"
    }
   ],
   "source": [
    "categoricals[categoricals['binary_multilevel']=='ml']['attribute'].values"
   ]
  },
  {
   "cell_type": "code",
   "execution_count": 46,
   "metadata": {},
   "outputs": [
    {
     "data": {
      "text/plain": [
       "(13, 5)"
      ]
     },
     "execution_count": 46,
     "metadata": {},
     "output_type": "execute_result"
    }
   ],
   "source": [
    "categoricals[categoricals['binary_multilevel']=='ml'].shape"
   ]
  },
  {
   "cell_type": "code",
   "execution_count": 47,
   "metadata": {},
   "outputs": [
    {
     "data": {
      "text/plain": [
       "(797961, 79)"
      ]
     },
     "execution_count": 47,
     "metadata": {},
     "output_type": "execute_result"
    }
   ],
   "source": [
    "azdias.shape"
   ]
  },
  {
   "cell_type": "code",
   "execution_count": 48,
   "metadata": {},
   "outputs": [],
   "source": [
    "# I decied to drop de multilevels categorical variables\n",
    "\n",
    "azdias.drop(categoricals[categoricals['binary_multilevel']=='ml']['attribute'].values,axis=1,inplace=True)"
   ]
  },
  {
   "cell_type": "code",
   "execution_count": 49,
   "metadata": {},
   "outputs": [
    {
     "data": {
      "text/html": [
       "<div>\n",
       "<style scoped>\n",
       "    .dataframe tbody tr th:only-of-type {\n",
       "        vertical-align: middle;\n",
       "    }\n",
       "\n",
       "    .dataframe tbody tr th {\n",
       "        vertical-align: top;\n",
       "    }\n",
       "\n",
       "    .dataframe thead th {\n",
       "        text-align: right;\n",
       "    }\n",
       "</style>\n",
       "<table border=\"1\" class=\"dataframe\">\n",
       "  <thead>\n",
       "    <tr style=\"text-align: right;\">\n",
       "      <th></th>\n",
       "      <th>attribute</th>\n",
       "      <th>information_level</th>\n",
       "      <th>type</th>\n",
       "      <th>missing_or_unknown</th>\n",
       "      <th>binary_multilevel</th>\n",
       "    </tr>\n",
       "  </thead>\n",
       "  <tbody>\n",
       "    <tr>\n",
       "      <th>2</th>\n",
       "      <td>ANREDE_KZ</td>\n",
       "      <td>person</td>\n",
       "      <td>categorical</td>\n",
       "      <td>[-1,0]</td>\n",
       "      <td>b</td>\n",
       "    </tr>\n",
       "    <tr>\n",
       "      <th>13</th>\n",
       "      <td>GREEN_AVANTGARDE</td>\n",
       "      <td>person</td>\n",
       "      <td>categorical</td>\n",
       "      <td>[]</td>\n",
       "      <td>b</td>\n",
       "    </tr>\n",
       "    <tr>\n",
       "      <th>39</th>\n",
       "      <td>SOHO_KZ</td>\n",
       "      <td>person</td>\n",
       "      <td>categorical</td>\n",
       "      <td>[-1]</td>\n",
       "      <td>b</td>\n",
       "    </tr>\n",
       "    <tr>\n",
       "      <th>41</th>\n",
       "      <td>VERS_TYP</td>\n",
       "      <td>person</td>\n",
       "      <td>categorical</td>\n",
       "      <td>[-1]</td>\n",
       "      <td>b</td>\n",
       "    </tr>\n",
       "    <tr>\n",
       "      <th>55</th>\n",
       "      <td>OST_WEST_KZ</td>\n",
       "      <td>building</td>\n",
       "      <td>categorical</td>\n",
       "      <td>[-1]</td>\n",
       "      <td>b</td>\n",
       "    </tr>\n",
       "  </tbody>\n",
       "</table>\n",
       "</div>"
      ],
      "text/plain": [
       "           attribute information_level         type missing_or_unknown  \\\n",
       "2          ANREDE_KZ            person  categorical             [-1,0]   \n",
       "13  GREEN_AVANTGARDE            person  categorical                 []   \n",
       "39           SOHO_KZ            person  categorical               [-1]   \n",
       "41          VERS_TYP            person  categorical               [-1]   \n",
       "55       OST_WEST_KZ          building  categorical               [-1]   \n",
       "\n",
       "   binary_multilevel  \n",
       "2                  b  \n",
       "13                 b  \n",
       "39                 b  \n",
       "41                 b  \n",
       "55                 b  "
      ]
     },
     "execution_count": 49,
     "metadata": {},
     "output_type": "execute_result"
    }
   ],
   "source": [
    "categoricals[categoricals['binary_multilevel']=='b']"
   ]
  },
  {
   "cell_type": "code",
   "execution_count": 50,
   "metadata": {},
   "outputs": [
    {
     "data": {
      "text/plain": [
       "array([2, 1])"
      ]
     },
     "execution_count": 50,
     "metadata": {},
     "output_type": "execute_result"
    }
   ],
   "source": [
    "azdias['ANREDE_KZ'].unique()"
   ]
  },
  {
   "cell_type": "code",
   "execution_count": 51,
   "metadata": {},
   "outputs": [
    {
     "data": {
      "text/plain": [
       "array([0, 1])"
      ]
     },
     "execution_count": 51,
     "metadata": {},
     "output_type": "execute_result"
    }
   ],
   "source": [
    "azdias['GREEN_AVANTGARDE'].unique()"
   ]
  },
  {
   "cell_type": "code",
   "execution_count": 52,
   "metadata": {},
   "outputs": [
    {
     "data": {
      "text/plain": [
       "array([ 1.,  0.])"
      ]
     },
     "execution_count": 52,
     "metadata": {},
     "output_type": "execute_result"
    }
   ],
   "source": [
    "azdias['SOHO_KZ'].unique()"
   ]
  },
  {
   "cell_type": "code",
   "execution_count": 53,
   "metadata": {},
   "outputs": [
    {
     "data": {
      "text/plain": [
       "array([  2.,   1.,  nan])"
      ]
     },
     "execution_count": 53,
     "metadata": {},
     "output_type": "execute_result"
    }
   ],
   "source": [
    "azdias['VERS_TYP'].unique()"
   ]
  },
  {
   "cell_type": "code",
   "execution_count": 54,
   "metadata": {},
   "outputs": [
    {
     "data": {
      "text/plain": [
       "array(['W', 'O'], dtype=object)"
      ]
     },
     "execution_count": 54,
     "metadata": {},
     "output_type": "execute_result"
    }
   ],
   "source": [
    "azdias['OST_WEST_KZ'].unique()"
   ]
  },
  {
   "cell_type": "code",
   "execution_count": 55,
   "metadata": {},
   "outputs": [
    {
     "data": {
      "text/plain": [
       "1    W\n",
       "2    W\n",
       "3    W\n",
       "4    W\n",
       "5    W\n",
       "Name: OST_WEST_KZ, dtype: object"
      ]
     },
     "execution_count": 55,
     "metadata": {},
     "output_type": "execute_result"
    }
   ],
   "source": [
    "azdias['OST_WEST_KZ'].head()"
   ]
  },
  {
   "cell_type": "code",
   "execution_count": 56,
   "metadata": {},
   "outputs": [],
   "source": [
    "azdias['OST_WEST_KZ'] = azdias['OST_WEST_KZ'].replace({'W':0,'O':1})"
   ]
  },
  {
   "cell_type": "code",
   "execution_count": 57,
   "metadata": {},
   "outputs": [
    {
     "data": {
      "text/plain": [
       "1    0\n",
       "2    0\n",
       "3    0\n",
       "4    0\n",
       "5    0\n",
       "Name: OST_WEST_KZ, dtype: int64"
      ]
     },
     "execution_count": 57,
     "metadata": {},
     "output_type": "execute_result"
    }
   ],
   "source": [
    "azdias['OST_WEST_KZ'].head()"
   ]
  },
  {
   "cell_type": "markdown",
   "metadata": {},
   "source": [
    "#### Discussion 1.2.1: Re-Encode Categorical Features\n",
    "\n",
    "(Double-click this cell and replace this text with your own text, reporting your findings and decisions regarding categorical features. Which ones did you keep, which did you drop, and what engineering steps did you perform?)\n",
    "\n",
    "\n",
    "<b>The multilevel categorical variables were eliminated, the dichotomous numerical variables were kept the same and values of the dichotomous 'OST_WEST_KZ' was reemplaced by  0 when is W and 1 when is O</b>"
   ]
  },
  {
   "cell_type": "markdown",
   "metadata": {},
   "source": [
    "#### Step 1.2.2: Engineer Mixed-Type Features\n",
    "\n",
    "There are a handful of features that are marked as \"mixed\" in the feature summary that require special treatment in order to be included in the analysis. There are two in particular that deserve attention; the handling of the rest are up to your own choices:\n",
    "- \"PRAEGENDE_JUGENDJAHRE\" combines information on three dimensions: generation by decade, movement (mainstream vs. avantgarde), and nation (east vs. west). While there aren't enough levels to disentangle east from west, you should create two new variables to capture the other two dimensions: an interval-type variable for decade, and a binary variable for movement.\n",
    "- \"CAMEO_INTL_2015\" combines information on two axes: wealth and life stage. Break up the two-digit codes by their 'tens'-place and 'ones'-place digits into two new ordinal variables (which, for the purposes of this project, is equivalent to just treating them as their raw numeric values).\n",
    "- If you decide to keep or engineer new features around the other mixed-type features, make sure you note your steps in the Discussion section.\n",
    "\n",
    "Be sure to check `Data_Dictionary.md` for the details needed to finish these tasks."
   ]
  },
  {
   "cell_type": "code",
   "execution_count": 58,
   "metadata": {},
   "outputs": [
    {
     "name": "stdout",
     "output_type": "stream",
     "text": [
      "# Data Dictionary for Identify Customer Segments Data\r\n",
      "\r\n",
      "## Introduction\r\n",
      "\r\n",
      "The data for this project consist of two files:\r\n",
      "\r\n",
      "- Udacity_AZDIAS_Subset.csv: demographics data for the general population of\r\n",
      "      Germany; 891211 persons (rows) x 85 features (columns)\r\n",
      "- Udacity_CUSTOMERS_Subset.csv: demographics data for customers of a mail-order\r\n",
      "      company; 191652 persons (rows) x 85 features (columns)\r\n",
      "\r\n",
      "The columns in the general demographics file and customers data file are the\r\n",
      "same. This file documents the features that appear in the data files, sorted in\r\n",
      "order of appearance. Sections of this file is based on the level of measurement\r\n",
      "of each feature. The file \"AZDIAS_Feature_Summary.csv\" contains a summary of\r\n",
      "feature attributes, including information level, data type, and codes for\r\n",
      "missing or unknown values.\r\n",
      "\r\n",
      "### Table of Contents\r\n",
      "\r\n",
      " 1. Person-level features\r\n",
      " 2. Household-level features\r\n",
      " 3. Building-level features\r\n",
      " 4. RR4 micro-cell features\r\n",
      " 5. RR3 micro-cell features\r\n",
      " 6. Postcode-level features\r\n",
      " 7. RR1 neighborhood features\r\n",
      " 8. PLZ8 macro-cell features\r\n",
      " 9. Community-level features\r\n",
      "\r\n",
      "-----\r\n",
      "\r\n",
      "## 1. Person-level features\r\n",
      "\r\n",
      "### 1.1. AGER_TYP\r\n",
      "Best-ager typology\r\n",
      "- -1: unknown\r\n",
      "-  0: no classification possible\r\n",
      "-  1: passive elderly\r\n",
      "-  2: cultural elderly\r\n",
      "-  3: experience-driven elderly\r\n",
      "\r\n",
      "### 1.2. ALTERSKATEGORIE_GROB\r\n",
      "Estimated age based on given name analysis\r\n",
      "- -1: unknown (missing)\r\n",
      "-  0: unknown (cannot be determined)\r\n",
      "-  1: < 30 years old\r\n",
      "-  2: 30 - 45 years old\r\n",
      "-  3: 46 - 60 years old\r\n",
      "-  4: > 60 years old\r\n",
      "-  9: uniformly distributed\r\n",
      "\r\n",
      "### 1.3. ANREDE_KZ\r\n",
      "Gender\r\n",
      "- -1: unknown (missing)\r\n",
      "-  0: unknown (cannot be determined)\r\n",
      "-  1: male\r\n",
      "-  2: female\r\n",
      "\r\n",
      "### 1.4. CJT_GESAMTTYP\r\n",
      "Customer-Journey-Typology: preferred information and buying channels for\r\n",
      "consumer\r\n",
      "- 0: unknown\r\n",
      "- 1: Advertising- and Consumptionminimalist\r\n",
      "- 2: Advertising- and Consumptiontraditionalist\r\n",
      "- 3: advertisinginterested Store-shopper\r\n",
      "- 4: advertisinginterested Online-shopper\r\n",
      "- 5: Advertising- and Cross-Channel-Enthusiast\r\n",
      "- 6: Advertising-Enthusiast with restricted Cross-Channel-Behaviour\r\n",
      "\r\n",
      "### 1.5. FINANZ_MINIMALIST, FINANZ_SPARER, FINANZ_VORSORGER, FINANZ_ANLEGER,\r\n",
      "###      FINANZ_UNAUFFAELLIGER, FINANZ_HAUSBAUER\r\n",
      "Financial typology, for each dimension:\r\n",
      "- -1: unknown\r\n",
      "-  1: very high\r\n",
      "-  2: high\r\n",
      "-  3: average\r\n",
      "-  4: low\r\n",
      "-  5: very low\r\n",
      "\r\n",
      "Dimension translations:\r\n",
      "- MINIMALIST: low financial interest\r\n",
      "- SPARER: money-saver\r\n",
      "- VORSORGER: be prepared\r\n",
      "- ANLEGER: investor\r\n",
      "- UNAUFFAELLIGER: inconspicuous\r\n",
      "- HAUSBAUER: home ownership\r\n",
      "\r\n",
      "### 1.6. FINANZTYP\r\n",
      "Most descriptive financial type for individual\r\n",
      "- -1: unknown\r\n",
      "-  1: low financial interest (MINIMALIST)\r\n",
      "-  2: money-saver (SPARER)\r\n",
      "-  3: home ownership (HAUSBAUER)\r\n",
      "-  4: be prepared (VORSORGER)\r\n",
      "-  5: investor (ANLEGER)\r\n",
      "-  6: inconspicuous (UNAUFFAELLIGER)\r\n",
      "\r\n",
      "### 1.7. GEBURTSJAHR\r\n",
      "Year of birth\r\n",
      "- missing data encoded as 0\r\n",
      "\r\n",
      "### 1.8. GFK_URLAUBERTYP\r\n",
      "Vacation habits\r\n",
      "-  1: Event travelers\r\n",
      "-  2: Family-oriented vacationists\r\n",
      "-  3: Winter sportspeople\r\n",
      "-  4: Culture lovers\r\n",
      "-  5: Nature fans\r\n",
      "-  6: Hiker\r\n",
      "-  7: Golden ager\r\n",
      "-  8: Homeland-connected vacationists\r\n",
      "-  9: Package tour travelers\r\n",
      "- 10: Connoisseurs\r\n",
      "- 11: Active families\r\n",
      "- 12: Without vacation\r\n",
      "\r\n",
      "### 1.9. GREEN_AVANTGARDE\r\n",
      "Membership in environmental sustainability as part of youth\r\n",
      "- 0: not a member of green avantgarde\r\n",
      "- 1: member of green avantgarde\r\n",
      "\r\n",
      "### 1.10. HEALTH_TYP\r\n",
      "Health typology\r\n",
      "- -1: unknown\r\n",
      "-  0: classification not possible\r\n",
      "-  1: critical reserved\r\n",
      "-  2: sanitary affine  \r\n",
      "-  3: jaunty hedonists\r\n",
      "\r\n",
      "### 1.11. LP_LEBENSPHASE_FEIN\r\n",
      "Life stage, fine scale\r\n",
      "-  1: single low-income earners of younger age\r\n",
      "-  2: single low-income earners of middle age\r\n",
      "-  3: single average earners of younger age\r\n",
      "-  4: single average earners of middle age\r\n",
      "-  5: single low-income earners of advanced age\r\n",
      "-  6: single low-income earners at retirement age\r\n",
      "-  7: single average earners of advanced age\r\n",
      "-  8: single average earners at retirement age\r\n",
      "-  9: single independent persons\r\n",
      "- 10: wealthy single homeowners\r\n",
      "- 11: single homeowners of advanced age\r\n",
      "- 12: single homeowners at retirement age\r\n",
      "- 13: single top earners of higher age\r\n",
      "- 14: low-income and average earner couples of younger age\r\n",
      "- 15: low-income earner couples of higher age\r\n",
      "- 16: average earner couples of higher age\r\n",
      "- 17: independent couples\r\n",
      "- 18: wealthy homeowner couples of younger age\r\n",
      "- 19: homeowner couples of higher age\r\n",
      "- 20: top earner couples of higher age\r\n",
      "- 21: single parent low-income earners\r\n",
      "- 22: single parent average earners\r\n",
      "- 23: single parent high-income earners\r\n",
      "- 24: low-income earner families\r\n",
      "- 25: average earner families\r\n",
      "- 26: independent families\r\n",
      "- 27: homeowner families\r\n",
      "- 28: top earner families\r\n",
      "- 29: low-income earners of younger age from multiperson households\r\n",
      "- 30: average earners of younger age from multiperson households\r\n",
      "- 31: low-income earners of higher age from multiperson households\r\n",
      "- 32: average earners of higher age from multiperson households\r\n",
      "- 33: independent persons of younger age from multiperson households\r\n",
      "- 34: homeowners of younger age from multiperson households\r\n",
      "- 35: top earners of younger age from multiperson households\r\n",
      "- 36: independent persons of higher age from multiperson households\r\n",
      "- 37: homeowners of advanced age from multiperson households\r\n",
      "- 38: homeowners at retirement age from multiperson households\r\n",
      "- 39: top earners of middle age from multiperson households\r\n",
      "- 40: top earners at retirement age from multiperson households\r\n",
      "\r\n",
      "### 1.12. LP_LEBENSPHASE_GROB\r\n",
      "Life stage, rough scale\r\n",
      "-  1: single low-income and average earners of younger age\r\n",
      "-  2: single low-income and average earners of higher age\r\n",
      "-  3: single high-income earners\r\n",
      "-  4: single low-income and average-earner couples\r\n",
      "-  5: single high-income earner couples\r\n",
      "-  6: single parents\r\n",
      "-  7: single low-income and average earner families\r\n",
      "-  8: high-income earner families\r\n",
      "-  9: average earners of younger age from multiperson households\r\n",
      "- 10: low-income and average earners of higher age from multiperson households\r\n",
      "- 11: high-income earners of younger age from multiperson households\r\n",
      "- 12: high-income earners of higher age from multiperson households\r\n",
      "\r\n",
      "### 1.13. LP_FAMILIE_FEIN\r\n",
      "Family type, fine scale\r\n",
      "-  0: unknown\r\n",
      "-  1: single\r\n",
      "-  2: couple\r\n",
      "-  3: young single parent\r\n",
      "-  4: single parent with teenager\r\n",
      "-  5: single parent with child of full age\r\n",
      "-  6: young family\r\n",
      "-  7: family with teenager\r\n",
      "-  8: family with child of full age\r\n",
      "-  9: shared flat\r\n",
      "- 10: two-generational household\r\n",
      "- 11: multi-generational household\r\n",
      "\r\n",
      "### 1.14. LP_FAMILIE_GROB\r\n",
      "Family type, rough scale\r\n",
      "- 0: unknown\r\n",
      "- 1: single (maps to 1 in fine scale)\r\n",
      "- 2: couple (maps to 2 in fine scale)\r\n",
      "- 3: single parent (maps to 3-5 in fine scale)\r\n",
      "- 4: family (maps to 6-8 in fine scale)\r\n",
      "- 5: multiperson household (maps to 9-11 in fine scale)\r\n",
      "\r\n",
      "### 1.15. LP_STATUS_FEIN\r\n",
      "Social status, fine scale\r\n",
      "-  1: typical low-income earners\r\n",
      "-  2: orientation-seeking low-income earners\r\n",
      "-  3: aspiring low-income earners\r\n",
      "-  4: villagers\r\n",
      "-  5: minimalistic high-income earners\r\n",
      "-  6: independent workers\r\n",
      "-  7: title holder-households\r\n",
      "-  8: new houseowners\r\n",
      "-  9: houseowners\r\n",
      "- 10: top earners\r\n",
      "\r\n",
      "### 1.16. LP_STATUS_GROB\r\n",
      "Social status, rough scale\r\n",
      "- 1: low-income earners (maps to 1-2 in fine scale)\r\n",
      "- 2: average earners (maps to 3-5 in fine scale)\r\n",
      "- 3: independents (maps to 6-7 in fine scale)\r\n",
      "- 4: houseowners (maps to 8-9 in fine scale)\r\n",
      "- 5: top earners (maps to 10 in fine scale)\r\n",
      "\r\n",
      "### 1.17. NATIONALITAET_KZ\r\n",
      "Nationality based on given name analysis\r\n",
      "- -1: unknown\r\n",
      "-  0: unknown\r\n",
      "-  1: German-sounding\r\n",
      "-  2: foreign-sounding\r\n",
      "-  3: assimilated names\r\n",
      "\r\n",
      "### 1.18. PRAEGENDE_JUGENDJAHRE\r\n",
      "Dominating movement of person's youth (avantgarde vs. mainstream; east vs. west)\r\n",
      "- -1: unknown\r\n",
      "-  0: unknown\r\n",
      "-  1: 40s - war years (Mainstream, E+W)\r\n",
      "-  2: 40s - reconstruction years (Avantgarde, E+W)\r\n",
      "-  3: 50s - economic miracle (Mainstream, E+W)\r\n",
      "-  4: 50s - milk bar / Individualisation (Avantgarde, E+W)\r\n",
      "-  5: 60s - economic miracle (Mainstream, E+W)\r\n",
      "-  6: 60s - generation 68 / student protestors (Avantgarde, W)\r\n",
      "-  7: 60s - opponents to the building of the Wall (Avantgarde, E)\r\n",
      "-  8: 70s - family orientation (Mainstream, E+W)\r\n",
      "-  9: 70s - peace movement (Avantgarde, E+W)\r\n",
      "- 10: 80s - Generation Golf (Mainstream, W)\r\n",
      "- 11: 80s - ecological awareness (Avantgarde, W)\r\n",
      "- 12: 80s - FDJ / communist party youth organisation (Mainstream, E)\r\n",
      "- 13: 80s - Swords into ploughshares (Avantgarde, E)\r\n",
      "- 14: 90s - digital media kids (Mainstream, E+W)\r\n",
      "- 15: 90s - ecological awareness (Avantgarde, E+W)\r\n",
      "\r\n",
      "### 1.19. RETOURTYP_BK_S\r\n",
      "Return type\r\n",
      "- 0: unknown\r\n",
      "- 1: influenceable Crazy-Shopper\r\n",
      "- 2: demanding Heavy-Returner\r\n",
      "- 3: incentive-receptive Normal-Returner\r\n",
      "- 4: conservative Low-Returner\r\n",
      "- 5: determined Minimal-Returner\r\n",
      "\r\n",
      "### 1.20. SEMIO_SOZ, SEMIO_FAM, SEMIO_REL, SEMIO_MAT, SEMIO_VERT, SEMIO_LUST,\r\n",
      "###       SEMIO_ERL, SEMIO_KULT, SEMIO_RAT, SEMIO_KRIT, SEMIO_DOM, SEMIO_KAEM,\r\n",
      "###       SEMIO_PFLICHT, SEMIO_TRADV\r\n",
      "Personality typology, for each dimension:\r\n",
      "- -1: unknown\r\n",
      "-  1: highest affinity\r\n",
      "-  2: very high affinity\r\n",
      "-  3: high affinity\r\n",
      "-  4: average affinity\r\n",
      "-  5: low affinity\r\n",
      "-  6: very low affinity\r\n",
      "-  7: lowest affinity\r\n",
      "-  9: unknown\r\n",
      "\r\n",
      "Dimension translations:\r\n",
      "- SOZ: socially-minded\r\n",
      "- FAM: family-minded\r\n",
      "- REL: religious\r\n",
      "- MAT: materialistic\r\n",
      "- VERT: dreamful\r\n",
      "- LUST: sensual-minded\r\n",
      "- ERL: event-oriented\r\n",
      "- KULT: cultural-minded\r\n",
      "- RAT: rational\r\n",
      "- KRIT: critical-minded\r\n",
      "- DOM: dominant-minded\r\n",
      "- KAEM: combative attitude\r\n",
      "- PFLICHT: dutiful\r\n",
      "- TRADV: tradional-minded\r\n",
      "\r\n",
      "### 1.21. SHOPPER_TYP\r\n",
      "Shopper typology\r\n",
      "- -1: unknown\r\n",
      "-  0: external supplied hedonists\r\n",
      "-  1: Shopping-stressed\r\n",
      "-  2: family-shopper\r\n",
      "-  3: demanding shopper\r\n",
      "\r\n",
      "### 1.22. SOHO_KZ\r\n",
      "Small office / home office flag\r\n",
      "- -1: unknown\r\n",
      "- 0: no small office/home office\r\n",
      "- 1: small office/home office\r\n",
      "\r\n",
      "### 1.23. TITEL_KZ\r\n",
      "Academic title flag\r\n",
      "- -1: unknown\r\n",
      "-  0: unknown\r\n",
      "-  1: Dr.\r\n",
      "-  2: Dr. Dr.\r\n",
      "-  3: Prof.\r\n",
      "-  4: Prof. Dr.\r\n",
      "-  5: other\r\n",
      "\r\n",
      "### 1.24. VERS_TYP\r\n",
      "Insurance typology\r\n",
      "- -1: unknown\r\n",
      "-  1: social-safety driven\r\n",
      "-  2: individualistic-accepting risks\r\n",
      "\r\n",
      "### 1.25. ZABEOTYP\r\n",
      "Energy consumption typology\r\n",
      "- -1: unknown\r\n",
      "-  1: green\r\n",
      "-  2: smart\r\n",
      "-  3: fair supplied\r\n",
      "-  4: price driven\r\n",
      "-  5: seeking orientation\r\n",
      "-  6: indifferent\r\n",
      "-  9: unknown\r\n",
      "\r\n",
      "-----\r\n",
      "\r\n",
      "## 2. Household-level features\r\n",
      "\r\n",
      "### 2.1. ALTER_HH\r\n",
      "Birthdate of head of household\r\n",
      "-  0: unknown / no main age detectable\r\n",
      "-  1: 1895-01-01 to 1899-12-31\r\n",
      "-  2: 1900-01-01 to 1904-12-31\r\n",
      "-  3: 1905-01-01 to 1909-12-31\r\n",
      "-  4: 1910-01-01 to 1914-12-31\r\n",
      "-  5: 1915-01-01 to 1919-12-31\r\n",
      "-  6: 1920-01-01 to 1924-12-31\r\n",
      "-  7: 1925-01-01 to 1929-12-31\r\n",
      "-  8: 1930-01-01 to 1934-12-31\r\n",
      "-  9: 1935-01-01 to 1939-12-31\r\n",
      "- 10: 1940-01-01 to 1944-12-31\r\n",
      "- 11: 1945-01-01 to 1949-12-31\r\n",
      "- 12: 1950-01-01 to 1954-12-31\r\n",
      "- 13: 1955-01-01 to 1959-12-31\r\n",
      "- 14: 1960-01-01 to 1964-12-31\r\n",
      "- 15: 1965-01-01 to 1969-12-31\r\n",
      "- 16: 1970-01-01 to 1974-12-31\r\n",
      "- 17: 1975-01-01 to 1979-12-31\r\n",
      "- 18: 1980-01-01 to 1984-12-31\r\n",
      "- 19: 1985-01-01 to 1989-12-31\r\n",
      "- 20: 1990-01-01 to 1994-12-31\r\n",
      "- 21: 1995-01-01 to 1999-12-31\r\n",
      "\r\n",
      "### 2.2. ANZ_PERSONEN\r\n",
      "Number of adults in household\r\n",
      "\r\n",
      "### 2.3. ANZ_TITEL\r\n",
      "Number of professional academic title holders in household\r\n",
      "\r\n",
      "### 2.4. HH_EINKOMMEN_SCORE\r\n",
      "Estimated household net income\r\n",
      "- -1: unknown\r\n",
      "-  0: unknown\r\n",
      "-  1: highest income\r\n",
      "-  2: very high income\r\n",
      "-  3: high income\r\n",
      "-  4: average income\r\n",
      "-  5: lower income\r\n",
      "-  6: very low income\r\n",
      "\r\n",
      "### 2.5. KK_KUNDENTYP\r\n",
      "Consumer pattern over past 12 months\r\n",
      "- -1: unknown\r\n",
      "-  1: regular customer\r\n",
      "-  2: active customer\r\n",
      "-  3: new costumer\r\n",
      "-  4: stray customer\r\n",
      "-  5: inactive customer\r\n",
      "-  6: passive customer\r\n",
      "\r\n",
      "### 2.6. W_KEIT_KIND_HH\r\n",
      "Likelihood of children in household\r\n",
      "- -1: unknown\r\n",
      "-  0: unknown\r\n",
      "-  1: most likely\r\n",
      "-  2: very likely\r\n",
      "-  3: likely\r\n",
      "-  4: average\r\n",
      "-  5: unlikely\r\n",
      "-  6: very unlikely\r\n",
      "\r\n",
      "### 2.7. WOHNDAUER_2008\r\n",
      "Length of residence\r\n",
      "- -1: unknown\r\n",
      "-  0: unknown\r\n",
      "-  1: length of residence less than 1 year\r\n",
      "-  2: length of residence 1-2 years\r\n",
      "-  3: length of residence 2-3 years\r\n",
      "-  4: length of residence 3-4 years\r\n",
      "-  5: length of residence 4-5 years\r\n",
      "-  6: length of residence 5-6 years\r\n",
      "-  7: length of residence 6-7 years\r\n",
      "-  8: length of residence 7-10 years\r\n",
      "-  9: length of residence more than 10 years\r\n",
      "\r\n",
      "-----\r\n",
      "\r\n",
      "## 3. Building-level features\r\n",
      "\r\n",
      "### 3.1. ANZ_HAUSHALTE_AKTIV\r\n",
      "Number of households in the building\r\n",
      "- missing values encoded by 0\r\n",
      "\r\n",
      "### 3.2. ANZ_HH_TITEL\r\n",
      "Number of professional academic title holders in building\r\n",
      "\r\n",
      "### 3.3. GEBAEUDETYP\r\n",
      "Type of building (residential vs. commercial)\r\n",
      "- -1: unknown\r\n",
      "-  0: unknown\r\n",
      "-  1: residential building\r\n",
      "-  2: residential building buildings without actually known household\r\n",
      "-  3: mixed (=residential and company) building\r\n",
      "-  4: mixed building without actually known household or company\r\n",
      "-  5: company building w/o known company\r\n",
      "-  6: mixed building without actually known household\r\n",
      "-  7: company building\r\n",
      "-  8: mixed building without actually known company\r\n",
      "\r\n",
      "### 3.4. KONSUMNAEHE\r\n",
      "Distance from building to point of sale (PoS)\r\n",
      "- 1: building is located in a 125 x 125m grid cell (RA1), which is a\r\n",
      "     consumption cell\r\n",
      "- 2: building is located in a 250 x 250m grid cell that includes at least one\r\n",
      "     RA1-consumption cell\r\n",
      "- 3: building is located in a 500 x 500m grid cell that includes at least one\r\n",
      "     RA1-consumption cell\r\n",
      "- 4: building is located in a 1 x 1km grid cell that includes at least one\r\n",
      "     RA1-consumption cell\r\n",
      "- 5: building is located in a 2 x 2km grid cell that includes at least one\r\n",
      "     RA1-consumption cell\r\n",
      "- 6: building is located in a 10 x 10km grid cell that includes at least one\r\n",
      "     RA1-consumption cell\r\n",
      "- 7: building is not located in a 10 x 10km range of a consumption cell\r\n",
      "\r\n",
      "### 3.5. MIN_GEBAEUDEJAHR\r\n",
      "First year building was mentioned in the database\r\n",
      "- missing values encoded by 0\r\n",
      "\r\n",
      "### 3.6. OST_WEST_KZ\r\n",
      "Building location via former East / West Germany (GDR / FRG)\r\n",
      "- -1: unknown\r\n",
      "-  O: East (GDR)\r\n",
      "-  W: West (FRG)\r\n",
      "\r\n",
      "### 3.7. WOHNLAGE\r\n",
      "Neighborhood quality (or rural flag)\r\n",
      "- -1: unknown\r\n",
      "-  0: no score calculated\r\n",
      "-  1: very good neighborhood\r\n",
      "-  2: good neighborhood\r\n",
      "-  3: average neighborhood\r\n",
      "-  4: poor neighborhood\r\n",
      "-  5: very poor neighborhood\r\n",
      "-  7: rural neighborhood\r\n",
      "-  8: new building in rural neighborhood\r\n",
      "\r\n",
      "-----\r\n",
      "\r\n",
      "## 4. RR4 micro-cell features\r\n",
      "\r\n",
      "### 4.1. CAMEO_DEUG_2015\r\n",
      "German CAMEO: Wealth / Life Stage Typology, rough scale\r\n",
      "- -1: unknown\r\n",
      "-  1: upper class\r\n",
      "-  2: upper middleclass\r\n",
      "-  3: established middleclass\r\n",
      "-  4: consumption-oriented middleclass\r\n",
      "-  5: active middleclass\r\n",
      "-  6: low-consumption middleclass\r\n",
      "-  7: lower middleclass\r\n",
      "-  8: working class\r\n",
      "-  9: urban working class\r\n",
      "-  X: unknown\r\n",
      "\r\n",
      "### 4.2. CAMEO_DEU_2015\r\n",
      "German CAMEO: Wealth / Life Stage Typology, detailed scale\r\n",
      "- 1A: Work-Life-Balance\r\n",
      "- 1B: Wealthy Best Ager\r\n",
      "- 1C: Successful Songwriter\r\n",
      "- 1D: Old Nobility\r\n",
      "- 1E: City Nobility\r\n",
      "- 2A: Cottage Chic\r\n",
      "- 2B: Noble Jogger\r\n",
      "- 2C: Established gourmet\r\n",
      "- 2D: Fine Management\r\n",
      "- 3A: Career & Family\r\n",
      "- 3B: Powershopping Families\r\n",
      "- 3C: Rural Neighborhood\r\n",
      "- 3D: Secure Retirement\r\n",
      "- 4A: Family Starter\r\n",
      "- 4B: Family Life\r\n",
      "- 4C: String Trimmer\r\n",
      "- 4D: Empty Nest\r\n",
      "- 4E: Golden Ager\r\n",
      "- 5A: Younger Employees\r\n",
      "- 5B: Suddenly Family\r\n",
      "- 5C: Family First\r\n",
      "- 5D: Stock Market Junkies\r\n",
      "- 5E: Coffee Rider\r\n",
      "- 5F: Active Retirement\r\n",
      "- 6A: Jobstarter\r\n",
      "- 6B: Petty Bourgeois\r\n",
      "- 6C: Long-established\r\n",
      "- 6D: Sportgardener\r\n",
      "- 6E: Urban Parents\r\n",
      "- 6F: Frugal Aging\r\n",
      "- 7A: Journeymen\r\n",
      "- 7B: Mantaplatte\r\n",
      "- 7C: Factory Worker\r\n",
      "- 7D: Rear Window\r\n",
      "- 7E: Interested Retirees\r\n",
      "- 8A: Multi-culteral\r\n",
      "- 8B: Young & Mobile\r\n",
      "- 8C: Prefab\r\n",
      "- 8D: Town Seniors\r\n",
      "- 9A: First Shared Apartment\r\n",
      "- 9B: Temporary Workers\r\n",
      "- 9C: Afternoon Talk Show\r\n",
      "- 9D: Mini-Jobber\r\n",
      "- 9E: Socking Away\r\n",
      "- XX: unknown\r\n",
      "\r\n",
      "### 4.3. CAMEO_INTL_2015\r\n",
      "German CAMEO: Wealth / Life Stage Typology, mapped to international code\r\n",
      "- -1: unknown\r\n",
      "- 11: Wealthy Households - Pre-Family Couples & Singles\r\n",
      "- 12: Wealthy Households - Young Couples With Children\r\n",
      "- 13: Wealthy Households - Families With School Age Children\r\n",
      "- 14: Wealthy Households - Older Families &  Mature Couples\r\n",
      "- 15: Wealthy Households - Elders In Retirement\r\n",
      "- 21: Prosperous Households - Pre-Family Couples & Singles\r\n",
      "- 22: Prosperous Households - Young Couples With Children\r\n",
      "- 23: Prosperous Households - Families With School Age Children\r\n",
      "- 24: Prosperous Households - Older Families & Mature Couples\r\n",
      "- 25: Prosperous Households - Elders In Retirement\r\n",
      "- 31: Comfortable Households - Pre-Family Couples & Singles\r\n",
      "- 32: Comfortable Households - Young Couples With Children\r\n",
      "- 33: Comfortable Households - Families With School Age Children\r\n",
      "- 34: Comfortable Households - Older Families & Mature Couples\r\n",
      "- 35: Comfortable Households - Elders In Retirement\r\n",
      "- 41: Less Affluent Households - Pre-Family Couples & Singles\r\n",
      "- 42: Less Affluent Households - Young Couples With Children\r\n",
      "- 43: Less Affluent Households - Families With School Age Children\r\n",
      "- 44: Less Affluent Households - Older Families & Mature Couples\r\n",
      "- 45: Less Affluent Households - Elders In Retirement\r\n",
      "- 51: Poorer Households - Pre-Family Couples & Singles\r\n",
      "- 52: Poorer Households - Young Couples With Children\r\n",
      "- 53: Poorer Households - Families With School Age Children\r\n",
      "- 54: Poorer Households - Older Families & Mature Couples\r\n",
      "- 55: Poorer Households - Elders In Retirement\r\n",
      "- XX: unknown\r\n",
      "\r\n",
      "-----\r\n",
      "\r\n",
      "## 5. RR3 micro-cell features\r\n",
      "\r\n",
      "### 5.1. KBA05_ANTG1\r\n",
      "Number of 1-2 family houses in the microcell\r\n",
      "- -1: unknown\r\n",
      "-  0: no 1-2 family homes\r\n",
      "-  1: lower share of 1-2 family homes\r\n",
      "-  2: average share of 1-2 family homes\r\n",
      "-  3: high share of 1-2 family homes\r\n",
      "-  4: very high share of 1-2 family homes\r\n",
      "\r\n",
      "### 5.2. KBA05_ANTG2\r\n",
      "Number of 3-5 family houses in the microcell\r\n",
      "- -1: unknown\r\n",
      "-  0: no 3-5 family homes\r\n",
      "-  1: lower share of 3-5 family homes\r\n",
      "-  2: average share of 3-5 family homes\r\n",
      "-  3: high share of 3-5 family homes\r\n",
      "-  4: very high share of 3-5 family homes\r\n",
      "\r\n",
      "### 5.3. KBA05_ANTG3\r\n",
      "Number of 6-10 family houses in the microcell\r\n",
      "- -1: unknown\r\n",
      "-  0: no 6-10 family homes\r\n",
      "-  1: lower share of 6-10 family homes\r\n",
      "-  2: average share of 6-10 family homes\r\n",
      "-  3: high share of 6-10 family homes\r\n",
      "\r\n",
      "### 5.4. KBA05_ANTG4\r\n",
      "Number of 10+ family houses in the microcell\r\n",
      "- -1: unknown\r\n",
      "-  0: no 10+ family homes\r\n",
      "-  1: lower share of 10+ family homes\r\n",
      "-  2: high share of 10+ family homes\r\n",
      "\r\n",
      "### 5.5. KBA05_BAUMAX\r\n",
      "Most common building type within the microcell\r\n",
      "- -1: unknown\r\n",
      "-  0: unknown\r\n",
      "-  1: mainly 1-2 family homes in the microcell\r\n",
      "-  2: mainly 3-5 family homes in the microcell\r\n",
      "-  3: mainly 6-10 family homes in the microcell\r\n",
      "-  4: mainly 10+ family homes in the microcell\r\n",
      "-  5: mainly business buildings in the microcell\r\n",
      "\r\n",
      "### 5.6. KBA05_GBZ\r\n",
      "Number of buildings in the microcell\r\n",
      "- -1: unknown\r\n",
      "-  0: unknown\r\n",
      "-  1: 1-2 buildings\r\n",
      "-  2: 3-4 buildings\r\n",
      "-  3: 5-16 buildings\r\n",
      "-  4: 17-22 buildings\r\n",
      "-  5: >=23 buildings\r\n",
      "\r\n",
      "-----\r\n",
      "\r\n",
      "## 6. Postcode-level features\r\n",
      "\r\n",
      "### 6.1. BALLRAUM\r\n",
      "Distance to nearest urban center\r\n",
      "- -1: unknown\r\n",
      "-  1: less than 10 km\r\n",
      "-  2: 10 -  20 km\r\n",
      "-  3: 20 -  30 km\r\n",
      "-  4: 30 -  40 km\r\n",
      "-  5: 40 -  50 km\r\n",
      "-  6: 50 - 100 km\r\n",
      "-  7: more than 100 km\r\n",
      "\r\n",
      "### 6.2. EWDICHTE\r\n",
      "Density of households per square kilometer\r\n",
      "- -1: unknown\r\n",
      "-  1: less than 34 households per km^2\r\n",
      "-  2:  34 -  89 households per km^2\r\n",
      "-  3:  90 - 149 households per km^2\r\n",
      "-  4: 150 - 319 households per km^2\r\n",
      "-  5: 320 - 999 households per km^2\r\n",
      "-  6: more than 999 households per km^2\r\n",
      "\r\n",
      "### 6.3. INNENSTADT\r\n",
      "Distance to city center (downtown)\r\n",
      "- -1: unknown\r\n",
      "-  1: in city center\r\n",
      "-  2: less than 3 km to city center\r\n",
      "-  3:  3 -  5 km to city center\r\n",
      "-  4:  5 - 10 km to city center\r\n",
      "-  5: 10 - 20 km to city center\r\n",
      "-  6: 20 - 30 km to city center\r\n",
      "-  7: 30 - 40 km to city center\r\n",
      "-  8: more than 40 km to city center\r\n",
      "\r\n",
      "-----\r\n",
      "\r\n",
      "## 7. RR1 region features\r\n",
      "\r\n",
      "### 7.1. GEBAEUDETYP_RASTER\r\n",
      "Ratio of residential to commercial activity\r\n",
      "- 1: business cell\r\n",
      "- 2: mixed cell with high business share\r\n",
      "- 3: mixed cell with middle business share\r\n",
      "- 4: mixed cell with low business share\r\n",
      "- 5: residential cell\r\n",
      "\r\n",
      "### 7.2. KKK\r\n",
      "Purchasing power in region\r\n",
      "- -1; unknown\r\n",
      "-  0: unknown\r\n",
      "-  1: very high\r\n",
      "-  2: high\r\n",
      "-  3: average\r\n",
      "-  4: low\r\n",
      "\r\n",
      "### 7.3. MOBI_REGIO\r\n",
      "Movement patterns\r\n",
      "- 1: very high movement\r\n",
      "- 2: high movement\r\n",
      "- 3: middle movement\r\n",
      "- 4: low movement\r\n",
      "- 5: very low movement\r\n",
      "- 6: none\r\n",
      "\r\n",
      "### 7.4. ONLINE_AFFINITAET\r\n",
      "Online affinity\r\n",
      "- 0: none\r\n",
      "- 1: low\r\n",
      "- 2: middle\r\n",
      "- 3: high\r\n",
      "- 4: very high\r\n",
      "- 5: highest\r\n",
      "\r\n",
      "### 7.5. REGIOTYP\r\n",
      "Neighborhood typology\r\n",
      "- -1: unknown\r\n",
      "-  0: unknown\r\n",
      "-  1: upper class\r\n",
      "-  2: conservatives\r\n",
      "-  3: upper middle class\r\n",
      "-  4: middle class\r\n",
      "-  5: lower middle class\r\n",
      "-  6: traditional workers\r\n",
      "-  7: marginal groups\r\n",
      "\r\n",
      "-----\r\n",
      "\r\n",
      "## 8. PLZ8 macro-cell features\r\n",
      "\r\n",
      "### 8.1. KBA13_ANZAHL_PKW\r\n",
      "Number of cars in the PLZ8 region\r\n",
      "\r\n",
      "### 8.2. PLZ8_ANTG1\r\n",
      "Number of 1-2 family houses in the PLZ8 region\r\n",
      "- -1: unknown\r\n",
      "-  0: no 1-2 family homes\r\n",
      "-  1: lower share of 1-2 family homes\r\n",
      "-  2: average share of 1-2 family homes\r\n",
      "-  3: high share of 1-2 family homes\r\n",
      "-  4: very high share of 1-2 family homes\r\n",
      "\r\n",
      "### 8.3. PLZ8_ANTG2\r\n",
      "Number of 3-5 family houses in the PLZ8 region\r\n",
      "- -1: unknown\r\n",
      "-  0: no 3-5 family homes\r\n",
      "-  1: lower share of 3-5 family homes\r\n",
      "-  2: average share of 3-5 family homes\r\n",
      "-  3: high share of 3-5 family homes\r\n",
      "-  4: very high share of 3-5 family homes\r\n",
      "\r\n",
      "### 8.4. PLZ8_ANTG3\r\n",
      "Number of 6-10 family houses in the PLZ8 region\r\n",
      "- -1: unknown\r\n",
      "-  0: no 6-10 family homes\r\n",
      "-  1: lower share of 6-10 family homes\r\n",
      "-  2: average share of 6-10 family homes\r\n",
      "-  3: high share of 6-10 family homes\r\n",
      "\r\n",
      "### 8.5. PLZ8_ANTG4\r\n",
      "Number of 10+ family houses in the PLZ8 region\r\n",
      "- -1: unknown\r\n",
      "-  0: no 10+ family homes\r\n",
      "-  1: lower share of 10+ family homes\r\n",
      "-  2: high share of 10+ family homes\r\n",
      "\r\n",
      "### 8.6. PLZ8_BAUMAX\r\n",
      "Most common building type within the PLZ8 region\r\n",
      "- -1: unknown\r\n",
      "-  0: unknown\r\n",
      "-  1: mainly 1-2 family homes\r\n",
      "-  2: mainly 3-5 family homes\r\n",
      "-  3: mainly 6-10 family homes\r\n",
      "-  4: mainly 10+ family homes\r\n",
      "-  5: mainly business buildings\r\n",
      "\r\n",
      "### 8.7. PLZ8_HHZ\r\n",
      "Number of households within the PLZ8 region\r\n",
      "- -1: unknown\r\n",
      "-  1: less than 130 households\r\n",
      "-  2: 131-299 households\r\n",
      "-  3: 300-599 households\r\n",
      "-  4: 600-849 households\r\n",
      "-  5: more than 849 households\r\n",
      "\r\n",
      "### 8.8. PLZ8_GBZ\r\n",
      "Number of buildings within the PLZ8 region\r\n",
      "- -1: unknown\r\n",
      "-  1: less than 60 buildings\r\n",
      "-  2:  60-129 buildings\r\n",
      "-  3: 130-299 buildings\r\n",
      "-  4: 300-449 buildings\r\n",
      "-  5: more than 449 buildings\r\n",
      "\r\n",
      "-----\r\n",
      "\r\n",
      "## 9. Community-level features\r\n",
      "\r\n",
      "### 9.1. ARBEIT\r\n",
      "Share of unemployment in community\r\n",
      "- -1: unknown\r\n",
      "-  1: very low\r\n",
      "-  2: low\r\n",
      "-  3: average\r\n",
      "-  4: high\r\n",
      "-  5: very high\r\n",
      "-  9: unknown\r\n",
      "\r\n",
      "### 9.2. ORTSGR_KLS9\r\n",
      "Size of community\r\n",
      "- -1: unknown\r\n",
      "-  1: <= 2,000 inhabitants\r\n",
      "-  2:   2,001 to   5,000 inhabitants\r\n",
      "-  3:   5,001 to  10,000 inhabitants\r\n",
      "-  4:  10,001 to  20,000 inhabitants\r\n",
      "-  5:  20,001 to  50,000 inhabitants\r\n",
      "-  6:  50,001 to 100,000 inhabitants\r\n",
      "-  7: 100,001 to 300,000 inhabitants\r\n",
      "-  8: 300,001 to 700,000 inhabitants\r\n",
      "-  9: > 700,000  inhabitants\r\n",
      "\r\n",
      "### 9.3. RELAT_AB\r\n",
      "Share of unemployment relative to county in which community is contained\r\n",
      "- -1: unknown\r\n",
      "-  1: very low\r\n",
      "-  2: low\r\n",
      "-  3: average\r\n",
      "-  4: high\r\n",
      "-  5: very high\r\n",
      "-  9: unknown\r\n"
     ]
    }
   ],
   "source": [
    "! cat Data_Dictionary.md"
   ]
  },
  {
   "cell_type": "markdown",
   "metadata": {},
   "source": [
    "PRAEGENDE_JUGENDJAHRE\n",
    "Dominating movement of person's youth (avantgarde vs. mainstream; east vs. west)\n",
    "- -1: unknown\n",
    "-  0: unknown\n",
    "-  1: 40s - war years (Mainstream, E+W)\n",
    "-  2: 40s - reconstruction years (Avantgarde, E+W)\n",
    "-  3: 50s - economic miracle (Mainstream, E+W)\n",
    "-  4: 50s - milk bar / Individualisation (Avantgarde, E+W)\n",
    "-  5: 60s - economic miracle (Mainstream, E+W)\n",
    "-  6: 60s - generation 68 / student protestors (Avantgarde, W)\n",
    "-  7: 60s - opponents to the building of the Wall (Avantgarde, E)\n",
    "-  8: 70s - family orientation (Mainstream, E+W)\n",
    "-  9: 70s - peace movement (Avantgarde, E+W)\n",
    "- 10: 80s - Generation Golf (Mainstream, W)\n",
    "- 11: 80s - ecological awareness (Avantgarde, W)\n",
    "- 12: 80s - FDJ / communist party youth organisation (Mainstream, E)\n",
    "- 13: 80s - Swords into ploughshares (Avantgarde, E)\n",
    "- 14: 90s - digital media kids (Mainstream, E+W)\n",
    "- 15: 90s - ecological awareness (Avantgarde, E+W)"
   ]
  },
  {
   "cell_type": "code",
   "execution_count": 59,
   "metadata": {},
   "outputs": [
    {
     "data": {
      "text/plain": [
       "dtype('float64')"
      ]
     },
     "execution_count": 59,
     "metadata": {},
     "output_type": "execute_result"
    }
   ],
   "source": [
    "azdias['PRAEGENDE_JUGENDJAHRE'].dtype"
   ]
  },
  {
   "cell_type": "code",
   "execution_count": 60,
   "metadata": {},
   "outputs": [],
   "source": [
    "def fdecade(p_j):\n",
    "    if p_j in (1,2):\n",
    "        res = 40\n",
    "    elif p_j in (3,4):\n",
    "        res = 50\n",
    "    elif p_j in (5,6,7):\n",
    "        res = 60\n",
    "    elif p_j in (8,9):\n",
    "        res = 70\n",
    "    elif p_j in (10,11,12,13):\n",
    "        res = 80\n",
    "    elif p_j in (14,15):\n",
    "        res = 90\n",
    "    else:\n",
    "        res = np.nan\n",
    "    return res"
   ]
  },
  {
   "cell_type": "code",
   "execution_count": 61,
   "metadata": {},
   "outputs": [],
   "source": [
    "def fmovement(p_j):\n",
    "    if p_j in (1,3,5,8,10,12,14):\n",
    "        res = 0\n",
    "    elif p_j in (2,4,6,7,9,11,13,15):\n",
    "        res = 1\n",
    "    else:\n",
    "        res = np.nan\n",
    "    return res"
   ]
  },
  {
   "cell_type": "code",
   "execution_count": 62,
   "metadata": {},
   "outputs": [],
   "source": [
    "# Investigate \"PRAEGENDE_JUGENDJAHRE\" and engineer two new variables.\n",
    "\n",
    "azdias['PRAEGENDE_JUGENDJAHRE_decade'] = azdias['PRAEGENDE_JUGENDJAHRE'].apply(fdecade)\n",
    "\n",
    "azdias['PRAEGENDE_JUGENDJAHRE_movement'] = azdias['PRAEGENDE_JUGENDJAHRE'].apply(fmovement)"
   ]
  },
  {
   "cell_type": "code",
   "execution_count": 63,
   "metadata": {},
   "outputs": [
    {
     "data": {
      "text/html": [
       "<div>\n",
       "<style scoped>\n",
       "    .dataframe tbody tr th:only-of-type {\n",
       "        vertical-align: middle;\n",
       "    }\n",
       "\n",
       "    .dataframe tbody tr th {\n",
       "        vertical-align: top;\n",
       "    }\n",
       "\n",
       "    .dataframe thead th {\n",
       "        text-align: right;\n",
       "    }\n",
       "</style>\n",
       "<table border=\"1\" class=\"dataframe\">\n",
       "  <thead>\n",
       "    <tr style=\"text-align: right;\">\n",
       "      <th></th>\n",
       "      <th>PRAEGENDE_JUGENDJAHRE</th>\n",
       "      <th>PRAEGENDE_JUGENDJAHRE_decade</th>\n",
       "      <th>PRAEGENDE_JUGENDJAHRE_movement</th>\n",
       "    </tr>\n",
       "  </thead>\n",
       "  <tbody>\n",
       "    <tr>\n",
       "      <th>1</th>\n",
       "      <td>14.0</td>\n",
       "      <td>90.0</td>\n",
       "      <td>0.0</td>\n",
       "    </tr>\n",
       "    <tr>\n",
       "      <th>2</th>\n",
       "      <td>15.0</td>\n",
       "      <td>90.0</td>\n",
       "      <td>1.0</td>\n",
       "    </tr>\n",
       "    <tr>\n",
       "      <th>3</th>\n",
       "      <td>8.0</td>\n",
       "      <td>70.0</td>\n",
       "      <td>0.0</td>\n",
       "    </tr>\n",
       "    <tr>\n",
       "      <th>4</th>\n",
       "      <td>8.0</td>\n",
       "      <td>70.0</td>\n",
       "      <td>0.0</td>\n",
       "    </tr>\n",
       "    <tr>\n",
       "      <th>5</th>\n",
       "      <td>3.0</td>\n",
       "      <td>50.0</td>\n",
       "      <td>0.0</td>\n",
       "    </tr>\n",
       "  </tbody>\n",
       "</table>\n",
       "</div>"
      ],
      "text/plain": [
       "   PRAEGENDE_JUGENDJAHRE  PRAEGENDE_JUGENDJAHRE_decade  \\\n",
       "1                   14.0                          90.0   \n",
       "2                   15.0                          90.0   \n",
       "3                    8.0                          70.0   \n",
       "4                    8.0                          70.0   \n",
       "5                    3.0                          50.0   \n",
       "\n",
       "   PRAEGENDE_JUGENDJAHRE_movement  \n",
       "1                             0.0  \n",
       "2                             1.0  \n",
       "3                             0.0  \n",
       "4                             0.0  \n",
       "5                             0.0  "
      ]
     },
     "execution_count": 63,
     "metadata": {},
     "output_type": "execute_result"
    }
   ],
   "source": [
    "azdias[['PRAEGENDE_JUGENDJAHRE','PRAEGENDE_JUGENDJAHRE_decade','PRAEGENDE_JUGENDJAHRE_movement']].head()"
   ]
  },
  {
   "cell_type": "markdown",
   "metadata": {},
   "source": [
    "4.3. CAMEO_INTL_2015\n",
    "German CAMEO: Wealth / Life Stage Typology, mapped to international code\n",
    "- -1: unknown\n",
    "- 11: Wealthy Households - Pre-Family Couples & Singles\n",
    "- 12: Wealthy Households - Young Couples With Children\n",
    "- 13: Wealthy Households - Families With School Age Children\n",
    "- 14: Wealthy Households - Older Families &  Mature Couples\n",
    "- 15: Wealthy Households - Elders In Retirement\n",
    "- 21: Prosperous Households - Pre-Family Couples & Singles\n",
    "- 22: Prosperous Households - Young Couples With Children\n",
    "- 23: Prosperous Households - Families With School Age Children\n",
    "- 24: Prosperous Households - Older Families & Mature Couples\n",
    "- 25: Prosperous Households - Elders In Retirement\n",
    "- 31: Comfortable Households - Pre-Family Couples & Singles\n",
    "- 32: Comfortable Households - Young Couples With Children\n",
    "- 33: Comfortable Households - Families With School Age Children\n",
    "- 34: Comfortable Households - Older Families & Mature Couples\n",
    "- 35: Comfortable Households - Elders In Retirement\n",
    "- 41: Less Affluent Households - Pre-Family Couples & Singles\n",
    "- 42: Less Affluent Households - Young Couples With Children\n",
    "- 43: Less Affluent Households - Families With School Age Children\n",
    "- 44: Less Affluent Households - Older Families & Mature Couples\n",
    "- 45: Less Affluent Households - Elders In Retirement\n",
    "- 51: Poorer Households - Pre-Family Couples & Singles\n",
    "- 52: Poorer Households - Young Couples With Children\n",
    "- 53: Poorer Households - Families With School Age Children\n",
    "- 54: Poorer Households - Older Families & Mature Couples\n",
    "- 55: Poorer Households - Elders In Retirement\n",
    "- XX: unknown"
   ]
  },
  {
   "cell_type": "code",
   "execution_count": 64,
   "metadata": {},
   "outputs": [
    {
     "data": {
      "text/plain": [
       "dtype('O')"
      ]
     },
     "execution_count": 64,
     "metadata": {},
     "output_type": "execute_result"
    }
   ],
   "source": [
    "azdias['CAMEO_INTL_2015'].dtype"
   ]
  },
  {
   "cell_type": "code",
   "execution_count": 65,
   "metadata": {},
   "outputs": [],
   "source": [
    "azdias['CAMEO_INTL_2015'] = pd.to_numeric(azdias['CAMEO_INTL_2015'])"
   ]
  },
  {
   "cell_type": "code",
   "execution_count": 66,
   "metadata": {},
   "outputs": [],
   "source": [
    "def fwealth(c_i):\n",
    "    try:\n",
    "        res = int(c_i/10)\n",
    "    except:\n",
    "        res = np.nan\n",
    "    return res"
   ]
  },
  {
   "cell_type": "code",
   "execution_count": 67,
   "metadata": {},
   "outputs": [],
   "source": [
    "def flife(c_i):\n",
    "    try:\n",
    "        res = c_i % 10\n",
    "    except:\n",
    "        res = np.nan\n",
    "    return res"
   ]
  },
  {
   "cell_type": "code",
   "execution_count": 68,
   "metadata": {},
   "outputs": [],
   "source": [
    "# Investigate \"CAMEO_INTL_2015\" and engineer two new variables.\n",
    "\n",
    "azdias['CAMEO_INTL_2015_wealth'] = azdias['CAMEO_INTL_2015'].apply(fwealth)\n",
    "\n",
    "azdias['CAMEO_INTL_2015_life'] = azdias['CAMEO_INTL_2015'].apply(flife)"
   ]
  },
  {
   "cell_type": "code",
   "execution_count": 69,
   "metadata": {},
   "outputs": [
    {
     "data": {
      "text/html": [
       "<div>\n",
       "<style scoped>\n",
       "    .dataframe tbody tr th:only-of-type {\n",
       "        vertical-align: middle;\n",
       "    }\n",
       "\n",
       "    .dataframe tbody tr th {\n",
       "        vertical-align: top;\n",
       "    }\n",
       "\n",
       "    .dataframe thead th {\n",
       "        text-align: right;\n",
       "    }\n",
       "</style>\n",
       "<table border=\"1\" class=\"dataframe\">\n",
       "  <thead>\n",
       "    <tr style=\"text-align: right;\">\n",
       "      <th></th>\n",
       "      <th>CAMEO_INTL_2015</th>\n",
       "      <th>CAMEO_INTL_2015_wealth</th>\n",
       "      <th>CAMEO_INTL_2015_life</th>\n",
       "    </tr>\n",
       "  </thead>\n",
       "  <tbody>\n",
       "    <tr>\n",
       "      <th>1</th>\n",
       "      <td>51.0</td>\n",
       "      <td>5.0</td>\n",
       "      <td>1.0</td>\n",
       "    </tr>\n",
       "    <tr>\n",
       "      <th>2</th>\n",
       "      <td>24.0</td>\n",
       "      <td>2.0</td>\n",
       "      <td>4.0</td>\n",
       "    </tr>\n",
       "    <tr>\n",
       "      <th>3</th>\n",
       "      <td>12.0</td>\n",
       "      <td>1.0</td>\n",
       "      <td>2.0</td>\n",
       "    </tr>\n",
       "    <tr>\n",
       "      <th>4</th>\n",
       "      <td>43.0</td>\n",
       "      <td>4.0</td>\n",
       "      <td>3.0</td>\n",
       "    </tr>\n",
       "    <tr>\n",
       "      <th>5</th>\n",
       "      <td>54.0</td>\n",
       "      <td>5.0</td>\n",
       "      <td>4.0</td>\n",
       "    </tr>\n",
       "  </tbody>\n",
       "</table>\n",
       "</div>"
      ],
      "text/plain": [
       "   CAMEO_INTL_2015  CAMEO_INTL_2015_wealth  CAMEO_INTL_2015_life\n",
       "1             51.0                     5.0                   1.0\n",
       "2             24.0                     2.0                   4.0\n",
       "3             12.0                     1.0                   2.0\n",
       "4             43.0                     4.0                   3.0\n",
       "5             54.0                     5.0                   4.0"
      ]
     },
     "execution_count": 69,
     "metadata": {},
     "output_type": "execute_result"
    }
   ],
   "source": [
    "azdias[['CAMEO_INTL_2015','CAMEO_INTL_2015_wealth','CAMEO_INTL_2015_life']].head()"
   ]
  },
  {
   "cell_type": "code",
   "execution_count": 70,
   "metadata": {},
   "outputs": [],
   "source": [
    "azdias.drop(['PRAEGENDE_JUGENDJAHRE','CAMEO_INTL_2015'],axis=1,inplace=True)"
   ]
  },
  {
   "cell_type": "code",
   "execution_count": 71,
   "metadata": {},
   "outputs": [
    {
     "data": {
      "text/plain": [
       "(797961, 68)"
      ]
     },
     "execution_count": 71,
     "metadata": {},
     "output_type": "execute_result"
    }
   ],
   "source": [
    "azdias.shape"
   ]
  },
  {
   "cell_type": "markdown",
   "metadata": {},
   "source": [
    "#### Discussion 1.2.2: Engineer Mixed-Type Features\n",
    "\n",
    "(Double-click this cell and replace this text with your own text, reporting your findings and decisions regarding mixed-value features. Which ones did you keep, which did you drop, and what engineering steps did you perform?)\n",
    "\n",
    "<b>The following features will be removed::\n",
    "    <li>LP_LEBENSPHASE_FEIN</li>\n",
    "    <li>LP_LEBENSPHASE_GROB</li>\n",
    "    <li>WOHNLAGE</li>\n",
    "    <li>KBA05_BAUMAX</li>\n",
    "    <li>PLZ8_BAUMAX</li>\n",
    "The following are keeping:\n",
    "    <li>PRAEGENDE_JUGENDJAHRE</li>\n",
    "    <li>CAMEO_INTL_2015</li>\n",
    "The enginneering steps was:\n",
    "    <li>PRAEGENDE_JUGENDJAHRE</li>\n",
    "    Pull apart the decade and movement\n",
    "    <li>CAMEO_INTL_2015</li>\n",
    "    Pull apart the wealth and life stage\n",
    "</b>"
   ]
  },
  {
   "cell_type": "markdown",
   "metadata": {},
   "source": [
    "#### Step 1.2.3: Complete Feature Selection\n",
    "\n",
    "In order to finish this step up, you need to make sure that your data frame now only has the columns that you want to keep. To summarize, the dataframe should consist of the following:\n",
    "- All numeric, interval, and ordinal type columns from the original dataset.\n",
    "- Binary categorical features (all numerically-encoded).\n",
    "- Engineered features from other multi-level categorical features and mixed features.\n",
    "\n",
    "Make sure that for any new columns that you have engineered, that you've excluded the original columns from the final dataset. Otherwise, their values will interfere with the analysis later on the project. For example, you should not keep \"PRAEGENDE_JUGENDJAHRE\", since its values won't be useful for the algorithm: only the values derived from it in the engineered features you created should be retained. As a reminder, your data should only be from **the subset with few or no missing values**."
   ]
  },
  {
   "cell_type": "code",
   "execution_count": 72,
   "metadata": {},
   "outputs": [],
   "source": [
    "# If there are other re-engineering tasks you need to perform, make sure you\n",
    "# take care of them here. (Dealing with missing data will come in step 2.1.)\n",
    "\n"
   ]
  },
  {
   "cell_type": "code",
   "execution_count": 73,
   "metadata": {},
   "outputs": [],
   "source": [
    "# Do whatever you need to in order to ensure that the dataframe only contains\n",
    "# the columns that should be passed to the algorithm functions.\n",
    "\n"
   ]
  },
  {
   "cell_type": "markdown",
   "metadata": {},
   "source": [
    "### Step 1.3: Create a Cleaning Function\n",
    "\n",
    "Even though you've finished cleaning up the general population demographics data, it's important to look ahead to the future and realize that you'll need to perform the same cleaning steps on the customer demographics data. In this substep, complete the function below to execute the main feature selection, encoding, and re-engineering steps you performed above. Then, when it comes to looking at the customer data in Step 3, you can just run this function on that DataFrame to get the trimmed dataset in a single step."
   ]
  },
  {
   "cell_type": "code",
   "execution_count": 74,
   "metadata": {},
   "outputs": [],
   "source": [
    "def clean_data(df):\n",
    "    \"\"\"\n",
    "    Perform feature trimming, re-encoding, and engineering for demographics\n",
    "    data\n",
    "    \n",
    "    INPUT: Demographics DataFrame\n",
    "    OUTPUT: Trimmed and cleaned demographics DataFrame\n",
    "    \"\"\"\n",
    "    \n",
    "    # Put in code here to execute all main cleaning steps:\n",
    "    # convert missing value codes into NaNs, ...\n",
    "    \n",
    "    \n",
    "    for missrule in feat_info[['attribute','missing_or_unknown']].values:\n",
    "        if(missrule[1]!='[]'):\n",
    "            cond={missrule[0]:{_f(df,missrule[0],k):np.nan for k in missrule[1]\\\n",
    "                               .replace('[','').replace(']','')\\\n",
    "                               .split(',')}}\n",
    "            df.replace(cond,inplace=True)    \n",
    "    \n",
    "    # remove selected columns and rows, ...\n",
    "    \n",
    "    missins={}\n",
    "    for col in df.columns:\n",
    "        nnuls=df[col].isnull().mean()\n",
    "        missins[col]=nnuls\n",
    "\n",
    "    df_missins=pd.DataFrame(data=list(missins.items()),columns=['field','pct'])\n",
    "    drop_cols = df_missins[df_missins['pct']>.25]['field'].values\n",
    "    #drop selected columns with missings values..\n",
    "    df.drop(drop_cols,axis=1,inplace=True)\n",
    "    df_missins = df_missins[df_missins['field'].isin(df.columns)]\n",
    "    \n",
    "    #Drop rows with many missings values\n",
    "    df['nro_missings']=df.isna().sum(axis=1)\n",
    "    df_greater25=df[df['nro_missings']>25]\n",
    "    df.drop(df_greater25.index,axis=0,inplace=True)\n",
    "#     df.dropna(inplace=True)\n",
    "    df.drop('nro_missings',axis=1,inplace=True)\n",
    "    \n",
    "    categoricals = feat_info[feat_info['type']=='categorical']\n",
    "    mixeds = feat_info[feat_info['type']=='mixed']\n",
    "    \n",
    "    categoricals.drop(categoricals[categoricals['attribute'].isin(drop_cols)].index,inplace=True)\n",
    "    mixeds.drop(mixeds[mixeds['attribute'].isin(drop_cols)].index,inplace=True)\n",
    "    \n",
    "    binary_multilevel=[]\n",
    "    for attribute in categoricals['attribute']:\n",
    "        binary_multilevel.append('b' if df[attribute].nunique()==2 else 'ml')\n",
    "    \n",
    "    categoricals['binary_multilevel']=binary_multilevel\n",
    "    \n",
    "    df.drop(categoricals[categoricals['binary_multilevel']=='ml']['attribute'].values,axis=1,inplace=True)\n",
    "    \n",
    "    # select, re-encode, and engineer column values.\n",
    "    if 'OST_WEST_KZ' in df.keys():\n",
    "        df['OST_WEST_KZ'] = df['OST_WEST_KZ'].replace({'W':0,'O':1})\n",
    "    if 'PRAEGENDE_JUGENDJAHRE' in df.keys():\n",
    "        df['PRAEGENDE_JUGENDJAHRE_decade'] = df['PRAEGENDE_JUGENDJAHRE'].apply(fdecade)\n",
    "        df['PRAEGENDE_JUGENDJAHRE_movement'] = df['PRAEGENDE_JUGENDJAHRE'].apply(fmovement)\n",
    "        df.drop('PRAEGENDE_JUGENDJAHRE',axis=1,inplace=True)\n",
    "    if 'CAMEO_INTL_2015' in df.keys():\n",
    "        df['CAMEO_INTL_2015'] = pd.to_numeric(df['CAMEO_INTL_2015'])\n",
    "        df['CAMEO_INTL_2015_wealth'] = df['CAMEO_INTL_2015'].apply(fwealth)\n",
    "        df['CAMEO_INTL_2015_life'] = df['CAMEO_INTL_2015'].apply(flife)\n",
    "        df.drop('CAMEO_INTL_2015',axis=1,inplace=True)\n",
    "    \n",
    "    # Return the cleaned dataframe.\n",
    "    \n",
    "    return df"
   ]
  },
  {
   "cell_type": "code",
   "execution_count": 75,
   "metadata": {},
   "outputs": [],
   "source": [
    "azdias_BACK = pd.read_csv('Udacity_AZDIAS_Subset.csv',sep=';')"
   ]
  },
  {
   "cell_type": "code",
   "execution_count": 76,
   "metadata": {},
   "outputs": [
    {
     "data": {
      "text/plain": [
       "(85,)"
      ]
     },
     "execution_count": 76,
     "metadata": {},
     "output_type": "execute_result"
    }
   ],
   "source": [
    "azdias_BACK.columns.shape"
   ]
  },
  {
   "cell_type": "code",
   "execution_count": 77,
   "metadata": {},
   "outputs": [
    {
     "name": "stderr",
     "output_type": "stream",
     "text": [
      "/opt/conda/lib/python3.6/site-packages/pandas/core/frame.py:3697: SettingWithCopyWarning: \n",
      "A value is trying to be set on a copy of a slice from a DataFrame\n",
      "\n",
      "See the caveats in the documentation: http://pandas.pydata.org/pandas-docs/stable/indexing.html#indexing-view-versus-copy\n",
      "  errors=errors)\n",
      "/opt/conda/lib/python3.6/site-packages/ipykernel_launcher.py:49: SettingWithCopyWarning: \n",
      "A value is trying to be set on a copy of a slice from a DataFrame.\n",
      "Try using .loc[row_indexer,col_indexer] = value instead\n",
      "\n",
      "See the caveats in the documentation: http://pandas.pydata.org/pandas-docs/stable/indexing.html#indexing-view-versus-copy\n"
     ]
    }
   ],
   "source": [
    "az2 = clean_data(azdias_BACK)"
   ]
  },
  {
   "cell_type": "code",
   "execution_count": 78,
   "metadata": {},
   "outputs": [
    {
     "data": {
      "text/plain": [
       "(797961, 68)"
      ]
     },
     "execution_count": 78,
     "metadata": {},
     "output_type": "execute_result"
    }
   ],
   "source": [
    "az2.shape"
   ]
  },
  {
   "cell_type": "code",
   "execution_count": 79,
   "metadata": {},
   "outputs": [
    {
     "name": "stdout",
     "output_type": "stream",
     "text": [
      "Two dataframes are the same?: True\n"
     ]
    }
   ],
   "source": [
    "print('Two dataframes are the same?:',azdias.equals(az2))"
   ]
  },
  {
   "cell_type": "markdown",
   "metadata": {},
   "source": [
    "## Step 2: Feature Transformation\n",
    "\n",
    "### Step 2.1: Apply Feature Scaling\n",
    "\n",
    "Before we apply dimensionality reduction techniques to the data, we need to perform feature scaling so that the principal component vectors are not influenced by the natural differences in scale for features. Starting from this part of the project, you'll want to keep an eye on the [API reference page for sklearn](http://scikit-learn.org/stable/modules/classes.html) to help you navigate to all of the classes and functions that you'll need. In this substep, you'll need to check the following:\n",
    "\n",
    "- sklearn requires that data not have missing values in order for its estimators to work properly. So, before applying the scaler to your data, make sure that you've cleaned the DataFrame of the remaining missing values. This can be as simple as just removing all data points with missing data, or applying an [Imputer](https://scikit-learn.org/0.16/modules/generated/sklearn.preprocessing.Imputer.html) to replace all missing values. You might also try a more complicated procedure where you temporarily remove missing values in order to compute the scaling parameters before re-introducing those missing values and applying imputation. Think about how much missing data you have and what possible effects each approach might have on your analysis, and justify your decision in the discussion section below.\n",
    "- For the actual scaling function, a [StandardScaler](http://scikit-learn.org/stable/modules/generated/sklearn.preprocessing.StandardScaler.html) instance is suggested, scaling each feature to mean 0 and standard deviation 1.\n",
    "- For these classes, you can make use of the `.fit_transform()` method to both fit a procedure to the data as well as apply the transformation to the data at the same time. Don't forget to keep the fit sklearn objects handy, since you'll be applying them to the customer demographics data towards the end of the project."
   ]
  },
  {
   "cell_type": "code",
   "execution_count": 80,
   "metadata": {},
   "outputs": [
    {
     "data": {
      "text/plain": [
       "Index(['ALTERSKATEGORIE_GROB', 'ANREDE_KZ', 'FINANZ_MINIMALIST',\n",
       "       'FINANZ_SPARER', 'FINANZ_VORSORGER', 'FINANZ_ANLEGER',\n",
       "       'FINANZ_UNAUFFAELLIGER', 'FINANZ_HAUSBAUER', 'GREEN_AVANTGARDE',\n",
       "       'HEALTH_TYP', 'LP_LEBENSPHASE_FEIN', 'LP_LEBENSPHASE_GROB',\n",
       "       'RETOURTYP_BK_S', 'SEMIO_SOZ', 'SEMIO_FAM', 'SEMIO_REL', 'SEMIO_MAT',\n",
       "       'SEMIO_VERT', 'SEMIO_LUST', 'SEMIO_ERL', 'SEMIO_KULT', 'SEMIO_RAT',\n",
       "       'SEMIO_KRIT', 'SEMIO_DOM', 'SEMIO_KAEM', 'SEMIO_PFLICHT', 'SEMIO_TRADV',\n",
       "       'SOHO_KZ', 'VERS_TYP', 'ANZ_PERSONEN', 'ANZ_TITEL',\n",
       "       'HH_EINKOMMEN_SCORE', 'W_KEIT_KIND_HH', 'WOHNDAUER_2008',\n",
       "       'ANZ_HAUSHALTE_AKTIV', 'ANZ_HH_TITEL', 'KONSUMNAEHE',\n",
       "       'MIN_GEBAEUDEJAHR', 'OST_WEST_KZ', 'WOHNLAGE', 'KBA05_ANTG1',\n",
       "       'KBA05_ANTG2', 'KBA05_ANTG3', 'KBA05_ANTG4', 'KBA05_GBZ', 'BALLRAUM',\n",
       "       'EWDICHTE', 'INNENSTADT', 'GEBAEUDETYP_RASTER', 'KKK', 'MOBI_REGIO',\n",
       "       'ONLINE_AFFINITAET', 'REGIOTYP', 'KBA13_ANZAHL_PKW', 'PLZ8_ANTG1',\n",
       "       'PLZ8_ANTG2', 'PLZ8_ANTG3', 'PLZ8_ANTG4', 'PLZ8_BAUMAX', 'PLZ8_HHZ',\n",
       "       'PLZ8_GBZ', 'ARBEIT', 'ORTSGR_KLS9', 'RELAT_AB',\n",
       "       'PRAEGENDE_JUGENDJAHRE_decade', 'PRAEGENDE_JUGENDJAHRE_movement',\n",
       "       'CAMEO_INTL_2015_wealth', 'CAMEO_INTL_2015_life'],\n",
       "      dtype='object')"
      ]
     },
     "execution_count": 80,
     "metadata": {},
     "output_type": "execute_result"
    }
   ],
   "source": [
    "azdias.columns"
   ]
  },
  {
   "cell_type": "code",
   "execution_count": 81,
   "metadata": {},
   "outputs": [
    {
     "data": {
      "text/html": [
       "<div>\n",
       "<style scoped>\n",
       "    .dataframe tbody tr th:only-of-type {\n",
       "        vertical-align: middle;\n",
       "    }\n",
       "\n",
       "    .dataframe tbody tr th {\n",
       "        vertical-align: top;\n",
       "    }\n",
       "\n",
       "    .dataframe thead th {\n",
       "        text-align: right;\n",
       "    }\n",
       "</style>\n",
       "<table border=\"1\" class=\"dataframe\">\n",
       "  <thead>\n",
       "    <tr style=\"text-align: right;\">\n",
       "      <th></th>\n",
       "      <th>ALTERSKATEGORIE_GROB</th>\n",
       "      <th>ANREDE_KZ</th>\n",
       "      <th>FINANZ_MINIMALIST</th>\n",
       "      <th>FINANZ_SPARER</th>\n",
       "      <th>FINANZ_VORSORGER</th>\n",
       "      <th>FINANZ_ANLEGER</th>\n",
       "      <th>FINANZ_UNAUFFAELLIGER</th>\n",
       "      <th>FINANZ_HAUSBAUER</th>\n",
       "      <th>GREEN_AVANTGARDE</th>\n",
       "      <th>HEALTH_TYP</th>\n",
       "      <th>...</th>\n",
       "      <th>PLZ8_BAUMAX</th>\n",
       "      <th>PLZ8_HHZ</th>\n",
       "      <th>PLZ8_GBZ</th>\n",
       "      <th>ARBEIT</th>\n",
       "      <th>ORTSGR_KLS9</th>\n",
       "      <th>RELAT_AB</th>\n",
       "      <th>PRAEGENDE_JUGENDJAHRE_decade</th>\n",
       "      <th>PRAEGENDE_JUGENDJAHRE_movement</th>\n",
       "      <th>CAMEO_INTL_2015_wealth</th>\n",
       "      <th>CAMEO_INTL_2015_life</th>\n",
       "    </tr>\n",
       "  </thead>\n",
       "  <tbody>\n",
       "    <tr>\n",
       "      <th>0</th>\n",
       "      <td>1.0</td>\n",
       "      <td>2.0</td>\n",
       "      <td>1.0</td>\n",
       "      <td>5.0</td>\n",
       "      <td>2.0</td>\n",
       "      <td>5.0</td>\n",
       "      <td>4.0</td>\n",
       "      <td>5.0</td>\n",
       "      <td>0.0</td>\n",
       "      <td>3.0</td>\n",
       "      <td>...</td>\n",
       "      <td>1.0</td>\n",
       "      <td>5.0</td>\n",
       "      <td>4.0</td>\n",
       "      <td>3.0</td>\n",
       "      <td>5.0</td>\n",
       "      <td>4.0</td>\n",
       "      <td>90.0</td>\n",
       "      <td>0.0</td>\n",
       "      <td>5.0</td>\n",
       "      <td>1.0</td>\n",
       "    </tr>\n",
       "    <tr>\n",
       "      <th>1</th>\n",
       "      <td>3.0</td>\n",
       "      <td>2.0</td>\n",
       "      <td>1.0</td>\n",
       "      <td>4.0</td>\n",
       "      <td>1.0</td>\n",
       "      <td>2.0</td>\n",
       "      <td>3.0</td>\n",
       "      <td>5.0</td>\n",
       "      <td>1.0</td>\n",
       "      <td>3.0</td>\n",
       "      <td>...</td>\n",
       "      <td>1.0</td>\n",
       "      <td>4.0</td>\n",
       "      <td>4.0</td>\n",
       "      <td>3.0</td>\n",
       "      <td>5.0</td>\n",
       "      <td>2.0</td>\n",
       "      <td>90.0</td>\n",
       "      <td>1.0</td>\n",
       "      <td>2.0</td>\n",
       "      <td>4.0</td>\n",
       "    </tr>\n",
       "    <tr>\n",
       "      <th>2</th>\n",
       "      <td>4.0</td>\n",
       "      <td>2.0</td>\n",
       "      <td>4.0</td>\n",
       "      <td>2.0</td>\n",
       "      <td>5.0</td>\n",
       "      <td>2.0</td>\n",
       "      <td>1.0</td>\n",
       "      <td>2.0</td>\n",
       "      <td>0.0</td>\n",
       "      <td>2.0</td>\n",
       "      <td>...</td>\n",
       "      <td>1.0</td>\n",
       "      <td>3.0</td>\n",
       "      <td>4.0</td>\n",
       "      <td>2.0</td>\n",
       "      <td>3.0</td>\n",
       "      <td>3.0</td>\n",
       "      <td>70.0</td>\n",
       "      <td>0.0</td>\n",
       "      <td>1.0</td>\n",
       "      <td>2.0</td>\n",
       "    </tr>\n",
       "    <tr>\n",
       "      <th>3</th>\n",
       "      <td>3.0</td>\n",
       "      <td>1.0</td>\n",
       "      <td>4.0</td>\n",
       "      <td>3.0</td>\n",
       "      <td>4.0</td>\n",
       "      <td>1.0</td>\n",
       "      <td>3.0</td>\n",
       "      <td>2.0</td>\n",
       "      <td>0.0</td>\n",
       "      <td>3.0</td>\n",
       "      <td>...</td>\n",
       "      <td>2.0</td>\n",
       "      <td>3.0</td>\n",
       "      <td>3.0</td>\n",
       "      <td>4.0</td>\n",
       "      <td>6.0</td>\n",
       "      <td>5.0</td>\n",
       "      <td>70.0</td>\n",
       "      <td>0.0</td>\n",
       "      <td>4.0</td>\n",
       "      <td>3.0</td>\n",
       "    </tr>\n",
       "    <tr>\n",
       "      <th>4</th>\n",
       "      <td>1.0</td>\n",
       "      <td>2.0</td>\n",
       "      <td>3.0</td>\n",
       "      <td>1.0</td>\n",
       "      <td>5.0</td>\n",
       "      <td>2.0</td>\n",
       "      <td>2.0</td>\n",
       "      <td>5.0</td>\n",
       "      <td>0.0</td>\n",
       "      <td>3.0</td>\n",
       "      <td>...</td>\n",
       "      <td>1.0</td>\n",
       "      <td>5.0</td>\n",
       "      <td>5.0</td>\n",
       "      <td>2.0</td>\n",
       "      <td>3.0</td>\n",
       "      <td>3.0</td>\n",
       "      <td>50.0</td>\n",
       "      <td>0.0</td>\n",
       "      <td>5.0</td>\n",
       "      <td>4.0</td>\n",
       "    </tr>\n",
       "  </tbody>\n",
       "</table>\n",
       "<p>5 rows × 68 columns</p>\n",
       "</div>"
      ],
      "text/plain": [
       "   ALTERSKATEGORIE_GROB  ANREDE_KZ  FINANZ_MINIMALIST  FINANZ_SPARER  \\\n",
       "0                   1.0        2.0                1.0            5.0   \n",
       "1                   3.0        2.0                1.0            4.0   \n",
       "2                   4.0        2.0                4.0            2.0   \n",
       "3                   3.0        1.0                4.0            3.0   \n",
       "4                   1.0        2.0                3.0            1.0   \n",
       "\n",
       "   FINANZ_VORSORGER  FINANZ_ANLEGER  FINANZ_UNAUFFAELLIGER  FINANZ_HAUSBAUER  \\\n",
       "0               2.0             5.0                    4.0               5.0   \n",
       "1               1.0             2.0                    3.0               5.0   \n",
       "2               5.0             2.0                    1.0               2.0   \n",
       "3               4.0             1.0                    3.0               2.0   \n",
       "4               5.0             2.0                    2.0               5.0   \n",
       "\n",
       "   GREEN_AVANTGARDE  HEALTH_TYP          ...           PLZ8_BAUMAX  PLZ8_HHZ  \\\n",
       "0               0.0         3.0          ...                   1.0       5.0   \n",
       "1               1.0         3.0          ...                   1.0       4.0   \n",
       "2               0.0         2.0          ...                   1.0       3.0   \n",
       "3               0.0         3.0          ...                   2.0       3.0   \n",
       "4               0.0         3.0          ...                   1.0       5.0   \n",
       "\n",
       "   PLZ8_GBZ  ARBEIT  ORTSGR_KLS9  RELAT_AB  PRAEGENDE_JUGENDJAHRE_decade  \\\n",
       "0       4.0     3.0          5.0       4.0                          90.0   \n",
       "1       4.0     3.0          5.0       2.0                          90.0   \n",
       "2       4.0     2.0          3.0       3.0                          70.0   \n",
       "3       3.0     4.0          6.0       5.0                          70.0   \n",
       "4       5.0     2.0          3.0       3.0                          50.0   \n",
       "\n",
       "   PRAEGENDE_JUGENDJAHRE_movement  CAMEO_INTL_2015_wealth  \\\n",
       "0                             0.0                     5.0   \n",
       "1                             1.0                     2.0   \n",
       "2                             0.0                     1.0   \n",
       "3                             0.0                     4.0   \n",
       "4                             0.0                     5.0   \n",
       "\n",
       "   CAMEO_INTL_2015_life  \n",
       "0                   1.0  \n",
       "1                   4.0  \n",
       "2                   2.0  \n",
       "3                   3.0  \n",
       "4                   4.0  \n",
       "\n",
       "[5 rows x 68 columns]"
      ]
     },
     "execution_count": 81,
     "metadata": {},
     "output_type": "execute_result"
    }
   ],
   "source": [
    "# If you've not yet cleaned the dataset of all NaN values, then investigate and\n",
    "# do that now.\n",
    "imputer = Imputer(strategy='most_frequent')\n",
    "azdias_imputer = imputer.fit_transform(azdias)\n",
    "cols = azdias.columns\n",
    "azdias = pd.DataFrame(azdias_imputer, columns=cols)\n",
    "azdias.head()"
   ]
  },
  {
   "cell_type": "code",
   "execution_count": 82,
   "metadata": {},
   "outputs": [
    {
     "data": {
      "text/plain": [
       "(797961, 68)"
      ]
     },
     "execution_count": 82,
     "metadata": {},
     "output_type": "execute_result"
    }
   ],
   "source": [
    "azdias_imputer.shape"
   ]
  },
  {
   "cell_type": "code",
   "execution_count": 83,
   "metadata": {},
   "outputs": [
    {
     "name": "stdout",
     "output_type": "stream",
     "text": [
      "Number of missings values:  0\n"
     ]
    }
   ],
   "source": [
    "print('Number of missings values: ',azdias.isna().sum().sum())"
   ]
  },
  {
   "cell_type": "code",
   "execution_count": 84,
   "metadata": {},
   "outputs": [],
   "source": [
    "# Apply feature scaling to the general population demographics data.\n",
    "scaler = StandardScaler()\n",
    "azdias_scaler = scaler.fit_transform(azdias)\n",
    "azdias_scaler = pd.DataFrame(azdias_scaler, columns=azdias.columns)\n"
   ]
  },
  {
   "cell_type": "code",
   "execution_count": 85,
   "metadata": {},
   "outputs": [
    {
     "data": {
      "text/plain": [
       "(797961, 68)"
      ]
     },
     "execution_count": 85,
     "metadata": {},
     "output_type": "execute_result"
    }
   ],
   "source": [
    "azdias_scaler.shape"
   ]
  },
  {
   "cell_type": "code",
   "execution_count": 86,
   "metadata": {},
   "outputs": [
    {
     "data": {
      "text/html": [
       "<div>\n",
       "<style scoped>\n",
       "    .dataframe tbody tr th:only-of-type {\n",
       "        vertical-align: middle;\n",
       "    }\n",
       "\n",
       "    .dataframe tbody tr th {\n",
       "        vertical-align: top;\n",
       "    }\n",
       "\n",
       "    .dataframe thead th {\n",
       "        text-align: right;\n",
       "    }\n",
       "</style>\n",
       "<table border=\"1\" class=\"dataframe\">\n",
       "  <thead>\n",
       "    <tr style=\"text-align: right;\">\n",
       "      <th></th>\n",
       "      <th>ALTERSKATEGORIE_GROB</th>\n",
       "      <th>ANREDE_KZ</th>\n",
       "      <th>FINANZ_MINIMALIST</th>\n",
       "      <th>FINANZ_SPARER</th>\n",
       "      <th>FINANZ_VORSORGER</th>\n",
       "      <th>FINANZ_ANLEGER</th>\n",
       "      <th>FINANZ_UNAUFFAELLIGER</th>\n",
       "      <th>FINANZ_HAUSBAUER</th>\n",
       "      <th>GREEN_AVANTGARDE</th>\n",
       "      <th>HEALTH_TYP</th>\n",
       "      <th>...</th>\n",
       "      <th>PLZ8_BAUMAX</th>\n",
       "      <th>PLZ8_HHZ</th>\n",
       "      <th>PLZ8_GBZ</th>\n",
       "      <th>ARBEIT</th>\n",
       "      <th>ORTSGR_KLS9</th>\n",
       "      <th>RELAT_AB</th>\n",
       "      <th>PRAEGENDE_JUGENDJAHRE_decade</th>\n",
       "      <th>PRAEGENDE_JUGENDJAHRE_movement</th>\n",
       "      <th>CAMEO_INTL_2015_wealth</th>\n",
       "      <th>CAMEO_INTL_2015_life</th>\n",
       "    </tr>\n",
       "  </thead>\n",
       "  <tbody>\n",
       "    <tr>\n",
       "      <th>0</th>\n",
       "      <td>-1.766616</td>\n",
       "      <td>0.957933</td>\n",
       "      <td>-1.494605</td>\n",
       "      <td>1.537983</td>\n",
       "      <td>-1.040689</td>\n",
       "      <td>1.466048</td>\n",
       "      <td>0.958818</td>\n",
       "      <td>1.339234</td>\n",
       "      <td>-0.530442</td>\n",
       "      <td>1.010191</td>\n",
       "      <td>...</td>\n",
       "      <td>-0.633329</td>\n",
       "      <td>1.455713</td>\n",
       "      <td>0.574231</td>\n",
       "      <td>-0.171445</td>\n",
       "      <td>-0.127075</td>\n",
       "      <td>0.684853</td>\n",
       "      <td>1.098143</td>\n",
       "      <td>-0.530442</td>\n",
       "      <td>1.175774</td>\n",
       "      <td>-1.249039</td>\n",
       "    </tr>\n",
       "    <tr>\n",
       "      <th>1</th>\n",
       "      <td>0.200529</td>\n",
       "      <td>0.957933</td>\n",
       "      <td>-1.494605</td>\n",
       "      <td>0.864617</td>\n",
       "      <td>-1.766963</td>\n",
       "      <td>-0.570958</td>\n",
       "      <td>0.244259</td>\n",
       "      <td>1.339234</td>\n",
       "      <td>1.885219</td>\n",
       "      <td>1.010191</td>\n",
       "      <td>...</td>\n",
       "      <td>-0.633329</td>\n",
       "      <td>0.419647</td>\n",
       "      <td>0.574231</td>\n",
       "      <td>-0.171445</td>\n",
       "      <td>-0.127075</td>\n",
       "      <td>-0.789058</td>\n",
       "      <td>1.098143</td>\n",
       "      <td>1.885219</td>\n",
       "      <td>-0.869601</td>\n",
       "      <td>0.766998</td>\n",
       "    </tr>\n",
       "    <tr>\n",
       "      <th>2</th>\n",
       "      <td>1.184102</td>\n",
       "      <td>0.957933</td>\n",
       "      <td>0.683156</td>\n",
       "      <td>-0.482116</td>\n",
       "      <td>1.138133</td>\n",
       "      <td>-0.570958</td>\n",
       "      <td>-1.184858</td>\n",
       "      <td>-0.791347</td>\n",
       "      <td>-0.530442</td>\n",
       "      <td>-0.311795</td>\n",
       "      <td>...</td>\n",
       "      <td>-0.633329</td>\n",
       "      <td>-0.616420</td>\n",
       "      <td>0.574231</td>\n",
       "      <td>-1.173205</td>\n",
       "      <td>-0.997594</td>\n",
       "      <td>-0.052103</td>\n",
       "      <td>-0.267702</td>\n",
       "      <td>-0.530442</td>\n",
       "      <td>-1.551393</td>\n",
       "      <td>-0.577027</td>\n",
       "    </tr>\n",
       "    <tr>\n",
       "      <th>3</th>\n",
       "      <td>0.200529</td>\n",
       "      <td>-1.043914</td>\n",
       "      <td>0.683156</td>\n",
       "      <td>0.191250</td>\n",
       "      <td>0.411859</td>\n",
       "      <td>-1.249960</td>\n",
       "      <td>0.244259</td>\n",
       "      <td>-0.791347</td>\n",
       "      <td>-0.530442</td>\n",
       "      <td>1.010191</td>\n",
       "      <td>...</td>\n",
       "      <td>0.057773</td>\n",
       "      <td>-0.616420</td>\n",
       "      <td>-0.337218</td>\n",
       "      <td>0.830315</td>\n",
       "      <td>0.308185</td>\n",
       "      <td>1.421808</td>\n",
       "      <td>-0.267702</td>\n",
       "      <td>-0.530442</td>\n",
       "      <td>0.493982</td>\n",
       "      <td>0.094986</td>\n",
       "    </tr>\n",
       "    <tr>\n",
       "      <th>4</th>\n",
       "      <td>-1.766616</td>\n",
       "      <td>0.957933</td>\n",
       "      <td>-0.042764</td>\n",
       "      <td>-1.155482</td>\n",
       "      <td>1.138133</td>\n",
       "      <td>-0.570958</td>\n",
       "      <td>-0.470299</td>\n",
       "      <td>1.339234</td>\n",
       "      <td>-0.530442</td>\n",
       "      <td>1.010191</td>\n",
       "      <td>...</td>\n",
       "      <td>-0.633329</td>\n",
       "      <td>1.455713</td>\n",
       "      <td>1.485680</td>\n",
       "      <td>-1.173205</td>\n",
       "      <td>-0.997594</td>\n",
       "      <td>-0.052103</td>\n",
       "      <td>-1.633547</td>\n",
       "      <td>-0.530442</td>\n",
       "      <td>1.175774</td>\n",
       "      <td>0.766998</td>\n",
       "    </tr>\n",
       "    <tr>\n",
       "      <th>5</th>\n",
       "      <td>-0.783043</td>\n",
       "      <td>0.957933</td>\n",
       "      <td>-1.494605</td>\n",
       "      <td>1.537983</td>\n",
       "      <td>-1.766963</td>\n",
       "      <td>1.466048</td>\n",
       "      <td>0.958818</td>\n",
       "      <td>-0.081153</td>\n",
       "      <td>-0.530442</td>\n",
       "      <td>-0.311795</td>\n",
       "      <td>...</td>\n",
       "      <td>-0.633329</td>\n",
       "      <td>1.455713</td>\n",
       "      <td>1.485680</td>\n",
       "      <td>0.830315</td>\n",
       "      <td>0.308185</td>\n",
       "      <td>-0.052103</td>\n",
       "      <td>0.415220</td>\n",
       "      <td>-0.530442</td>\n",
       "      <td>-0.869601</td>\n",
       "      <td>-0.577027</td>\n",
       "    </tr>\n",
       "    <tr>\n",
       "      <th>6</th>\n",
       "      <td>-1.766616</td>\n",
       "      <td>-1.043914</td>\n",
       "      <td>-0.042764</td>\n",
       "      <td>0.191250</td>\n",
       "      <td>0.411859</td>\n",
       "      <td>-1.249960</td>\n",
       "      <td>0.244259</td>\n",
       "      <td>-0.791347</td>\n",
       "      <td>-0.530442</td>\n",
       "      <td>-1.633781</td>\n",
       "      <td>...</td>\n",
       "      <td>-0.633329</td>\n",
       "      <td>0.419647</td>\n",
       "      <td>0.574231</td>\n",
       "      <td>-1.173205</td>\n",
       "      <td>-0.127075</td>\n",
       "      <td>-0.789058</td>\n",
       "      <td>-0.267702</td>\n",
       "      <td>-0.530442</td>\n",
       "      <td>-1.551393</td>\n",
       "      <td>0.766998</td>\n",
       "    </tr>\n",
       "    <tr>\n",
       "      <th>7</th>\n",
       "      <td>0.200529</td>\n",
       "      <td>-1.043914</td>\n",
       "      <td>0.683156</td>\n",
       "      <td>0.864617</td>\n",
       "      <td>-1.040689</td>\n",
       "      <td>0.787046</td>\n",
       "      <td>-0.470299</td>\n",
       "      <td>-0.791347</td>\n",
       "      <td>1.885219</td>\n",
       "      <td>1.010191</td>\n",
       "      <td>...</td>\n",
       "      <td>-0.633329</td>\n",
       "      <td>-0.616420</td>\n",
       "      <td>-0.337218</td>\n",
       "      <td>-1.173205</td>\n",
       "      <td>-0.562334</td>\n",
       "      <td>-0.052103</td>\n",
       "      <td>0.415220</td>\n",
       "      <td>1.885219</td>\n",
       "      <td>-1.551393</td>\n",
       "      <td>0.094986</td>\n",
       "    </tr>\n",
       "    <tr>\n",
       "      <th>8</th>\n",
       "      <td>0.200529</td>\n",
       "      <td>0.957933</td>\n",
       "      <td>-0.768685</td>\n",
       "      <td>0.864617</td>\n",
       "      <td>-1.040689</td>\n",
       "      <td>0.108044</td>\n",
       "      <td>1.673376</td>\n",
       "      <td>0.629041</td>\n",
       "      <td>1.885219</td>\n",
       "      <td>-0.311795</td>\n",
       "      <td>...</td>\n",
       "      <td>-0.633329</td>\n",
       "      <td>-0.616420</td>\n",
       "      <td>-0.337218</td>\n",
       "      <td>-1.173205</td>\n",
       "      <td>-0.997594</td>\n",
       "      <td>-1.526014</td>\n",
       "      <td>1.098143</td>\n",
       "      <td>1.885219</td>\n",
       "      <td>-1.551393</td>\n",
       "      <td>1.439010</td>\n",
       "    </tr>\n",
       "    <tr>\n",
       "      <th>9</th>\n",
       "      <td>0.200529</td>\n",
       "      <td>0.957933</td>\n",
       "      <td>-0.768685</td>\n",
       "      <td>-0.482116</td>\n",
       "      <td>1.138133</td>\n",
       "      <td>0.108044</td>\n",
       "      <td>-1.184858</td>\n",
       "      <td>1.339234</td>\n",
       "      <td>-0.530442</td>\n",
       "      <td>-0.311795</td>\n",
       "      <td>...</td>\n",
       "      <td>0.057773</td>\n",
       "      <td>-0.616420</td>\n",
       "      <td>-0.337218</td>\n",
       "      <td>0.830315</td>\n",
       "      <td>0.308185</td>\n",
       "      <td>1.421808</td>\n",
       "      <td>-1.633547</td>\n",
       "      <td>-0.530442</td>\n",
       "      <td>1.175774</td>\n",
       "      <td>-1.249039</td>\n",
       "    </tr>\n",
       "  </tbody>\n",
       "</table>\n",
       "<p>10 rows × 68 columns</p>\n",
       "</div>"
      ],
      "text/plain": [
       "   ALTERSKATEGORIE_GROB  ANREDE_KZ  FINANZ_MINIMALIST  FINANZ_SPARER  \\\n",
       "0             -1.766616   0.957933          -1.494605       1.537983   \n",
       "1              0.200529   0.957933          -1.494605       0.864617   \n",
       "2              1.184102   0.957933           0.683156      -0.482116   \n",
       "3              0.200529  -1.043914           0.683156       0.191250   \n",
       "4             -1.766616   0.957933          -0.042764      -1.155482   \n",
       "5             -0.783043   0.957933          -1.494605       1.537983   \n",
       "6             -1.766616  -1.043914          -0.042764       0.191250   \n",
       "7              0.200529  -1.043914           0.683156       0.864617   \n",
       "8              0.200529   0.957933          -0.768685       0.864617   \n",
       "9              0.200529   0.957933          -0.768685      -0.482116   \n",
       "\n",
       "   FINANZ_VORSORGER  FINANZ_ANLEGER  FINANZ_UNAUFFAELLIGER  FINANZ_HAUSBAUER  \\\n",
       "0         -1.040689        1.466048               0.958818          1.339234   \n",
       "1         -1.766963       -0.570958               0.244259          1.339234   \n",
       "2          1.138133       -0.570958              -1.184858         -0.791347   \n",
       "3          0.411859       -1.249960               0.244259         -0.791347   \n",
       "4          1.138133       -0.570958              -0.470299          1.339234   \n",
       "5         -1.766963        1.466048               0.958818         -0.081153   \n",
       "6          0.411859       -1.249960               0.244259         -0.791347   \n",
       "7         -1.040689        0.787046              -0.470299         -0.791347   \n",
       "8         -1.040689        0.108044               1.673376          0.629041   \n",
       "9          1.138133        0.108044              -1.184858          1.339234   \n",
       "\n",
       "   GREEN_AVANTGARDE  HEALTH_TYP          ...           PLZ8_BAUMAX  PLZ8_HHZ  \\\n",
       "0         -0.530442    1.010191          ...             -0.633329  1.455713   \n",
       "1          1.885219    1.010191          ...             -0.633329  0.419647   \n",
       "2         -0.530442   -0.311795          ...             -0.633329 -0.616420   \n",
       "3         -0.530442    1.010191          ...              0.057773 -0.616420   \n",
       "4         -0.530442    1.010191          ...             -0.633329  1.455713   \n",
       "5         -0.530442   -0.311795          ...             -0.633329  1.455713   \n",
       "6         -0.530442   -1.633781          ...             -0.633329  0.419647   \n",
       "7          1.885219    1.010191          ...             -0.633329 -0.616420   \n",
       "8          1.885219   -0.311795          ...             -0.633329 -0.616420   \n",
       "9         -0.530442   -0.311795          ...              0.057773 -0.616420   \n",
       "\n",
       "   PLZ8_GBZ    ARBEIT  ORTSGR_KLS9  RELAT_AB  PRAEGENDE_JUGENDJAHRE_decade  \\\n",
       "0  0.574231 -0.171445    -0.127075  0.684853                      1.098143   \n",
       "1  0.574231 -0.171445    -0.127075 -0.789058                      1.098143   \n",
       "2  0.574231 -1.173205    -0.997594 -0.052103                     -0.267702   \n",
       "3 -0.337218  0.830315     0.308185  1.421808                     -0.267702   \n",
       "4  1.485680 -1.173205    -0.997594 -0.052103                     -1.633547   \n",
       "5  1.485680  0.830315     0.308185 -0.052103                      0.415220   \n",
       "6  0.574231 -1.173205    -0.127075 -0.789058                     -0.267702   \n",
       "7 -0.337218 -1.173205    -0.562334 -0.052103                      0.415220   \n",
       "8 -0.337218 -1.173205    -0.997594 -1.526014                      1.098143   \n",
       "9 -0.337218  0.830315     0.308185  1.421808                     -1.633547   \n",
       "\n",
       "   PRAEGENDE_JUGENDJAHRE_movement  CAMEO_INTL_2015_wealth  \\\n",
       "0                       -0.530442                1.175774   \n",
       "1                        1.885219               -0.869601   \n",
       "2                       -0.530442               -1.551393   \n",
       "3                       -0.530442                0.493982   \n",
       "4                       -0.530442                1.175774   \n",
       "5                       -0.530442               -0.869601   \n",
       "6                       -0.530442               -1.551393   \n",
       "7                        1.885219               -1.551393   \n",
       "8                        1.885219               -1.551393   \n",
       "9                       -0.530442                1.175774   \n",
       "\n",
       "   CAMEO_INTL_2015_life  \n",
       "0             -1.249039  \n",
       "1              0.766998  \n",
       "2             -0.577027  \n",
       "3              0.094986  \n",
       "4              0.766998  \n",
       "5             -0.577027  \n",
       "6              0.766998  \n",
       "7              0.094986  \n",
       "8              1.439010  \n",
       "9             -1.249039  \n",
       "\n",
       "[10 rows x 68 columns]"
      ]
     },
     "execution_count": 86,
     "metadata": {},
     "output_type": "execute_result"
    }
   ],
   "source": [
    "azdias_scaler.head(10)"
   ]
  },
  {
   "cell_type": "code",
   "execution_count": 87,
   "metadata": {},
   "outputs": [
    {
     "data": {
      "text/plain": [
       "(-3.8897909165851584e-16, 1.0000000000000011)"
      ]
     },
     "execution_count": 87,
     "metadata": {},
     "output_type": "execute_result"
    }
   ],
   "source": [
    "azdias_scaler.values.mean(), azdias_scaler.values.std()"
   ]
  },
  {
   "cell_type": "markdown",
   "metadata": {},
   "source": [
    "### Discussion 2.1: Apply Feature Scaling\n",
    "\n",
    "(Double-click this cell and replace this text with your own text, reporting your decisions regarding feature scaling.)\n",
    "\n",
    "<b>The missings values was imputed using the most_frequent strategy and all values was scaled to mean cero and std one</b>"
   ]
  },
  {
   "cell_type": "markdown",
   "metadata": {},
   "source": [
    "### Step 2.2: Perform Dimensionality Reduction\n",
    "\n",
    "On your scaled data, you are now ready to apply dimensionality reduction techniques.\n",
    "\n",
    "- Use sklearn's [PCA](http://scikit-learn.org/stable/modules/generated/sklearn.decomposition.PCA.html) class to apply principal component analysis on the data, thus finding the vectors of maximal variance in the data. To start, you should not set any parameters (so all components are computed) or set a number of components that is at least half the number of features (so there's enough features to see the general trend in variability).\n",
    "- Check out the ratio of variance explained by each principal component as well as the cumulative variance explained. Try plotting the cumulative or sequential values using matplotlib's [`plot()`](https://matplotlib.org/api/_as_gen/matplotlib.pyplot.plot.html) function. Based on what you find, select a value for the number of transformed features you'll retain for the clustering part of the project.\n",
    "- Once you've made a choice for the number of components to keep, make sure you re-fit a PCA instance to perform the decided-on transformation."
   ]
  },
  {
   "cell_type": "code",
   "execution_count": 88,
   "metadata": {},
   "outputs": [
    {
     "data": {
      "text/plain": [
       "(797961, 68)"
      ]
     },
     "execution_count": 88,
     "metadata": {},
     "output_type": "execute_result"
    }
   ],
   "source": [
    "azdias_scaler.shape"
   ]
  },
  {
   "cell_type": "code",
   "execution_count": 89,
   "metadata": {},
   "outputs": [
    {
     "name": "stdout",
     "output_type": "stream",
     "text": [
      "Nro. componentes: 34\n"
     ]
    }
   ],
   "source": [
    "# Apply PCA to the data.\n",
    "nc=azdias_scaler.shape[1]//2\n",
    "print('Nro. componentes:',nc)\n",
    "pca = PCA(n_components=nc, random_state=12)\n",
    "X_pca = pca.fit_transform(azdias_scaler)\n"
   ]
  },
  {
   "cell_type": "code",
   "execution_count": 90,
   "metadata": {},
   "outputs": [
    {
     "data": {
      "text/plain": [
       "(797961, 34)"
      ]
     },
     "execution_count": 90,
     "metadata": {},
     "output_type": "execute_result"
    }
   ],
   "source": [
    "X_pca.shape"
   ]
  },
  {
   "cell_type": "code",
   "execution_count": 91,
   "metadata": {},
   "outputs": [
    {
     "data": {
      "image/png": "[encoded data removed]",
      "text/plain": [
       "<matplotlib.figure.Figure at 0x7fd368be6208>"
      ]
     },
     "metadata": {
      "needs_background": "light"
     },
     "output_type": "display_data"
    }
   ],
   "source": [
    "plt.figure(figsize=(15,10))\n",
    "ids=np.arange(nc)\n",
    "vals=pca.explained_variance_ratio_\n",
    "ax=plt.subplot(111)\n",
    "cumvals=np.cumsum(vals)\n",
    "ax.bar(ids,vals)\n",
    "ax.plot(ids,cumvals)\n",
    "plt.title('Explained Variance Per Principal Component')\n",
    "plt.ylabel('Variance Explanined (%)')\n",
    "plt.xlabel('Nro. Features')\n",
    "plt.ylim([0,1])\n",
    "plt.show()"
   ]
  },
  {
   "cell_type": "code",
   "execution_count": 92,
   "metadata": {},
   "outputs": [
    {
     "data": {
      "text/plain": [
       "0.8980550803088867"
      ]
     },
     "execution_count": 92,
     "metadata": {},
     "output_type": "execute_result"
    }
   ],
   "source": [
    "vals.sum()"
   ]
  },
  {
   "cell_type": "code",
   "execution_count": 93,
   "metadata": {},
   "outputs": [],
   "source": [
    "# Re-apply PCA to the data while selecting for number of components to retain.\n",
    "\n",
    "#The number of components selected was 34 features since this features explained near  89% of the variance."
   ]
  },
  {
   "cell_type": "markdown",
   "metadata": {},
   "source": [
    "### Discussion 2.2: Perform Dimensionality Reduction\n",
    "\n",
    "(Double-click this cell and replace this text with your own text, reporting your findings and decisions regarding dimensionality reduction. How many principal components / transformed features are you retaining for the next step of the analysis?)\n",
    "\n",
    "<b>I retaining 34 features that explained near 89% of variance and corresponde to 50% of all features</b>"
   ]
  },
  {
   "cell_type": "markdown",
   "metadata": {},
   "source": [
    "### Step 2.3: Interpret Principal Components\n",
    "\n",
    "Now that we have our transformed principal components, it's a nice idea to check out the weight of each variable on the first few components to see if they can be interpreted in some fashion.\n",
    "\n",
    "As a reminder, each principal component is a unit vector that points in the direction of highest variance (after accounting for the variance captured by earlier principal components). The further a weight is from zero, the more the principal component is in the direction of the corresponding feature. If two features have large weights of the same sign (both positive or both negative), then increases in one tend expect to be associated with increases in the other. To contrast, features with different signs can be expected to show a negative correlation: increases in one variable should result in a decrease in the other.\n",
    "\n",
    "- To investigate the features, you should map each weight to their corresponding feature name, then sort the features according to weight. The most interesting features for each principal component, then, will be those at the beginning and end of the sorted list. Use the data dictionary document to help you understand these most prominent features, their relationships, and what a positive or negative value on the principal component might indicate.\n",
    "- You should investigate and interpret feature associations from the first three principal components in this substep. To help facilitate this, you should write a function that you can call at any time to print the sorted list of feature weights, for the *i*-th principal component. This might come in handy in the next step of the project, when you interpret the tendencies of the discovered clusters."
   ]
  },
  {
   "cell_type": "code",
   "execution_count": 94,
   "metadata": {},
   "outputs": [],
   "source": [
    "# HINT: Try defining a function here or in a new cell that you can reuse in the\n",
    "# other cells.\n",
    "\n",
    "\n",
    "def pca_analyze(df,pca,idx_component, n=5):\n",
    "    component = pca.components_[idx_component]\n",
    "    indexes = component.argsort()\n",
    "    if n >len(pca.components_):\n",
    "        return false\n",
    "    component=component[indexes]\n",
    "    head = component[::-1][:n]\n",
    "    tail = component[:n][::-1]\n",
    "    features = df.columns\n",
    "    features = features[indexes]\n",
    "    feat_head = features[::-1][:n]\n",
    "    feat_tail = features[:n][::-1]\n",
    "    variance = np.round(pca.explained_variance_ratio_[idx_component],4)\n",
    "    data = list(head)+list(tail)\n",
    "    features = list(feat_head)+list(feat_tail)\n",
    "    ncol = len(features)\n",
    "    features = np.array([str(item[0])+'-'+item[1] for item in \\\n",
    "               list(zip(list(range(ncol)),features))])\n",
    "    dimension = f'Dimension {idx_component}'\n",
    "    plt.rcParams[\"figure.figsize\"] = (10,10)\n",
    "    plt.bar(features,data);\n",
    "    plt.ylabel(\"Feature Weights\")\n",
    "    plt.xlabel(features)\n",
    "    plt.xticks(rotation=90)\n",
    "    plt.title(f'Explained Variance {variance}')\n",
    "    plt.show()\n",
    "    df2 = pd.DataFrame([features,data]).T\n",
    "    df2.columns = ['feature','weight']\n",
    "    return df2"
   ]
  },
  {
   "cell_type": "code",
   "execution_count": 95,
   "metadata": {},
   "outputs": [
    {
     "data": {
      "image/png": "[encoded data removed]",
      "text/plain": [
       "<matplotlib.figure.Figure at 0x7fd368be6240>"
      ]
     },
     "metadata": {
      "needs_background": "light"
     },
     "output_type": "display_data"
    },
    {
     "data": {
      "text/html": [
       "<div>\n",
       "<style scoped>\n",
       "    .dataframe tbody tr th:only-of-type {\n",
       "        vertical-align: middle;\n",
       "    }\n",
       "\n",
       "    .dataframe tbody tr th {\n",
       "        vertical-align: top;\n",
       "    }\n",
       "\n",
       "    .dataframe thead th {\n",
       "        text-align: right;\n",
       "    }\n",
       "</style>\n",
       "<table border=\"1\" class=\"dataframe\">\n",
       "  <thead>\n",
       "    <tr style=\"text-align: right;\">\n",
       "      <th></th>\n",
       "      <th>feature</th>\n",
       "      <th>weight</th>\n",
       "    </tr>\n",
       "  </thead>\n",
       "  <tbody>\n",
       "    <tr>\n",
       "      <th>0</th>\n",
       "      <td>0-PLZ8_ANTG3</td>\n",
       "      <td>0.224007</td>\n",
       "    </tr>\n",
       "    <tr>\n",
       "      <th>1</th>\n",
       "      <td>1-PLZ8_ANTG4</td>\n",
       "      <td>0.217133</td>\n",
       "    </tr>\n",
       "    <tr>\n",
       "      <th>2</th>\n",
       "      <td>2-PLZ8_BAUMAX</td>\n",
       "      <td>0.214001</td>\n",
       "    </tr>\n",
       "    <tr>\n",
       "      <th>3</th>\n",
       "      <td>3-CAMEO_INTL_2015_wealth</td>\n",
       "      <td>0.199642</td>\n",
       "    </tr>\n",
       "    <tr>\n",
       "      <th>4</th>\n",
       "      <td>4-ORTSGR_KLS9</td>\n",
       "      <td>0.19731</td>\n",
       "    </tr>\n",
       "    <tr>\n",
       "      <th>5</th>\n",
       "      <td>5-FINANZ_MINIMALIST</td>\n",
       "      <td>-0.20404</td>\n",
       "    </tr>\n",
       "    <tr>\n",
       "      <th>6</th>\n",
       "      <td>6-KBA05_ANTG1</td>\n",
       "      <td>-0.208387</td>\n",
       "    </tr>\n",
       "    <tr>\n",
       "      <th>7</th>\n",
       "      <td>7-KBA05_GBZ</td>\n",
       "      <td>-0.211608</td>\n",
       "    </tr>\n",
       "    <tr>\n",
       "      <th>8</th>\n",
       "      <td>8-MOBI_REGIO</td>\n",
       "      <td>-0.219244</td>\n",
       "    </tr>\n",
       "    <tr>\n",
       "      <th>9</th>\n",
       "      <td>9-PLZ8_ANTG1</td>\n",
       "      <td>-0.224246</td>\n",
       "    </tr>\n",
       "  </tbody>\n",
       "</table>\n",
       "</div>"
      ],
      "text/plain": [
       "                    feature    weight\n",
       "0              0-PLZ8_ANTG3  0.224007\n",
       "1              1-PLZ8_ANTG4  0.217133\n",
       "2             2-PLZ8_BAUMAX  0.214001\n",
       "3  3-CAMEO_INTL_2015_wealth  0.199642\n",
       "4             4-ORTSGR_KLS9   0.19731\n",
       "5       5-FINANZ_MINIMALIST  -0.20404\n",
       "6             6-KBA05_ANTG1 -0.208387\n",
       "7               7-KBA05_GBZ -0.211608\n",
       "8              8-MOBI_REGIO -0.219244\n",
       "9              9-PLZ8_ANTG1 -0.224246"
      ]
     },
     "execution_count": 95,
     "metadata": {},
     "output_type": "execute_result"
    }
   ],
   "source": [
    "# Map weights for the first principal component to corresponding feature names\n",
    "# and then print the linked values, sorted by weight.\n",
    "\n",
    "pca_analyze(azdias_scaler,pca,0)"
   ]
  },
  {
   "cell_type": "code",
   "execution_count": 96,
   "metadata": {},
   "outputs": [
    {
     "data": {
      "image/png": "[encoded data removed]",
      "text/plain": [
       "<matplotlib.figure.Figure at 0x7fd368bb2cc0>"
      ]
     },
     "metadata": {
      "needs_background": "light"
     },
     "output_type": "display_data"
    },
    {
     "data": {
      "text/html": [
       "<div>\n",
       "<style scoped>\n",
       "    .dataframe tbody tr th:only-of-type {\n",
       "        vertical-align: middle;\n",
       "    }\n",
       "\n",
       "    .dataframe tbody tr th {\n",
       "        vertical-align: top;\n",
       "    }\n",
       "\n",
       "    .dataframe thead th {\n",
       "        text-align: right;\n",
       "    }\n",
       "</style>\n",
       "<table border=\"1\" class=\"dataframe\">\n",
       "  <thead>\n",
       "    <tr style=\"text-align: right;\">\n",
       "      <th></th>\n",
       "      <th>feature</th>\n",
       "      <th>weight</th>\n",
       "    </tr>\n",
       "  </thead>\n",
       "  <tbody>\n",
       "    <tr>\n",
       "      <th>0</th>\n",
       "      <td>0-ALTERSKATEGORIE_GROB</td>\n",
       "      <td>0.269892</td>\n",
       "    </tr>\n",
       "    <tr>\n",
       "      <th>1</th>\n",
       "      <td>1-FINANZ_VORSORGER</td>\n",
       "      <td>0.242489</td>\n",
       "    </tr>\n",
       "    <tr>\n",
       "      <th>2</th>\n",
       "      <td>2-SEMIO_ERL</td>\n",
       "      <td>0.235377</td>\n",
       "    </tr>\n",
       "    <tr>\n",
       "      <th>3</th>\n",
       "      <td>3-SEMIO_LUST</td>\n",
       "      <td>0.188486</td>\n",
       "    </tr>\n",
       "    <tr>\n",
       "      <th>4</th>\n",
       "      <td>4-RETOURTYP_BK_S</td>\n",
       "      <td>0.163525</td>\n",
       "    </tr>\n",
       "    <tr>\n",
       "      <th>5</th>\n",
       "      <td>5-SEMIO_TRADV</td>\n",
       "      <td>-0.237961</td>\n",
       "    </tr>\n",
       "    <tr>\n",
       "      <th>6</th>\n",
       "      <td>6-SEMIO_PFLICHT</td>\n",
       "      <td>-0.23904</td>\n",
       "    </tr>\n",
       "    <tr>\n",
       "      <th>7</th>\n",
       "      <td>7-FINANZ_SPARER</td>\n",
       "      <td>-0.249619</td>\n",
       "    </tr>\n",
       "    <tr>\n",
       "      <th>8</th>\n",
       "      <td>8-PRAEGENDE_JUGENDJAHRE_decade</td>\n",
       "      <td>-0.251033</td>\n",
       "    </tr>\n",
       "    <tr>\n",
       "      <th>9</th>\n",
       "      <td>9-SEMIO_REL</td>\n",
       "      <td>-0.265041</td>\n",
       "    </tr>\n",
       "  </tbody>\n",
       "</table>\n",
       "</div>"
      ],
      "text/plain": [
       "                          feature    weight\n",
       "0          0-ALTERSKATEGORIE_GROB  0.269892\n",
       "1              1-FINANZ_VORSORGER  0.242489\n",
       "2                     2-SEMIO_ERL  0.235377\n",
       "3                    3-SEMIO_LUST  0.188486\n",
       "4                4-RETOURTYP_BK_S  0.163525\n",
       "5                   5-SEMIO_TRADV -0.237961\n",
       "6                 6-SEMIO_PFLICHT  -0.23904\n",
       "7                 7-FINANZ_SPARER -0.249619\n",
       "8  8-PRAEGENDE_JUGENDJAHRE_decade -0.251033\n",
       "9                     9-SEMIO_REL -0.265041"
      ]
     },
     "execution_count": 96,
     "metadata": {},
     "output_type": "execute_result"
    }
   ],
   "source": [
    "# Map weights for the second principal component to corresponding feature names\n",
    "# and then print the linked values, sorted by weight.\n",
    "\n",
    "pca_analyze(azdias_scaler,pca,1)"
   ]
  },
  {
   "cell_type": "code",
   "execution_count": 97,
   "metadata": {},
   "outputs": [
    {
     "data": {
      "image/png": "[encoded data removed]",
      "text/plain": [
       "<matplotlib.figure.Figure at 0x7fd357dfe160>"
      ]
     },
     "metadata": {
      "needs_background": "light"
     },
     "output_type": "display_data"
    },
    {
     "data": {
      "text/html": [
       "<div>\n",
       "<style scoped>\n",
       "    .dataframe tbody tr th:only-of-type {\n",
       "        vertical-align: middle;\n",
       "    }\n",
       "\n",
       "    .dataframe tbody tr th {\n",
       "        vertical-align: top;\n",
       "    }\n",
       "\n",
       "    .dataframe thead th {\n",
       "        text-align: right;\n",
       "    }\n",
       "</style>\n",
       "<table border=\"1\" class=\"dataframe\">\n",
       "  <thead>\n",
       "    <tr style=\"text-align: right;\">\n",
       "      <th></th>\n",
       "      <th>feature</th>\n",
       "      <th>weight</th>\n",
       "    </tr>\n",
       "  </thead>\n",
       "  <tbody>\n",
       "    <tr>\n",
       "      <th>0</th>\n",
       "      <td>0-SEMIO_VERT</td>\n",
       "      <td>0.346095</td>\n",
       "    </tr>\n",
       "    <tr>\n",
       "      <th>1</th>\n",
       "      <td>1-SEMIO_SOZ</td>\n",
       "      <td>0.262271</td>\n",
       "    </tr>\n",
       "    <tr>\n",
       "      <th>2</th>\n",
       "      <td>2-SEMIO_FAM</td>\n",
       "      <td>0.249079</td>\n",
       "    </tr>\n",
       "    <tr>\n",
       "      <th>3</th>\n",
       "      <td>3-SEMIO_KULT</td>\n",
       "      <td>0.235043</td>\n",
       "    </tr>\n",
       "    <tr>\n",
       "      <th>4</th>\n",
       "      <td>4-FINANZ_MINIMALIST</td>\n",
       "      <td>0.159892</td>\n",
       "    </tr>\n",
       "    <tr>\n",
       "      <th>5</th>\n",
       "      <td>5-SEMIO_RAT</td>\n",
       "      <td>-0.21622</td>\n",
       "    </tr>\n",
       "    <tr>\n",
       "      <th>6</th>\n",
       "      <td>6-SEMIO_KRIT</td>\n",
       "      <td>-0.27691</td>\n",
       "    </tr>\n",
       "    <tr>\n",
       "      <th>7</th>\n",
       "      <td>7-SEMIO_DOM</td>\n",
       "      <td>-0.312526</td>\n",
       "    </tr>\n",
       "    <tr>\n",
       "      <th>8</th>\n",
       "      <td>8-SEMIO_KAEM</td>\n",
       "      <td>-0.336288</td>\n",
       "    </tr>\n",
       "    <tr>\n",
       "      <th>9</th>\n",
       "      <td>9-ANREDE_KZ</td>\n",
       "      <td>-0.367908</td>\n",
       "    </tr>\n",
       "  </tbody>\n",
       "</table>\n",
       "</div>"
      ],
      "text/plain": [
       "               feature    weight\n",
       "0         0-SEMIO_VERT  0.346095\n",
       "1          1-SEMIO_SOZ  0.262271\n",
       "2          2-SEMIO_FAM  0.249079\n",
       "3         3-SEMIO_KULT  0.235043\n",
       "4  4-FINANZ_MINIMALIST  0.159892\n",
       "5          5-SEMIO_RAT  -0.21622\n",
       "6         6-SEMIO_KRIT  -0.27691\n",
       "7          7-SEMIO_DOM -0.312526\n",
       "8         8-SEMIO_KAEM -0.336288\n",
       "9          9-ANREDE_KZ -0.367908"
      ]
     },
     "execution_count": 97,
     "metadata": {},
     "output_type": "execute_result"
    }
   ],
   "source": [
    "# Map weights for the third principal component to corresponding feature names\n",
    "# and then print the linked values, sorted by weight.\n",
    "\n",
    "pca_analyze(azdias_scaler,pca,2)"
   ]
  },
  {
   "cell_type": "markdown",
   "metadata": {},
   "source": [
    "### Discussion 2.3: Interpret Principal Components\n",
    "\n",
    "(Double-click this cell and replace this text with your own text, reporting your observations from detailed investigation of the first few principal components generated. Can we interpret positive and negative values from them in a meaningful way?)\n",
    "\n",
    "<b>Principal Component number 1.<b/><br/>\n",
    "\n",
    "Positive correlation\n",
    "<li>PLZ8_ANTG3\t(Number of 6-10 family houses in the PLZ8 region)</li>\n",
    "<li>PLZ8_ANTG4\t0.217133 (Number of 10+ family houses in the PLZ8 region)</li>\n",
    "<li>PLZ8_BAUMAX\t0.214001 (Most common building type within the PLZ8 region)</li>\n",
    "<li>CAMEO_INTL_2015_wealth\t(Life Stage Typology)</li>\n",
    "<li>ORTSGR_KLS9\t(Size of community)</li>\n",
    "Negative correlation\n",
    "<li>FINANZ_MINIMALIST (Financial typology low financial interest)</li>\n",
    "<li>KBA05_ANTG1\t(Number of 1-2 family houses in the microcell)</li>\n",
    "<li>KBA05_GBZ\t(Number of buildings in the microcell)</li>\n",
    "<li>MOBI_REGIO\t(Movement patterns)</li>\n",
    "<li>PLZ8_ANTG1\t(Number of 1-2 family houses in the PLZ8 region)</li>\n",
    "\n",
    "<br>\n",
    "\n",
    "<b>Principal Component number 2.<b/><br>\n",
    "\n",
    "Positive correlation\n",
    "<li>ALTERSKATEGORIE_GROB (Estimated age based on given name analysis)</li>\n",
    "<li>FINANZ_VORSORGER (Financial typology be prepared)</li>\n",
    "<li>SEMIO_ERL (Personality typology event-oriented)</li>\n",
    "<li>SEMIO_LUST\t(Personality typology sensual-minded)</li>\n",
    "<li>RETOURTYP_BK_S\t(Return type)</li>\n",
    "Negative correlation\n",
    "<li>SEMIO_TRADV\t(Personality typology tradional-minded)</li>\n",
    "<li>EMIO_PFLICHT (Personality typology dutiful)</li>\n",
    "<li>FINANZ_SPARER (Financial typology money-saver)</li>\n",
    "<li>PRAEGENDE_JUGENDJAHRE_decade (Dominating movement of person's youth decade)</li>\n",
    "<li>SEMIO_REL (Personality typology event-oriented religious)</li>\n",
    "\n",
    "<b>Principal Component number 3.<b/><br/>\n",
    "\n",
    "Positive correlation\n",
    "<li>SEMIO_VERT\t(Personality typology dreamful)</li>\n",
    "<li>SEMIO_SOZ\t(Personality typology socially-minded)</li>\n",
    "<li>SEMIO_FAM\t(Personality typology family-minded)</li>\n",
    "<li>SEMIO_KULT\t(Personality typology cultural-minded)</li>\n",
    "<li>FINANZ_MINIMALIST\t(Financial typology low financial interest)</li>\n",
    "Negative correlation\n",
    "<li>SEMIO_RAT\t(Personality typology rational)</li>\n",
    "<li>SEMIO_KRIT\t(Personality typology critical-minded)</li>\n",
    "<li>SEMIO_DOM\t(Personality typology dominant-minded)</li>\n",
    "<li>SEMIO_KAEM\t(Personality typology combative attitude)</li>\n",
    "<li>ANREDE_KZ\t(Gender)</li>\n"
   ]
  },
  {
   "cell_type": "markdown",
   "metadata": {},
   "source": [
    "## Step 3: Clustering\n",
    "\n",
    "### Step 3.1: Apply Clustering to General Population\n",
    "\n",
    "You've assessed and cleaned the demographics data, then scaled and transformed them. Now, it's time to see how the data clusters in the principal components space. In this substep, you will apply k-means clustering to the dataset and use the average within-cluster distances from each point to their assigned cluster's centroid to decide on a number of clusters to keep.\n",
    "\n",
    "- Use sklearn's [KMeans](http://scikit-learn.org/stable/modules/generated/sklearn.cluster.KMeans.html#sklearn.cluster.KMeans) class to perform k-means clustering on the PCA-transformed data.\n",
    "- Then, compute the average difference from each point to its assigned cluster's center. **Hint**: The KMeans object's `.score()` method might be useful here, but note that in sklearn, scores tend to be defined so that larger is better. Try applying it to a small, toy dataset, or use an internet search to help your understanding.\n",
    "- Perform the above two steps for a number of different cluster counts. You can then see how the average distance decreases with an increasing number of clusters. However, each additional cluster provides a smaller net benefit. Use this fact to select a final number of clusters in which to group the data. **Warning**: because of the large size of the dataset, it can take a long time for the algorithm to resolve. The more clusters to fit, the longer the algorithm will take. You should test for cluster counts through at least 10 clusters to get the full picture, but you shouldn't need to test for a number of clusters above about 30.\n",
    "- Once you've selected a final number of clusters to use, re-fit a KMeans instance to perform the clustering operation. Make sure that you also obtain the cluster assignments for the general demographics data, since you'll be using them in the final Step 3.3."
   ]
  },
  {
   "cell_type": "code",
   "execution_count": 98,
   "metadata": {},
   "outputs": [
    {
     "data": {
      "text/plain": [
       "(797961, 34)"
      ]
     },
     "execution_count": 98,
     "metadata": {},
     "output_type": "execute_result"
    }
   ],
   "source": [
    "X_pca.shape"
   ]
  },
  {
   "cell_type": "code",
   "execution_count": 99,
   "metadata": {},
   "outputs": [],
   "source": [
    "# Over a number of different cluster counts...\n",
    "centers = list(range(2,26,2))\n",
    "scores = []\n",
    "for c in centers:\n",
    "    kmeans = KMeans(n_clusters=c, random_state=34)\n",
    "    # run k-means clustering on the data and..\n",
    "    kmeans.fit(X_pca)\n",
    "    # compute the average within-cluster distances.\n",
    "    scores.append(np.abs(kmeans.score(X_pca)))\n",
    "    "
   ]
  },
  {
   "cell_type": "code",
   "execution_count": 100,
   "metadata": {},
   "outputs": [
    {
     "data": {
      "text/plain": [
       "Text(0.5,1,'Relationship between Nro. Clustes and Score')"
      ]
     },
     "execution_count": 100,
     "metadata": {},
     "output_type": "execute_result"
    },
    {
     "data": {
      "image/png": "[encoded data removed]",
      "text/plain": [
       "<matplotlib.figure.Figure at 0x7fd358c3c160>"
      ]
     },
     "metadata": {
      "needs_background": "light"
     },
     "output_type": "display_data"
    }
   ],
   "source": [
    "# Investigate the change in within-cluster distance across number of clusters.\n",
    "# HINT: Use matplotlib's plot function to visualize this relationship.\n",
    "plt.rcParams[\"figure.figsize\"] = (10,5)\n",
    "plt.plot(centers, scores, linestyle='--',marker='o',color='b')\n",
    "plt.xlabel('Nro. Clusters')\n",
    "plt.ylabel('Score')\n",
    "plt.title('Relationship between Nro. Clustes and Score')"
   ]
  },
  {
   "cell_type": "code",
   "execution_count": 102,
   "metadata": {},
   "outputs": [],
   "source": [
    "# Re-fit the k-means model with the selected number of clusters and obtain\n",
    "# cluster predictions for the general population demographics data.\n",
    "\n",
    "kmeans = KMeans(n_clusters=15)\n",
    "kmeans = kmeans.fit(X_pca)\n",
    "preds = kmeans.predict(X_pca)"
   ]
  },
  {
   "cell_type": "markdown",
   "metadata": {},
   "source": [
    "### Discussion 3.1: Apply Clustering to General Population\n",
    "\n",
    "(Double-click this cell and replace this text with your own text, reporting your findings and decisions regarding clustering. Into how many clusters have you decided to segment the population?)\n",
    "\n",
    "<b>In the graphs is not clear the elbow point so I select a 15 clusters for segment the population.</b>"
   ]
  },
  {
   "cell_type": "markdown",
   "metadata": {},
   "source": [
    "### Step 3.2: Apply All Steps to the Customer Data\n",
    "\n",
    "Now that you have clusters and cluster centers for the general population, it's time to see how the customer data maps on to those clusters. Take care to not confuse this for re-fitting all of the models to the customer data. Instead, you're going to use the fits from the general population to clean, transform, and cluster the customer data. In the last step of the project, you will interpret how the general population fits apply to the customer data.\n",
    "\n",
    "- Don't forget when loading in the customers data, that it is semicolon (`;`) delimited.\n",
    "- Apply the same feature wrangling, selection, and engineering steps to the customer demographics using the `clean_data()` function you created earlier. (You can assume that the customer demographics data has similar meaning behind missing data patterns as the general demographics data.)\n",
    "- Use the sklearn objects from the general demographics data, and apply their transformations to the customers data. That is, you should not be using a `.fit()` or `.fit_transform()` method to re-fit the old objects, nor should you be creating new sklearn objects! Carry the data through the feature scaling, PCA, and clustering steps, obtaining cluster assignments for all of the data in the customer demographics data."
   ]
  },
  {
   "cell_type": "code",
   "execution_count": 104,
   "metadata": {},
   "outputs": [],
   "source": [
    "# Load in the customer demographics data.\n",
    "customers = pd.read_csv('Udacity_CUSTOMERS_Subset.csv',delimiter=';')"
   ]
  },
  {
   "cell_type": "code",
   "execution_count": 106,
   "metadata": {},
   "outputs": [],
   "source": [
    "# feat = feat_info[feat_info['attribute'].isin(customers.columns)]"
   ]
  },
  {
   "cell_type": "code",
   "execution_count": 107,
   "metadata": {},
   "outputs": [
    {
     "name": "stderr",
     "output_type": "stream",
     "text": [
      "/opt/conda/lib/python3.6/site-packages/pandas/core/frame.py:3697: SettingWithCopyWarning: \n",
      "A value is trying to be set on a copy of a slice from a DataFrame\n",
      "\n",
      "See the caveats in the documentation: http://pandas.pydata.org/pandas-docs/stable/indexing.html#indexing-view-versus-copy\n",
      "  errors=errors)\n",
      "/opt/conda/lib/python3.6/site-packages/ipykernel_launcher.py:49: SettingWithCopyWarning: \n",
      "A value is trying to be set on a copy of a slice from a DataFrame.\n",
      "Try using .loc[row_indexer,col_indexer] = value instead\n",
      "\n",
      "See the caveats in the documentation: http://pandas.pydata.org/pandas-docs/stable/indexing.html#indexing-view-versus-copy\n"
     ]
    }
   ],
   "source": [
    "feat_info = feat_info[feat_info['attribute'].isin(customers.columns)]\n",
    "customersClean = clean_data(customers)"
   ]
  },
  {
   "cell_type": "code",
   "execution_count": 108,
   "metadata": {},
   "outputs": [
    {
     "data": {
      "text/plain": [
       "242669"
      ]
     },
     "execution_count": 108,
     "metadata": {},
     "output_type": "execute_result"
    }
   ],
   "source": [
    "customersClean.isna().sum().sum()"
   ]
  },
  {
   "cell_type": "code",
   "execution_count": 109,
   "metadata": {},
   "outputs": [
    {
     "data": {
      "text/plain": [
       "Index(['ALTERSKATEGORIE_GROB', 'ANREDE_KZ', 'FINANZ_MINIMALIST',\n",
       "       'FINANZ_SPARER', 'FINANZ_VORSORGER', 'FINANZ_ANLEGER',\n",
       "       'FINANZ_UNAUFFAELLIGER', 'FINANZ_HAUSBAUER', 'GREEN_AVANTGARDE',\n",
       "       'RETOURTYP_BK_S', 'SEMIO_SOZ', 'SEMIO_FAM', 'SEMIO_REL', 'SEMIO_MAT',\n",
       "       'SEMIO_VERT', 'SEMIO_LUST', 'SEMIO_ERL', 'SEMIO_KULT', 'SEMIO_RAT',\n",
       "       'SEMIO_KRIT', 'SEMIO_DOM', 'SEMIO_KAEM', 'SEMIO_PFLICHT', 'SEMIO_TRADV',\n",
       "       'SOHO_KZ', 'ANZ_PERSONEN', 'ANZ_TITEL', 'HH_EINKOMMEN_SCORE',\n",
       "       'WOHNDAUER_2008', 'KONSUMNAEHE', 'ONLINE_AFFINITAET'],\n",
       "      dtype='object')"
      ]
     },
     "execution_count": 109,
     "metadata": {},
     "output_type": "execute_result"
    }
   ],
   "source": [
    "customersClean.columns"
   ]
  },
  {
   "cell_type": "code",
   "execution_count": 110,
   "metadata": {},
   "outputs": [
    {
     "data": {
      "text/plain": [
       "(191652, 31)"
      ]
     },
     "execution_count": 110,
     "metadata": {},
     "output_type": "execute_result"
    }
   ],
   "source": [
    "customersClean.shape"
   ]
  },
  {
   "cell_type": "code",
   "execution_count": 113,
   "metadata": {},
   "outputs": [],
   "source": [
    "nrows = customersClean.shape[0]\n",
    "\n",
    "dfDummy = pd.DataFrame(np.zeros(nrows*37).reshape(nrows,37))\n",
    "\n",
    "customersClean2=pd.concat([customersClean,dfDummy],axis=1)"
   ]
  },
  {
   "cell_type": "code",
   "execution_count": 114,
   "metadata": {},
   "outputs": [
    {
     "data": {
      "text/plain": [
       "(191652, 68)"
      ]
     },
     "execution_count": 114,
     "metadata": {},
     "output_type": "execute_result"
    }
   ],
   "source": [
    "customersClean2.shape"
   ]
  },
  {
   "cell_type": "code",
   "execution_count": 115,
   "metadata": {},
   "outputs": [
    {
     "data": {
      "text/html": [
       "<div>\n",
       "<style scoped>\n",
       "    .dataframe tbody tr th:only-of-type {\n",
       "        vertical-align: middle;\n",
       "    }\n",
       "\n",
       "    .dataframe tbody tr th {\n",
       "        vertical-align: top;\n",
       "    }\n",
       "\n",
       "    .dataframe thead th {\n",
       "        text-align: right;\n",
       "    }\n",
       "</style>\n",
       "<table border=\"1\" class=\"dataframe\">\n",
       "  <thead>\n",
       "    <tr style=\"text-align: right;\">\n",
       "      <th></th>\n",
       "      <th>ALTERSKATEGORIE_GROB</th>\n",
       "      <th>ANREDE_KZ</th>\n",
       "      <th>FINANZ_MINIMALIST</th>\n",
       "      <th>FINANZ_SPARER</th>\n",
       "      <th>FINANZ_VORSORGER</th>\n",
       "      <th>FINANZ_ANLEGER</th>\n",
       "      <th>FINANZ_UNAUFFAELLIGER</th>\n",
       "      <th>FINANZ_HAUSBAUER</th>\n",
       "      <th>GREEN_AVANTGARDE</th>\n",
       "      <th>RETOURTYP_BK_S</th>\n",
       "      <th>...</th>\n",
       "      <th>27</th>\n",
       "      <th>28</th>\n",
       "      <th>29</th>\n",
       "      <th>30</th>\n",
       "      <th>31</th>\n",
       "      <th>32</th>\n",
       "      <th>33</th>\n",
       "      <th>34</th>\n",
       "      <th>35</th>\n",
       "      <th>36</th>\n",
       "    </tr>\n",
       "  </thead>\n",
       "  <tbody>\n",
       "    <tr>\n",
       "      <th>0</th>\n",
       "      <td>4.0</td>\n",
       "      <td>1.0</td>\n",
       "      <td>5.0</td>\n",
       "      <td>1.0</td>\n",
       "      <td>5.0</td>\n",
       "      <td>1.0</td>\n",
       "      <td>2.0</td>\n",
       "      <td>2.0</td>\n",
       "      <td>1.0</td>\n",
       "      <td>5.0</td>\n",
       "      <td>...</td>\n",
       "      <td>0.0</td>\n",
       "      <td>0.0</td>\n",
       "      <td>0.0</td>\n",
       "      <td>0.0</td>\n",
       "      <td>0.0</td>\n",
       "      <td>0.0</td>\n",
       "      <td>0.0</td>\n",
       "      <td>0.0</td>\n",
       "      <td>0.0</td>\n",
       "      <td>0.0</td>\n",
       "    </tr>\n",
       "    <tr>\n",
       "      <th>1</th>\n",
       "      <td>4.0</td>\n",
       "      <td>1.0</td>\n",
       "      <td>5.0</td>\n",
       "      <td>1.0</td>\n",
       "      <td>5.0</td>\n",
       "      <td>1.0</td>\n",
       "      <td>3.0</td>\n",
       "      <td>2.0</td>\n",
       "      <td>0.0</td>\n",
       "      <td>3.0</td>\n",
       "      <td>...</td>\n",
       "      <td>0.0</td>\n",
       "      <td>0.0</td>\n",
       "      <td>0.0</td>\n",
       "      <td>0.0</td>\n",
       "      <td>0.0</td>\n",
       "      <td>0.0</td>\n",
       "      <td>0.0</td>\n",
       "      <td>0.0</td>\n",
       "      <td>0.0</td>\n",
       "      <td>0.0</td>\n",
       "    </tr>\n",
       "    <tr>\n",
       "      <th>2</th>\n",
       "      <td>4.0</td>\n",
       "      <td>2.0</td>\n",
       "      <td>5.0</td>\n",
       "      <td>1.0</td>\n",
       "      <td>5.0</td>\n",
       "      <td>1.0</td>\n",
       "      <td>4.0</td>\n",
       "      <td>4.0</td>\n",
       "      <td>1.0</td>\n",
       "      <td>5.0</td>\n",
       "      <td>...</td>\n",
       "      <td>0.0</td>\n",
       "      <td>0.0</td>\n",
       "      <td>0.0</td>\n",
       "      <td>0.0</td>\n",
       "      <td>0.0</td>\n",
       "      <td>0.0</td>\n",
       "      <td>0.0</td>\n",
       "      <td>0.0</td>\n",
       "      <td>0.0</td>\n",
       "      <td>0.0</td>\n",
       "    </tr>\n",
       "    <tr>\n",
       "      <th>3</th>\n",
       "      <td>4.0</td>\n",
       "      <td>1.0</td>\n",
       "      <td>5.0</td>\n",
       "      <td>1.0</td>\n",
       "      <td>5.0</td>\n",
       "      <td>2.0</td>\n",
       "      <td>1.0</td>\n",
       "      <td>2.0</td>\n",
       "      <td>0.0</td>\n",
       "      <td>3.0</td>\n",
       "      <td>...</td>\n",
       "      <td>0.0</td>\n",
       "      <td>0.0</td>\n",
       "      <td>0.0</td>\n",
       "      <td>0.0</td>\n",
       "      <td>0.0</td>\n",
       "      <td>0.0</td>\n",
       "      <td>0.0</td>\n",
       "      <td>0.0</td>\n",
       "      <td>0.0</td>\n",
       "      <td>0.0</td>\n",
       "    </tr>\n",
       "    <tr>\n",
       "      <th>4</th>\n",
       "      <td>3.0</td>\n",
       "      <td>1.0</td>\n",
       "      <td>3.0</td>\n",
       "      <td>1.0</td>\n",
       "      <td>4.0</td>\n",
       "      <td>4.0</td>\n",
       "      <td>5.0</td>\n",
       "      <td>2.0</td>\n",
       "      <td>0.0</td>\n",
       "      <td>5.0</td>\n",
       "      <td>...</td>\n",
       "      <td>0.0</td>\n",
       "      <td>0.0</td>\n",
       "      <td>0.0</td>\n",
       "      <td>0.0</td>\n",
       "      <td>0.0</td>\n",
       "      <td>0.0</td>\n",
       "      <td>0.0</td>\n",
       "      <td>0.0</td>\n",
       "      <td>0.0</td>\n",
       "      <td>0.0</td>\n",
       "    </tr>\n",
       "  </tbody>\n",
       "</table>\n",
       "<p>5 rows × 68 columns</p>\n",
       "</div>"
      ],
      "text/plain": [
       "   ALTERSKATEGORIE_GROB  ANREDE_KZ  FINANZ_MINIMALIST  FINANZ_SPARER  \\\n",
       "0                   4.0        1.0                5.0            1.0   \n",
       "1                   4.0        1.0                5.0            1.0   \n",
       "2                   4.0        2.0                5.0            1.0   \n",
       "3                   4.0        1.0                5.0            1.0   \n",
       "4                   3.0        1.0                3.0            1.0   \n",
       "\n",
       "   FINANZ_VORSORGER  FINANZ_ANLEGER  FINANZ_UNAUFFAELLIGER  FINANZ_HAUSBAUER  \\\n",
       "0               5.0             1.0                    2.0               2.0   \n",
       "1               5.0             1.0                    3.0               2.0   \n",
       "2               5.0             1.0                    4.0               4.0   \n",
       "3               5.0             2.0                    1.0               2.0   \n",
       "4               4.0             4.0                    5.0               2.0   \n",
       "\n",
       "   GREEN_AVANTGARDE  RETOURTYP_BK_S ...    27   28   29   30   31   32   33  \\\n",
       "0               1.0             5.0 ...   0.0  0.0  0.0  0.0  0.0  0.0  0.0   \n",
       "1               0.0             3.0 ...   0.0  0.0  0.0  0.0  0.0  0.0  0.0   \n",
       "2               1.0             5.0 ...   0.0  0.0  0.0  0.0  0.0  0.0  0.0   \n",
       "3               0.0             3.0 ...   0.0  0.0  0.0  0.0  0.0  0.0  0.0   \n",
       "4               0.0             5.0 ...   0.0  0.0  0.0  0.0  0.0  0.0  0.0   \n",
       "\n",
       "    34   35   36  \n",
       "0  0.0  0.0  0.0  \n",
       "1  0.0  0.0  0.0  \n",
       "2  0.0  0.0  0.0  \n",
       "3  0.0  0.0  0.0  \n",
       "4  0.0  0.0  0.0  \n",
       "\n",
       "[5 rows x 68 columns]"
      ]
     },
     "execution_count": 115,
     "metadata": {},
     "output_type": "execute_result"
    }
   ],
   "source": [
    "customersImputer = imputer.transform(customersClean2)\n",
    "cols = customersClean2.columns\n",
    "customersImputer = pd.DataFrame(customersImputer, columns=cols)\n",
    "customersImputer.head()"
   ]
  },
  {
   "cell_type": "code",
   "execution_count": null,
   "metadata": {},
   "outputs": [],
   "source": [
    "# imputer = Imputer(strategy='most_frequent')\n",
    "# customersImputer = imputer.fit_transform(customersClean)\n",
    "# cols = customersClean.columns\n",
    "# customersImputer = pd.DataFrame(customersImputer, columns=cols)\n",
    "# customersImputer.head()"
   ]
  },
  {
   "cell_type": "code",
   "execution_count": 116,
   "metadata": {},
   "outputs": [
    {
     "data": {
      "text/plain": [
       "0"
      ]
     },
     "execution_count": 116,
     "metadata": {},
     "output_type": "execute_result"
    }
   ],
   "source": [
    "customersImputer.isna().sum().sum()"
   ]
  },
  {
   "cell_type": "code",
   "execution_count": 117,
   "metadata": {},
   "outputs": [],
   "source": [
    "customersScaled = scaler.transform(customersImputer)\n",
    "customersScaled = pd.DataFrame(customersScaled, columns=customersImputer.columns)"
   ]
  },
  {
   "cell_type": "code",
   "execution_count": 118,
   "metadata": {},
   "outputs": [],
   "source": [
    "# scaler = StandardScaler()\n",
    "# customersScaled = scaler.fit_transform(customersImputer)\n",
    "# customersScaled = pd.DataFrame(customersScaled, columns=customersImputer.columns)"
   ]
  },
  {
   "cell_type": "code",
   "execution_count": 119,
   "metadata": {},
   "outputs": [
    {
     "data": {
      "text/plain": [
       "(191652, 68)"
      ]
     },
     "execution_count": 119,
     "metadata": {},
     "output_type": "execute_result"
    }
   ],
   "source": [
    "customersScaled.shape"
   ]
  },
  {
   "cell_type": "code",
   "execution_count": null,
   "metadata": {},
   "outputs": [],
   "source": [
    "# Apply preprocessing, feature transformation, and clustering from the general\n",
    "# demographics onto the customer data, obtaining cluster predictions for the\n",
    "# customer demographics data.\n",
    "# feat_info = feat_info[feat_info['attribute'].isin(customers.columns)]\n",
    "# customersClean = clean_data(customers)\n",
    "# ReDo All previous transformation in the new data\n",
    "# customersScaled = scaler.transform(customersImputer)"
   ]
  },
  {
   "cell_type": "code",
   "execution_count": 120,
   "metadata": {},
   "outputs": [],
   "source": [
    "# nrows = customersScaled.shape[0]\n",
    "# nrows\n",
    "\n",
    "# dfDummy = pd.DataFrame(np.zeros(nrows*37).reshape(nrows,37))\n",
    "\n",
    "# customersScaled2=pd.concat([customersScaled,dfDummy],axis=1)\n",
    "\n",
    "customersPCA = pca.transform(customersScaled)"
   ]
  },
  {
   "cell_type": "code",
   "execution_count": 121,
   "metadata": {},
   "outputs": [],
   "source": [
    "#Make a predict\n",
    "customersPredict = kmeans.predict(customersPCA)"
   ]
  },
  {
   "cell_type": "markdown",
   "metadata": {},
   "source": [
    "### Step 3.3: Compare Customer Data to Demographics Data\n",
    "\n",
    "At this point, you have clustered data based on demographics of the general population of Germany, and seen how the customer data for a mail-order sales company maps onto those demographic clusters. In this final substep, you will compare the two cluster distributions to see where the strongest customer base for the company is.\n",
    "\n",
    "Consider the proportion of persons in each cluster for the general population, and the proportions for the customers. If we think the company's customer base to be universal, then the cluster assignment proportions should be fairly similar between the two. If there are only particular segments of the population that are interested in the company's products, then we should see a mismatch from one to the other. If there is a higher proportion of persons in a cluster for the customer data compared to the general population (e.g. 5% of persons are assigned to a cluster for the general population, but 15% of the customer data is closest to that cluster's centroid) then that suggests the people in that cluster to be a target audience for the company. On the other hand, the proportion of the data in a cluster being larger in the general population than the customer data (e.g. only 2% of customers closest to a population centroid that captures 6% of the data) suggests that group of persons to be outside of the target demographics.\n",
    "\n",
    "Take a look at the following points in this step:\n",
    "\n",
    "- Compute the proportion of data points in each cluster for the general population and the customer data. Visualizations will be useful here: both for the individual dataset proportions, but also to visualize the ratios in cluster representation between groups. Seaborn's [`countplot()`](https://seaborn.pydata.org/generated/seaborn.countplot.html) or [`barplot()`](https://seaborn.pydata.org/generated/seaborn.barplot.html) function could be handy.\n",
    "  - Recall the analysis you performed in step 1.1.3 of the project, where you separated out certain data points from the dataset if they had more than a specified threshold of missing values. If you found that this group was qualitatively different from the main bulk of the data, you should treat this as an additional data cluster in this analysis. Make sure that you account for the number of data points in this subset, for both the general population and customer datasets, when making your computations!\n",
    "- Which cluster or clusters are overrepresented in the customer dataset compared to the general population? Select at least one such cluster and infer what kind of people might be represented by that cluster. Use the principal component interpretations from step 2.3 or look at additional components to help you make this inference. Alternatively, you can use the `.inverse_transform()` method of the PCA and StandardScaler objects to transform centroids back to the original data space and interpret the retrieved values directly.\n",
    "- Perform a similar investigation for the underrepresented clusters. Which cluster or clusters are underrepresented in the customer dataset compared to the general population, and what kinds of people are typified by these clusters?"
   ]
  },
  {
   "cell_type": "code",
   "execution_count": 123,
   "metadata": {},
   "outputs": [
    {
     "data": {
      "text/plain": [
       "Text(0.5,1,'Customer Cluster Prediction')"
      ]
     },
     "execution_count": 123,
     "metadata": {},
     "output_type": "execute_result"
    },
    {
     "data": {
      "image/png": "[encoded data removed]",
      "text/plain": [
       "<matplotlib.figure.Figure at 0x7fd3574a1be0>"
      ]
     },
     "metadata": {
      "needs_background": "light"
     },
     "output_type": "display_data"
    }
   ],
   "source": [
    "# Compare the proportion of data in each cluster for the customer data to the\n",
    "# proportion of data in each cluster for the general population.\n",
    "\n",
    "fig, (ax1,ax2) = plt.subplots(1,2,figsize=(15,5))\n",
    "sns.countplot(preds,ax=ax1)\n",
    "ax1.set_title('General Cluster Prediction')\n",
    "sns.countplot(customersPredict,ax=ax2)\n",
    "ax2.set_title('Customer Cluster Prediction')"
   ]
  },
  {
   "cell_type": "code",
   "execution_count": 124,
   "metadata": {},
   "outputs": [
    {
     "data": {
      "text/plain": [
       "array([  3.10056437e+00,   1.45512702e+00,   3.48267231e+00,\n",
       "         2.15282551e+00,   3.86644345e+00,   2.21758424e+00,\n",
       "         2.32202712e+00,   3.14536004e+00,   6.52433377e-01,\n",
       "         2.15354975e+00,   1.89886168e+01,   6.31278755e+00,\n",
       "         3.89039809e+00,   4.24336320e+00,   4.06543761e+00,\n",
       "         3.62490208e+00,   3.89840233e+00,   4.59340866e+00,\n",
       "         5.06052627e+00,   4.71067489e+00,   3.86287185e+00,\n",
       "         3.52704007e+00,   4.44803222e+00,   4.61409079e+00,\n",
       "         4.11835581e+00,   3.68984009e+00,   3.32769437e+00,\n",
       "         1.07960053e-02,   1.59395811e+00,   2.20374261e+00,\n",
       "         1.02184404e+00,   3.47561498e+00,   4.50782708e+00,\n",
       "         8.49058952e+00,   1.68382748e+01,   1.80068440e+00,\n",
       "         2.45422764e+00,   1.99300298e+03,   1.99729152e-01,\n",
       "         3.50665378e+00,   1.50153677e+00,   1.25350072e+00,\n",
       "         4.05091432e-01,   3.10584729e-01,   3.24375902e+00,\n",
       "         3.77532294e+00,   4.35277105e+00,   4.16672166e+00,\n",
       "         3.37530876e+00,   2.15337580e+00,   2.90444424e+00,\n",
       "         2.58302025e+00,   3.68981393e+00,   6.45429839e+02,\n",
       "         2.11470797e+00,   2.91879233e+00,   1.72843354e+00,\n",
       "         7.83105480e-01,   2.19757650e+00,   3.72261094e+00,\n",
       "         3.32147226e+00,   3.13602424e+00,   5.87675141e+00,\n",
       "         3.17144820e+00,   6.87121483e+01,   6.52433377e-01,\n",
       "         2.87907032e+00,   3.32937263e+00])"
      ]
     },
     "execution_count": 124,
     "metadata": {},
     "output_type": "execute_result"
    }
   ],
   "source": [
    "# What kinds of people are part of a cluster that is overrepresented in the\n",
    "# customer data compared to the general population?\n",
    "centroid11 = scaler.inverse_transform(pca.inverse_transform(kmeans.cluster_centers_[11]))\n",
    "centroid11"
   ]
  },
  {
   "cell_type": "code",
   "execution_count": 126,
   "metadata": {},
   "outputs": [
    {
     "data": {
      "text/plain": [
       "ALTERSKATEGORIE_GROB      3.100564\n",
       "ANREDE_KZ                 1.455127\n",
       "FINANZ_MINIMALIST         3.482672\n",
       "FINANZ_SPARER             2.152826\n",
       "FINANZ_VORSORGER          3.866443\n",
       "FINANZ_ANLEGER            2.217584\n",
       "FINANZ_UNAUFFAELLIGER     2.322027\n",
       "FINANZ_HAUSBAUER          3.145360\n",
       "GREEN_AVANTGARDE          0.652433\n",
       "RETOURTYP_BK_S            2.153550\n",
       "SEMIO_SOZ                18.988617\n",
       "SEMIO_FAM                 6.312788\n",
       "SEMIO_REL                 3.890398\n",
       "SEMIO_MAT                 4.243363\n",
       "SEMIO_VERT                4.065438\n",
       "SEMIO_LUST                3.624902\n",
       "SEMIO_ERL                 3.898402\n",
       "SEMIO_KULT                4.593409\n",
       "SEMIO_RAT                 5.060526\n",
       "SEMIO_KRIT                4.710675\n",
       "SEMIO_DOM                 3.862872\n",
       "SEMIO_KAEM                3.527040\n",
       "SEMIO_PFLICHT             4.448032\n",
       "SEMIO_TRADV               4.614091\n",
       "SOHO_KZ                   4.118356\n",
       "ANZ_PERSONEN              3.689840\n",
       "ANZ_TITEL                 3.327694\n",
       "HH_EINKOMMEN_SCORE        0.010796\n",
       "WOHNDAUER_2008            1.593958\n",
       "KONSUMNAEHE               2.203743\n",
       "ONLINE_AFFINITAET         1.021844\n",
       "dtype: float64"
      ]
     },
     "execution_count": 126,
     "metadata": {},
     "output_type": "execute_result"
    }
   ],
   "source": [
    "over = pd.Series(data=centroid11, index=customersClean2.columns)[:31]\n",
    "over"
   ]
  },
  {
   "cell_type": "code",
   "execution_count": 127,
   "metadata": {},
   "outputs": [
    {
     "data": {
      "text/plain": [
       "array([  3.33054330e+00,   1.03528685e+00,   3.14197928e+00,\n",
       "         2.13506505e+00,   3.98430111e+00,   1.60618355e+00,\n",
       "         1.77129005e+00,   3.72182219e+00,   8.97016374e-02,\n",
       "         2.46690180e+00,   1.07887493e+01,   3.50402435e+00,\n",
       "         4.40276478e+00,   4.99655238e+00,   5.31706052e+00,\n",
       "         3.87595888e+00,   4.31548813e+00,   5.78064300e+00,\n",
       "         4.99712780e+00,   4.26170104e+00,   5.08032783e+00,\n",
       "         2.69446592e+00,   3.72045420e+00,   3.40971045e+00,\n",
       "         3.10420650e+00,   3.27951393e+00,   2.87131339e+00,\n",
       "        -4.99697894e-06,   1.70309723e+00,   1.37674086e+00,\n",
       "         1.59901772e-05,   5.43132510e+00,   5.01749834e+00,\n",
       "         8.11877940e+00,   2.01424255e+01,   9.35250165e-02,\n",
       "         1.83229802e+00,   1.99233446e+03,   3.62348356e-01,\n",
       "         3.55780819e+00,   1.83955114e-01,   7.64600968e-01,\n",
       "         1.04512853e+00,   9.13572571e-01,   1.83182184e+00,\n",
       "         2.56494153e+00,   5.62200095e+00,   2.67882699e+00,\n",
       "         3.08115463e+00,   2.87830220e+00,   1.44413092e+00,\n",
       "         1.83254297e+00,   5.02933560e+00,   4.39070073e+02,\n",
       "         1.08666750e+00,   3.29172999e+00,   2.71442187e+00,\n",
       "         1.64352253e+00,   3.83367960e+00,   3.69793627e+00,\n",
       "         2.17874250e+00,   3.76615463e+00,   7.58172134e+00,\n",
       "         3.81404861e+00,   6.69569230e+01,   8.97016374e-02,\n",
       "         4.54903683e+00,   2.08084230e+00])"
      ]
     },
     "execution_count": 127,
     "metadata": {},
     "output_type": "execute_result"
    }
   ],
   "source": [
    "# What kinds of people are part of a cluster that is underrepresented in the\n",
    "# customer data compared to the general population?\n",
    "\n",
    "centroid9 = scaler.inverse_transform(pca.inverse_transform(kmeans.cluster_centers_[9]))\n",
    "centroid9\n"
   ]
  },
  {
   "cell_type": "code",
   "execution_count": 129,
   "metadata": {},
   "outputs": [
    {
     "data": {
      "text/plain": [
       "ALTERSKATEGORIE_GROB      3.330543\n",
       "ANREDE_KZ                 1.035287\n",
       "FINANZ_MINIMALIST         3.141979\n",
       "FINANZ_SPARER             2.135065\n",
       "FINANZ_VORSORGER          3.984301\n",
       "FINANZ_ANLEGER            1.606184\n",
       "FINANZ_UNAUFFAELLIGER     1.771290\n",
       "FINANZ_HAUSBAUER          3.721822\n",
       "GREEN_AVANTGARDE          0.089702\n",
       "RETOURTYP_BK_S            2.466902\n",
       "SEMIO_SOZ                10.788749\n",
       "SEMIO_FAM                 3.504024\n",
       "SEMIO_REL                 4.402765\n",
       "SEMIO_MAT                 4.996552\n",
       "SEMIO_VERT                5.317061\n",
       "SEMIO_LUST                3.875959\n",
       "SEMIO_ERL                 4.315488\n",
       "SEMIO_KULT                5.780643\n",
       "SEMIO_RAT                 4.997128\n",
       "SEMIO_KRIT                4.261701\n",
       "SEMIO_DOM                 5.080328\n",
       "SEMIO_KAEM                2.694466\n",
       "SEMIO_PFLICHT             3.720454\n",
       "SEMIO_TRADV               3.409710\n",
       "SOHO_KZ                   3.104206\n",
       "ANZ_PERSONEN              3.279514\n",
       "ANZ_TITEL                 2.871313\n",
       "HH_EINKOMMEN_SCORE       -0.000005\n",
       "WOHNDAUER_2008            1.703097\n",
       "KONSUMNAEHE               1.376741\n",
       "ONLINE_AFFINITAET         0.000016\n",
       "dtype: float64"
      ]
     },
     "execution_count": 129,
     "metadata": {},
     "output_type": "execute_result"
    }
   ],
   "source": [
    "under = pd.Series(data=centroid9, index=customersClean2.columns)[:31]\n",
    "under"
   ]
  },
  {
   "cell_type": "markdown",
   "metadata": {},
   "source": [
    "### Discussion 3.3: Compare Customer Data to Demographics Data\n",
    "\n",
    "(Double-click this cell and replace this text with your own text, reporting findings and conclusions from the clustering analysis. Can we describe segments of the population that are relatively popular with the mail-order company, or relatively unpopular with the company?)\n",
    "\n",
    "<b>\n",
    "The Cluster 11 is overrepresented in the cluster data, the segments of the population that are relatively popular with the mail-order are:\n",
    "    <li>ALTERSKATEGORIE_GROB=3.100564 => People between 46 - 60 years old</li>\n",
    "    <li>ANREDE_KZ=1.455127 => Female</li>\n",
    "    <li>SEMIO_SOZ=18.988617 => Socially-minded</li>\n",
    "The Cluster 9 is underpresedented and the segments of the population that are relatively unpopular are:\n",
    "    <li>ALTERSKATEGORIE_GROB=3.330543 => People between 46 - 60 years old</li>\n",
    "    <li>ANREDE_KZ=1.035287 => Male</li>\n",
    "    <li>SEMIO_SOZ=10.788749 => Socially-minded</li>\n",
    "    \n",
    "</b>"
   ]
  },
  {
   "cell_type": "markdown",
   "metadata": {},
   "source": [
    "> Congratulations on making it this far in the project! Before you finish, make sure to check through the entire notebook from top to bottom to make sure that your analysis follows a logical flow and all of your findings are documented in **Discussion** cells. Once you've checked over all of your work, you should export the notebook as an HTML document to submit for evaluation. You can do this from the menu, navigating to **File -> Download as -> HTML (.html)**. You will submit both that document and this notebook for your project submission."
   ]
  },
  {
   "cell_type": "code",
   "execution_count": null,
   "metadata": {},
   "outputs": [],
   "source": []
  }
 ],
 "metadata": {
  "kernelspec": {
   "display_name": "Python 3",
   "language": "python",
   "name": "python3"
  },
  "language_info": {
   "codemirror_mode": {
    "name": "ipython",
    "version": 3
   },
   "file_extension": ".py",
   "mimetype": "text/x-python",
   "name": "python",
   "nbconvert_exporter": "python",
   "pygments_lexer": "ipython3",
   "version": "3.6.3"
  }
 },
 "nbformat": 4,
 "nbformat_minor": 2
}
